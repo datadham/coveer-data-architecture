{
 "cells": [
  {
   "cell_type": "markdown",
   "id": "2fd0112e-44bf-48dd-882c-2952213bb739",
   "metadata": {},
   "source": [
    "---\n",
    "\n",
    "## Authentication System Database Schema\n",
    "\n",
    "This database schema is designed to handle user authentication, including features such as email/password signup, social login options, email validation, and password recovery. The schema includes three main tables: `Users`, `Social Logins`, and `Password Resets`.\n",
    "\n",
    "### 1. **Users Table**\n",
    "\n",
    "**Purpose**:  \n",
    "Stores the core credentials and profile information of each user. This is the central entity in the authentication system.\n",
    "\n",
    "**Fields**:\n",
    "\n",
    "| Field Name                | Data Type         | Description                                                  |\n",
    "|---------------------------|-------------------|--------------------------------------------------------------|\n",
    "| `user_id`                 | INTEGER           | Primary key, auto-incremented unique identifier for each user. |\n",
    "| `email`                   | VARCHAR(255)      | User's email address, must be unique.                         |\n",
    "| `password_hash`           | VARCHAR(255)      | Hash of the user's password.                                  |\n",
    "| `profile_type`            | ENUM('admin', 'user', 'guest') | Type of user profile, with default as 'user'.          |\n",
    "| `email_verified`          | BOOLEAN           | Boolean flag to indicate if the email address has been verified. |\n",
    "| `email_verification_token`| VARCHAR(255)      | Token used for the email verification process.                 |\n",
    "| `created_at`              | DATETIME          | Timestamp when the user account was created.                   |\n",
    "| `updated_at`              | DATETIME          | Timestamp when the user account was last updated.              |\n",
    "\n",
    "### 2. **Social Logins Table**\n",
    "\n",
    "**Purpose**:  \n",
    "Handles user authentication through social media platforms, linking social media accounts to user profiles in the `Users` table.\n",
    "\n",
    "**Fields**:\n",
    "\n",
    "| Field Name                | Data Type         | Description                                                  |\n",
    "|---------------------------|-------------------|--------------------------------------------------------------|\n",
    "| `social_id`               | INTEGER           | Primary key, auto-incremented unique identifier for each social login record. |\n",
    "| `user_id`                 | INTEGER           | Foreign key linking back to the `Users` table.               |\n",
    "| `provider`                | VARCHAR(50)       | Name of the social media platform (e.g., 'Google', 'Facebook'). |\n",
    "| `social_user_id`          | VARCHAR(255)      | Unique identifier provided by the social media platform.     |\n",
    "| `created_at`              | DATETIME          | Timestamp when the social login was created.                  |\n",
    "| `updated_at`              | DATETIME          | Timestamp when the social login was last updated.             |\n",
    "\n",
    "### 3. **Password Resets Table**\n",
    "\n",
    "**Purpose**:  \n",
    "Manages the process for users to reset their passwords, including storing reset tokens and their expiration times.\n",
    "\n",
    "**Fields**:\n",
    "\n",
    "| Field Name                | Data Type         | Description                                                  |\n",
    "|---------------------------|-------------------|--------------------------------------------------------------|\n",
    "| `reset_id`                | INTEGER           | Primary key, auto-incremented unique identifier for each password reset record. |\n",
    "| `user_id`                 | INTEGER           | Foreign key linking back to the `Users` table.               |\n",
    "| `reset_token`             | VARCHAR(255)      | Token used to authenticate the password reset request.       |\n",
    "| `expiration_date`         | DATETIME          | Expiry date and time for the reset token.                    |\n",
    "| `created_at`              | DATETIME          | Timestamp when the reset request was created.                 |\n",
    "| `used`                    | BOOLEAN           | Boolean flag to indicate whether the reset token has been used. |\n",
    "\n",
    "---\n"
   ]
  },
  {
   "cell_type": "code",
   "execution_count": 12,
   "id": "8fa73e7e-655f-4296-8c16-32a35544e34f",
   "metadata": {},
   "outputs": [],
   "source": [
    "from sqlalchemy import create_engine, text"
   ]
  },
  {
   "cell_type": "code",
   "execution_count": 13,
   "id": "48a39bef-0ac6-4d0c-93eb-f0d65f595f4d",
   "metadata": {},
   "outputs": [],
   "source": [
    "# Create an engine that stores data in the local directory's\n",
    "engine = create_engine('sqlite:///app.db', echo=True)"
   ]
  },
  {
   "cell_type": "code",
   "execution_count": 16,
   "id": "fc0ca4dc-2b9c-492e-a143-447f58c22b38",
   "metadata": {
    "collapsed": true,
    "jupyter": {
     "outputs_hidden": true
    },
    "tags": []
   },
   "outputs": [
    {
     "name": "stdout",
     "output_type": "stream",
     "text": [
      "2024-04-16 07:13:08,287 INFO sqlalchemy.engine.Engine DROP TABLE IF EXISTS users\n",
      "2024-04-16 07:13:08,290 INFO sqlalchemy.engine.Engine [raw sql] ()\n",
      "2024-04-16 07:13:08,292 INFO sqlalchemy.engine.Engine COMMIT\n",
      "2024-04-16 07:13:08,295 INFO sqlalchemy.engine.Engine DROP TABLE IF EXISTS social_logins\n",
      "2024-04-16 07:13:08,297 INFO sqlalchemy.engine.Engine [raw sql] ()\n",
      "2024-04-16 07:13:08,300 INFO sqlalchemy.engine.Engine COMMIT\n",
      "2024-04-16 07:13:08,303 INFO sqlalchemy.engine.Engine DROP TABLE IF EXISTS password_resets\n",
      "2024-04-16 07:13:08,304 INFO sqlalchemy.engine.Engine [raw sql] ()\n",
      "2024-04-16 07:13:08,307 INFO sqlalchemy.engine.Engine COMMIT\n"
     ]
    }
   ],
   "source": [
    " tables = ['users','social_logins','password_resets']\n",
    "\n",
    "with engine.connect() as connection:\n",
    "    for table in tables:\n",
    "        engine.execute(f'DROP TABLE IF EXISTS {table}')\n",
    "    "
   ]
  },
  {
   "cell_type": "code",
   "execution_count": 17,
   "id": "ba8203dc-324e-4a20-aca6-b1f6d9f2cf9f",
   "metadata": {
    "tags": []
   },
   "outputs": [],
   "source": [
    "# Define raw SQL queries for table creation using text()\n",
    "create_users_table = text(\"\"\"\n",
    "CREATE TABLE IF NOT EXISTS users (\n",
    "    user_id INTEGER PRIMARY KEY AUTOINCREMENT,\n",
    "    email VARCHAR(255) UNIQUE NOT NULL,\n",
    "    password_hash VARCHAR(255) NOT NULL,\n",
    "    profile_type DEFAULT 'creator',\n",
    "    email_verified BOOLEAN NOT NULL DEFAULT 0,\n",
    "    email_verification_token VARCHAR(255),\n",
    "    created_at DATETIME DEFAULT CURRENT_TIMESTAMP,\n",
    "    updated_at DATETIME DEFAULT CURRENT_TIMESTAMP\n",
    ");\n",
    "\"\"\")\n",
    "\n",
    "create_social_logins_table = text(\"\"\"\n",
    "CREATE TABLE IF NOT EXISTS social_logins (\n",
    "    social_id INTEGER PRIMARY KEY AUTOINCREMENT,\n",
    "    user_id INTEGER NOT NULL,\n",
    "    provider VARCHAR(50) NOT NULL,\n",
    "    social_user_id VARCHAR(255) NOT NULL,\n",
    "    created_at DATETIME DEFAULT CURRENT_TIMESTAMP,\n",
    "    updated_at DATETIME DEFAULT CURRENT_TIMESTAMP,\n",
    "    FOREIGN KEY (user_id) REFERENCES users(user_id)\n",
    ");\n",
    "\"\"\")\n",
    "\n",
    "create_password_resets_table = text(\"\"\"\n",
    "CREATE TABLE IF NOT EXISTS password_resets (\n",
    "    reset_id INTEGER PRIMARY KEY AUTOINCREMENT,\n",
    "    user_id INTEGER NOT NULL,\n",
    "    reset_token VARCHAR(255) NOT NULL,\n",
    "    expiration_date DATETIME NOT NULL,\n",
    "    created_at DATETIME DEFAULT CURRENT_TIMESTAMP,\n",
    "    used BOOLEAN NOT NULL DEFAULT 0\n",
    ");\n",
    "\"\"\")"
   ]
  },
  {
   "cell_type": "code",
   "execution_count": 18,
   "id": "b736442f-bca6-4575-8d0f-7f9dabdf8ac6",
   "metadata": {
    "collapsed": true,
    "jupyter": {
     "outputs_hidden": true
    },
    "tags": []
   },
   "outputs": [
    {
     "name": "stdout",
     "output_type": "stream",
     "text": [
      "2024-04-16 07:13:15,761 INFO sqlalchemy.engine.Engine \n",
      "CREATE TABLE IF NOT EXISTS users (\n",
      "    user_id INTEGER PRIMARY KEY AUTOINCREMENT,\n",
      "    email VARCHAR(255) UNIQUE NOT NULL,\n",
      "    password_hash VARCHAR(255) NOT NULL,\n",
      "    profile_type DEFAULT 'creator',\n",
      "    email_verified BOOLEAN NOT NULL DEFAULT 0,\n",
      "    email_verification_token VARCHAR(255),\n",
      "    created_at DATETIME DEFAULT CURRENT_TIMESTAMP,\n",
      "    updated_at DATETIME DEFAULT CURRENT_TIMESTAMP\n",
      ");\n",
      "\n",
      "2024-04-16 07:13:15,765 INFO sqlalchemy.engine.Engine [generated in 0.00413s] ()\n",
      "2024-04-16 07:13:15,771 INFO sqlalchemy.engine.Engine COMMIT\n",
      "2024-04-16 07:13:15,775 INFO sqlalchemy.engine.Engine \n",
      "CREATE TABLE IF NOT EXISTS social_logins (\n",
      "    social_id INTEGER PRIMARY KEY AUTOINCREMENT,\n",
      "    user_id INTEGER NOT NULL,\n",
      "    provider VARCHAR(50) NOT NULL,\n",
      "    social_user_id VARCHAR(255) NOT NULL,\n",
      "    created_at DATETIME DEFAULT CURRENT_TIMESTAMP,\n",
      "    updated_at DATETIME DEFAULT CURRENT_TIMESTAMP,\n",
      "    FOREIGN KEY (user_id) REFERENCES users(user_id)\n",
      ");\n",
      "\n",
      "2024-04-16 07:13:15,776 INFO sqlalchemy.engine.Engine [generated in 0.00195s] ()\n",
      "2024-04-16 07:13:15,782 INFO sqlalchemy.engine.Engine COMMIT\n",
      "2024-04-16 07:13:15,784 INFO sqlalchemy.engine.Engine \n",
      "CREATE TABLE IF NOT EXISTS password_resets (\n",
      "    reset_id INTEGER PRIMARY KEY AUTOINCREMENT,\n",
      "    user_id INTEGER NOT NULL,\n",
      "    reset_token VARCHAR(255) NOT NULL,\n",
      "    expiration_date DATETIME NOT NULL,\n",
      "    created_at DATETIME DEFAULT CURRENT_TIMESTAMP,\n",
      "    used BOOLEAN NOT NULL DEFAULT 0\n",
      ");\n",
      "\n",
      "2024-04-16 07:13:15,787 INFO sqlalchemy.engine.Engine [generated in 0.00270s] ()\n",
      "2024-04-16 07:13:15,795 INFO sqlalchemy.engine.Engine COMMIT\n"
     ]
    }
   ],
   "source": [
    "# Execute SQL statements\n",
    "with engine.connect() as connection:\n",
    "    connection.execute(create_users_table)\n",
    "    connection.execute(create_social_logins_table)\n",
    "    connection.execute(create_password_resets_table)"
   ]
  },
  {
   "cell_type": "code",
   "execution_count": 19,
   "id": "193e0658-8e64-4bfd-8c0c-1f31c0053472",
   "metadata": {},
   "outputs": [
    {
     "name": "stdout",
     "output_type": "stream",
     "text": [
      "2024-04-16 07:13:26,081 INFO sqlalchemy.engine.Engine SELECT name FROM sqlite_master WHERE type='table';\n",
      "2024-04-16 07:13:26,084 INFO sqlalchemy.engine.Engine [raw sql] ()\n",
      "sqlite_sequence\n",
      "users\n",
      "social_logins\n",
      "password_resets\n"
     ]
    }
   ],
   "source": [
    "# Query to list all tables in a SQLite database\n",
    "list_tables_query = \"SELECT name FROM sqlite_master WHERE type='table';\"\n",
    "\n",
    "# Execute the query\n",
    "with engine.connect() as connection:\n",
    "    result = connection.execute(list_tables_query)\n",
    "    tables = result.fetchall()\n",
    "    for table in tables:\n",
    "        print(table[0])"
   ]
  },
  {
   "cell_type": "markdown",
   "id": "b69227c5-7f1b-400f-b965-7c819d1d04cb",
   "metadata": {},
   "source": [
    "## Adding a New User"
   ]
  },
  {
   "cell_type": "code",
   "execution_count": 11,
   "id": "8c9f05dc-113e-46b0-af6b-e27b2efde7ee",
   "metadata": {
    "collapsed": true,
    "jupyter": {
     "outputs_hidden": true
    },
    "tags": []
   },
   "outputs": [
    {
     "name": "stdout",
     "output_type": "stream",
     "text": [
      "2024-04-15 23:24:44,974 INFO sqlalchemy.engine.Engine INSERT INTO \n",
      "                    users (email, \n",
      "                           password_hash, \n",
      "                           profile_type, \n",
      "                           email_verified,\n",
      "                           email_verification_token)\n",
      "\n",
      "                    VALUES ('user@example.com',\n",
      "                            'hashed_password_here',\n",
      "                            'user', \n",
      "                            0, \n",
      "                            'verification_token_here');\n",
      "2024-04-15 23:24:44,975 INFO sqlalchemy.engine.Engine [cached since 14.92s ago] ()\n",
      "2024-04-15 23:24:44,978 INFO sqlalchemy.engine.Engine ROLLBACK\n"
     ]
    },
    {
     "ename": "IntegrityError",
     "evalue": "(sqlite3.IntegrityError) UNIQUE constraint failed: users.email\n[SQL: INSERT INTO \n                    users (email, \n                           password_hash, \n                           profile_type, \n                           email_verified,\n                           email_verification_token)\n\n                    VALUES ('user@example.com',\n                            'hashed_password_here',\n                            'user', \n                            0, \n                            'verification_token_here');]\n(Background on this error at: https://sqlalche.me/e/14/gkpj)",
     "output_type": "error",
     "traceback": [
      "\u001b[0;31m---------------------------------------------------------------------------\u001b[0m",
      "\u001b[0;31mIntegrityError\u001b[0m                            Traceback (most recent call last)",
      "\u001b[0;32m/opt/anaconda3/lib/python3.9/site-packages/sqlalchemy/engine/base.py\u001b[0m in \u001b[0;36m_execute_context\u001b[0;34m(self, dialect, constructor, statement, parameters, execution_options, *args, **kw)\u001b[0m\n\u001b[1;32m   1770\u001b[0m                 \u001b[0;32mif\u001b[0m \u001b[0;32mnot\u001b[0m \u001b[0mevt_handled\u001b[0m\u001b[0;34m:\u001b[0m\u001b[0;34m\u001b[0m\u001b[0;34m\u001b[0m\u001b[0m\n\u001b[0;32m-> 1771\u001b[0;31m                     self.dialect.do_execute(\n\u001b[0m\u001b[1;32m   1772\u001b[0m                         \u001b[0mcursor\u001b[0m\u001b[0;34m,\u001b[0m \u001b[0mstatement\u001b[0m\u001b[0;34m,\u001b[0m \u001b[0mparameters\u001b[0m\u001b[0;34m,\u001b[0m \u001b[0mcontext\u001b[0m\u001b[0;34m\u001b[0m\u001b[0;34m\u001b[0m\u001b[0m\n",
      "\u001b[0;32m/opt/anaconda3/lib/python3.9/site-packages/sqlalchemy/engine/default.py\u001b[0m in \u001b[0;36mdo_execute\u001b[0;34m(self, cursor, statement, parameters, context)\u001b[0m\n\u001b[1;32m    716\u001b[0m     \u001b[0;32mdef\u001b[0m \u001b[0mdo_execute\u001b[0m\u001b[0;34m(\u001b[0m\u001b[0mself\u001b[0m\u001b[0;34m,\u001b[0m \u001b[0mcursor\u001b[0m\u001b[0;34m,\u001b[0m \u001b[0mstatement\u001b[0m\u001b[0;34m,\u001b[0m \u001b[0mparameters\u001b[0m\u001b[0;34m,\u001b[0m \u001b[0mcontext\u001b[0m\u001b[0;34m=\u001b[0m\u001b[0;32mNone\u001b[0m\u001b[0;34m)\u001b[0m\u001b[0;34m:\u001b[0m\u001b[0;34m\u001b[0m\u001b[0;34m\u001b[0m\u001b[0m\n\u001b[0;32m--> 717\u001b[0;31m         \u001b[0mcursor\u001b[0m\u001b[0;34m.\u001b[0m\u001b[0mexecute\u001b[0m\u001b[0;34m(\u001b[0m\u001b[0mstatement\u001b[0m\u001b[0;34m,\u001b[0m \u001b[0mparameters\u001b[0m\u001b[0;34m)\u001b[0m\u001b[0;34m\u001b[0m\u001b[0;34m\u001b[0m\u001b[0m\n\u001b[0m\u001b[1;32m    718\u001b[0m \u001b[0;34m\u001b[0m\u001b[0m\n",
      "\u001b[0;31mIntegrityError\u001b[0m: UNIQUE constraint failed: users.email",
      "\nThe above exception was the direct cause of the following exception:\n",
      "\u001b[0;31mIntegrityError\u001b[0m                            Traceback (most recent call last)",
      "\u001b[0;32m/var/folders/5d/6z528s_s09ggzk7142dgylvc0000gn/T/ipykernel_59304/91538980.py\u001b[0m in \u001b[0;36m<module>\u001b[0;34m\u001b[0m\n\u001b[1;32m     13\u001b[0m \u001b[0;31m# Execute the query\u001b[0m\u001b[0;34m\u001b[0m\u001b[0;34m\u001b[0m\u001b[0m\n\u001b[1;32m     14\u001b[0m \u001b[0;32mwith\u001b[0m \u001b[0mengine\u001b[0m\u001b[0;34m.\u001b[0m\u001b[0mconnect\u001b[0m\u001b[0;34m(\u001b[0m\u001b[0;34m)\u001b[0m \u001b[0;32mas\u001b[0m \u001b[0mconnection\u001b[0m\u001b[0;34m:\u001b[0m\u001b[0;34m\u001b[0m\u001b[0;34m\u001b[0m\u001b[0m\n\u001b[0;32m---> 15\u001b[0;31m     \u001b[0mresult\u001b[0m \u001b[0;34m=\u001b[0m \u001b[0mconnection\u001b[0m\u001b[0;34m.\u001b[0m\u001b[0mexecute\u001b[0m\u001b[0;34m(\u001b[0m\u001b[0minsert_query\u001b[0m\u001b[0;34m)\u001b[0m\u001b[0;34m\u001b[0m\u001b[0;34m\u001b[0m\u001b[0m\n\u001b[0m",
      "\u001b[0;32m/opt/anaconda3/lib/python3.9/site-packages/sqlalchemy/engine/base.py\u001b[0m in \u001b[0;36mexecute\u001b[0;34m(self, statement, *multiparams, **params)\u001b[0m\n\u001b[1;32m   1261\u001b[0m             )\n\u001b[1;32m   1262\u001b[0m         \u001b[0;32melse\u001b[0m\u001b[0;34m:\u001b[0m\u001b[0;34m\u001b[0m\u001b[0;34m\u001b[0m\u001b[0m\n\u001b[0;32m-> 1263\u001b[0;31m             \u001b[0;32mreturn\u001b[0m \u001b[0mmeth\u001b[0m\u001b[0;34m(\u001b[0m\u001b[0mself\u001b[0m\u001b[0;34m,\u001b[0m \u001b[0mmultiparams\u001b[0m\u001b[0;34m,\u001b[0m \u001b[0mparams\u001b[0m\u001b[0;34m,\u001b[0m \u001b[0m_EMPTY_EXECUTION_OPTS\u001b[0m\u001b[0;34m)\u001b[0m\u001b[0;34m\u001b[0m\u001b[0;34m\u001b[0m\u001b[0m\n\u001b[0m\u001b[1;32m   1264\u001b[0m \u001b[0;34m\u001b[0m\u001b[0m\n\u001b[1;32m   1265\u001b[0m     \u001b[0;32mdef\u001b[0m \u001b[0m_execute_function\u001b[0m\u001b[0;34m(\u001b[0m\u001b[0mself\u001b[0m\u001b[0;34m,\u001b[0m \u001b[0mfunc\u001b[0m\u001b[0;34m,\u001b[0m \u001b[0mmultiparams\u001b[0m\u001b[0;34m,\u001b[0m \u001b[0mparams\u001b[0m\u001b[0;34m,\u001b[0m \u001b[0mexecution_options\u001b[0m\u001b[0;34m)\u001b[0m\u001b[0;34m:\u001b[0m\u001b[0;34m\u001b[0m\u001b[0;34m\u001b[0m\u001b[0m\n",
      "\u001b[0;32m/opt/anaconda3/lib/python3.9/site-packages/sqlalchemy/sql/elements.py\u001b[0m in \u001b[0;36m_execute_on_connection\u001b[0;34m(self, connection, multiparams, params, execution_options, _force)\u001b[0m\n\u001b[1;32m    321\u001b[0m     ):\n\u001b[1;32m    322\u001b[0m         \u001b[0;32mif\u001b[0m \u001b[0m_force\u001b[0m \u001b[0;32mor\u001b[0m \u001b[0mself\u001b[0m\u001b[0;34m.\u001b[0m\u001b[0msupports_execution\u001b[0m\u001b[0;34m:\u001b[0m\u001b[0;34m\u001b[0m\u001b[0;34m\u001b[0m\u001b[0m\n\u001b[0;32m--> 323\u001b[0;31m             return connection._execute_clauseelement(\n\u001b[0m\u001b[1;32m    324\u001b[0m                 \u001b[0mself\u001b[0m\u001b[0;34m,\u001b[0m \u001b[0mmultiparams\u001b[0m\u001b[0;34m,\u001b[0m \u001b[0mparams\u001b[0m\u001b[0;34m,\u001b[0m \u001b[0mexecution_options\u001b[0m\u001b[0;34m\u001b[0m\u001b[0;34m\u001b[0m\u001b[0m\n\u001b[1;32m    325\u001b[0m             )\n",
      "\u001b[0;32m/opt/anaconda3/lib/python3.9/site-packages/sqlalchemy/engine/base.py\u001b[0m in \u001b[0;36m_execute_clauseelement\u001b[0;34m(self, elem, multiparams, params, execution_options)\u001b[0m\n\u001b[1;32m   1450\u001b[0m             \u001b[0mlinting\u001b[0m\u001b[0;34m=\u001b[0m\u001b[0mself\u001b[0m\u001b[0;34m.\u001b[0m\u001b[0mdialect\u001b[0m\u001b[0;34m.\u001b[0m\u001b[0mcompiler_linting\u001b[0m \u001b[0;34m|\u001b[0m \u001b[0mcompiler\u001b[0m\u001b[0;34m.\u001b[0m\u001b[0mWARN_LINTING\u001b[0m\u001b[0;34m,\u001b[0m\u001b[0;34m\u001b[0m\u001b[0;34m\u001b[0m\u001b[0m\n\u001b[1;32m   1451\u001b[0m         )\n\u001b[0;32m-> 1452\u001b[0;31m         ret = self._execute_context(\n\u001b[0m\u001b[1;32m   1453\u001b[0m             \u001b[0mdialect\u001b[0m\u001b[0;34m,\u001b[0m\u001b[0;34m\u001b[0m\u001b[0;34m\u001b[0m\u001b[0m\n\u001b[1;32m   1454\u001b[0m             \u001b[0mdialect\u001b[0m\u001b[0;34m.\u001b[0m\u001b[0mexecution_ctx_cls\u001b[0m\u001b[0;34m.\u001b[0m\u001b[0m_init_compiled\u001b[0m\u001b[0;34m,\u001b[0m\u001b[0;34m\u001b[0m\u001b[0;34m\u001b[0m\u001b[0m\n",
      "\u001b[0;32m/opt/anaconda3/lib/python3.9/site-packages/sqlalchemy/engine/base.py\u001b[0m in \u001b[0;36m_execute_context\u001b[0;34m(self, dialect, constructor, statement, parameters, execution_options, *args, **kw)\u001b[0m\n\u001b[1;32m   1812\u001b[0m \u001b[0;34m\u001b[0m\u001b[0m\n\u001b[1;32m   1813\u001b[0m         \u001b[0;32mexcept\u001b[0m \u001b[0mBaseException\u001b[0m \u001b[0;32mas\u001b[0m \u001b[0me\u001b[0m\u001b[0;34m:\u001b[0m\u001b[0;34m\u001b[0m\u001b[0;34m\u001b[0m\u001b[0m\n\u001b[0;32m-> 1814\u001b[0;31m             self._handle_dbapi_exception(\n\u001b[0m\u001b[1;32m   1815\u001b[0m                 \u001b[0me\u001b[0m\u001b[0;34m,\u001b[0m \u001b[0mstatement\u001b[0m\u001b[0;34m,\u001b[0m \u001b[0mparameters\u001b[0m\u001b[0;34m,\u001b[0m \u001b[0mcursor\u001b[0m\u001b[0;34m,\u001b[0m \u001b[0mcontext\u001b[0m\u001b[0;34m\u001b[0m\u001b[0;34m\u001b[0m\u001b[0m\n\u001b[1;32m   1816\u001b[0m             )\n",
      "\u001b[0;32m/opt/anaconda3/lib/python3.9/site-packages/sqlalchemy/engine/base.py\u001b[0m in \u001b[0;36m_handle_dbapi_exception\u001b[0;34m(self, e, statement, parameters, cursor, context)\u001b[0m\n\u001b[1;32m   1993\u001b[0m                 \u001b[0mutil\u001b[0m\u001b[0;34m.\u001b[0m\u001b[0mraise_\u001b[0m\u001b[0;34m(\u001b[0m\u001b[0mnewraise\u001b[0m\u001b[0;34m,\u001b[0m \u001b[0mwith_traceback\u001b[0m\u001b[0;34m=\u001b[0m\u001b[0mexc_info\u001b[0m\u001b[0;34m[\u001b[0m\u001b[0;36m2\u001b[0m\u001b[0;34m]\u001b[0m\u001b[0;34m,\u001b[0m \u001b[0mfrom_\u001b[0m\u001b[0;34m=\u001b[0m\u001b[0me\u001b[0m\u001b[0;34m)\u001b[0m\u001b[0;34m\u001b[0m\u001b[0;34m\u001b[0m\u001b[0m\n\u001b[1;32m   1994\u001b[0m             \u001b[0;32melif\u001b[0m \u001b[0mshould_wrap\u001b[0m\u001b[0;34m:\u001b[0m\u001b[0;34m\u001b[0m\u001b[0;34m\u001b[0m\u001b[0m\n\u001b[0;32m-> 1995\u001b[0;31m                 util.raise_(\n\u001b[0m\u001b[1;32m   1996\u001b[0m                     \u001b[0msqlalchemy_exception\u001b[0m\u001b[0;34m,\u001b[0m \u001b[0mwith_traceback\u001b[0m\u001b[0;34m=\u001b[0m\u001b[0mexc_info\u001b[0m\u001b[0;34m[\u001b[0m\u001b[0;36m2\u001b[0m\u001b[0;34m]\u001b[0m\u001b[0;34m,\u001b[0m \u001b[0mfrom_\u001b[0m\u001b[0;34m=\u001b[0m\u001b[0me\u001b[0m\u001b[0;34m\u001b[0m\u001b[0;34m\u001b[0m\u001b[0m\n\u001b[1;32m   1997\u001b[0m                 )\n",
      "\u001b[0;32m/opt/anaconda3/lib/python3.9/site-packages/sqlalchemy/util/compat.py\u001b[0m in \u001b[0;36mraise_\u001b[0;34m(***failed resolving arguments***)\u001b[0m\n\u001b[1;32m    205\u001b[0m \u001b[0;34m\u001b[0m\u001b[0m\n\u001b[1;32m    206\u001b[0m         \u001b[0;32mtry\u001b[0m\u001b[0;34m:\u001b[0m\u001b[0;34m\u001b[0m\u001b[0;34m\u001b[0m\u001b[0m\n\u001b[0;32m--> 207\u001b[0;31m             \u001b[0;32mraise\u001b[0m \u001b[0mexception\u001b[0m\u001b[0;34m\u001b[0m\u001b[0;34m\u001b[0m\u001b[0m\n\u001b[0m\u001b[1;32m    208\u001b[0m         \u001b[0;32mfinally\u001b[0m\u001b[0;34m:\u001b[0m\u001b[0;34m\u001b[0m\u001b[0;34m\u001b[0m\u001b[0m\n\u001b[1;32m    209\u001b[0m             \u001b[0;31m# credit to\u001b[0m\u001b[0;34m\u001b[0m\u001b[0;34m\u001b[0m\u001b[0m\n",
      "\u001b[0;32m/opt/anaconda3/lib/python3.9/site-packages/sqlalchemy/engine/base.py\u001b[0m in \u001b[0;36m_execute_context\u001b[0;34m(self, dialect, constructor, statement, parameters, execution_options, *args, **kw)\u001b[0m\n\u001b[1;32m   1769\u001b[0m                             \u001b[0;32mbreak\u001b[0m\u001b[0;34m\u001b[0m\u001b[0;34m\u001b[0m\u001b[0m\n\u001b[1;32m   1770\u001b[0m                 \u001b[0;32mif\u001b[0m \u001b[0;32mnot\u001b[0m \u001b[0mevt_handled\u001b[0m\u001b[0;34m:\u001b[0m\u001b[0;34m\u001b[0m\u001b[0;34m\u001b[0m\u001b[0m\n\u001b[0;32m-> 1771\u001b[0;31m                     self.dialect.do_execute(\n\u001b[0m\u001b[1;32m   1772\u001b[0m                         \u001b[0mcursor\u001b[0m\u001b[0;34m,\u001b[0m \u001b[0mstatement\u001b[0m\u001b[0;34m,\u001b[0m \u001b[0mparameters\u001b[0m\u001b[0;34m,\u001b[0m \u001b[0mcontext\u001b[0m\u001b[0;34m\u001b[0m\u001b[0;34m\u001b[0m\u001b[0m\n\u001b[1;32m   1773\u001b[0m                     )\n",
      "\u001b[0;32m/opt/anaconda3/lib/python3.9/site-packages/sqlalchemy/engine/default.py\u001b[0m in \u001b[0;36mdo_execute\u001b[0;34m(self, cursor, statement, parameters, context)\u001b[0m\n\u001b[1;32m    715\u001b[0m \u001b[0;34m\u001b[0m\u001b[0m\n\u001b[1;32m    716\u001b[0m     \u001b[0;32mdef\u001b[0m \u001b[0mdo_execute\u001b[0m\u001b[0;34m(\u001b[0m\u001b[0mself\u001b[0m\u001b[0;34m,\u001b[0m \u001b[0mcursor\u001b[0m\u001b[0;34m,\u001b[0m \u001b[0mstatement\u001b[0m\u001b[0;34m,\u001b[0m \u001b[0mparameters\u001b[0m\u001b[0;34m,\u001b[0m \u001b[0mcontext\u001b[0m\u001b[0;34m=\u001b[0m\u001b[0;32mNone\u001b[0m\u001b[0;34m)\u001b[0m\u001b[0;34m:\u001b[0m\u001b[0;34m\u001b[0m\u001b[0;34m\u001b[0m\u001b[0m\n\u001b[0;32m--> 717\u001b[0;31m         \u001b[0mcursor\u001b[0m\u001b[0;34m.\u001b[0m\u001b[0mexecute\u001b[0m\u001b[0;34m(\u001b[0m\u001b[0mstatement\u001b[0m\u001b[0;34m,\u001b[0m \u001b[0mparameters\u001b[0m\u001b[0;34m)\u001b[0m\u001b[0;34m\u001b[0m\u001b[0;34m\u001b[0m\u001b[0m\n\u001b[0m\u001b[1;32m    718\u001b[0m \u001b[0;34m\u001b[0m\u001b[0m\n\u001b[1;32m    719\u001b[0m     \u001b[0;32mdef\u001b[0m \u001b[0mdo_execute_no_params\u001b[0m\u001b[0;34m(\u001b[0m\u001b[0mself\u001b[0m\u001b[0;34m,\u001b[0m \u001b[0mcursor\u001b[0m\u001b[0;34m,\u001b[0m \u001b[0mstatement\u001b[0m\u001b[0;34m,\u001b[0m \u001b[0mcontext\u001b[0m\u001b[0;34m=\u001b[0m\u001b[0;32mNone\u001b[0m\u001b[0;34m)\u001b[0m\u001b[0;34m:\u001b[0m\u001b[0;34m\u001b[0m\u001b[0;34m\u001b[0m\u001b[0m\n",
      "\u001b[0;31mIntegrityError\u001b[0m: (sqlite3.IntegrityError) UNIQUE constraint failed: users.email\n[SQL: INSERT INTO \n                    users (email, \n                           password_hash, \n                           profile_type, \n                           email_verified,\n                           email_verification_token)\n\n                    VALUES ('user@example.com',\n                            'hashed_password_here',\n                            'user', \n                            0, \n                            'verification_token_here');]\n(Background on this error at: https://sqlalche.me/e/14/gkpj)"
     ]
    }
   ],
   "source": [
    "insert_query = text('''INSERT INTO \n",
    "                    users (email, \n",
    "                           password_hash, \n",
    "                           profile_type, \n",
    "                           email_verified,\n",
    "                           email_verification_token)\n",
    "\n",
    "                    VALUES ('user@example.com',\n",
    "                            'hashed_password_here',\n",
    "                            'user', \n",
    "                            0, \n",
    "                            'verification_token_here');''')\n",
    "# Execute the query\n",
    "with engine.connect() as connection:\n",
    "    result = connection.execute(insert_query)"
   ]
  },
  {
   "cell_type": "markdown",
   "id": "6a26f8a5-051f-4a3d-a1a6-626ad735ccda",
   "metadata": {},
   "source": [
    "## Verifying user email\n",
    "SET email_verified = 1, email_verification_token = NULL\n",
    "WHERE user_id = 1; \n",
    "\n",
    "\n",
    "-- Assume user_id = 1 is the user to verify"
   ]
  },
  {
   "cell_type": "code",
   "execution_count": 20,
   "id": "fc474c44-ef32-4924-aba1-a5f2e7b03d13",
   "metadata": {},
   "outputs": [],
   "source": [
    "import datetime\n",
    "import hashlib\n",
    "\n",
    "def hash_password(password):\n",
    "    return hashlib.sha256(password.encode()).hexdigest()"
   ]
  },
  {
   "cell_type": "code",
   "execution_count": null,
   "id": "c9b31f24-454e-4a59-afb1-ab9fd2ca5edb",
   "metadata": {},
   "outputs": [],
   "source": [
    "def register_user(email,password):\n",
    "    hashed_password = hash_password(password)\n",
    "    register_query = '''INSERT INTO users (email, \n",
    "                           password_hash, \n",
    "                           profile_type, \n",
    "                           email_verified,\n",
    "                           email_verification_token)"
   ]
  },
  {
   "cell_type": "code",
   "execution_count": null,
   "id": "7fa928ad-d9fa-46db-8338-385eebe25841",
   "metadata": {},
   "outputs": [],
   "source": []
  },
  {
   "cell_type": "code",
   "execution_count": null,
   "id": "010d3709-9bcf-4ecc-b416-46d86a56e945",
   "metadata": {},
   "outputs": [],
   "source": []
  },
  {
   "cell_type": "code",
   "execution_count": null,
   "id": "f46857f5-0e8d-45cb-a499-8a1a94277d19",
   "metadata": {},
   "outputs": [],
   "source": []
  }
 ],
 "metadata": {
  "kernelspec": {
   "display_name": "Python 3 (ipykernel)",
   "language": "python",
   "name": "python3"
  },
  "language_info": {
   "codemirror_mode": {
    "name": "ipython",
    "version": 3
   },
   "file_extension": ".py",
   "mimetype": "text/x-python",
   "name": "python",
   "nbconvert_exporter": "python",
   "pygments_lexer": "ipython3",
   "version": "3.9.7"
  }
 },
 "nbformat": 4,
 "nbformat_minor": 5
}
