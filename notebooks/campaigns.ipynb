{
 "cells": [
  {
   "cell_type": "code",
   "execution_count": 6,
   "metadata": {},
   "outputs": [],
   "source": [
    "import pandas as pd \n",
    "from datetime import datetime, timedelta\n",
    "from sqlalchemy import create_engine, text"
   ]
  },
  {
   "cell_type": "code",
   "execution_count": 7,
   "metadata": {},
   "outputs": [],
   "source": [
    "# Create an engine that stores data in the local directory's\n",
    "engine = create_engine('sqlite:///app.db', echo=True)"
   ]
  },
  {
   "cell_type": "markdown",
   "metadata": {},
   "source": [
    "campaigns target \n",
    "\n",
    "campaigns shared_url \n",
    "\n",
    "campaigns_profile \n",
    "\n",
    "campaign code : code promo "
   ]
  },
  {
   "cell_type": "code",
   "execution_count": 8,
   "metadata": {},
   "outputs": [],
   "source": [
    "create_campaigns_table = text('''CREATE TABLE IF NOT EXISTS campaigns (\n",
    "    campaign_id INTEGER PRIMARY KEY AUTOINCREMENT,\n",
    "    company_id INTEGER NOT NULL,                       \n",
    "    title VARCHAR(255) NOT NULL,\n",
    "    description TEXT,\n",
    "    start_date DATE,\n",
    "    end_date DATE,\n",
    "    campaign_status VARCHAR(100),\n",
    "    campaign_code VARCHAR(100),\n",
    "    target_audience VARCHAR(255),\n",
    "    budget DECIMAL(10, 2),\n",
    "    actual_spending DECIMAL(10, 2),\n",
    "    campaign_result TEXT,\n",
    "    FOREIGN KEY (company_id) REFERENCES companies(company_id) ON DELETE CASCADE\n",
    ");''')\n"
   ]
  },
  {
   "cell_type": "code",
   "execution_count": 12,
   "metadata": {},
   "outputs": [
    {
     "name": "stdout",
     "output_type": "stream",
     "text": [
      "2024-04-18 11:53:53,115 INFO sqlalchemy.engine.Engine BEGIN (implicit)\n",
      "2024-04-18 11:53:53,116 INFO sqlalchemy.engine.Engine CREATE TABLE IF NOT EXISTS campaigns (\n",
      "    campaign_id INTEGER PRIMARY KEY AUTOINCREMENT,\n",
      "    company_id INTEGER NOT NULL,                       \n",
      "    title VARCHAR(255) NOT NULL,\n",
      "    description TEXT,\n",
      "    start_date DATE,\n",
      "    end_date DATE,\n",
      "    campaign_status VARCHAR(100),\n",
      "    campaign_code VARCHAR(100),\n",
      "    target_audience VARCHAR(255),\n",
      "    budget DECIMAL(10, 2),\n",
      "    actual_spending DECIMAL(10, 2),\n",
      "    campaign_result TEXT,\n",
      "    FOREIGN KEY (company_id) REFERENCES companies(company_id) ON DELETE CASCADE\n",
      ");\n",
      "2024-04-18 11:53:53,118 INFO sqlalchemy.engine.Engine [cached since 10.45s ago] ()\n",
      "Campaigns table created successfully.\n",
      "2024-04-18 11:53:53,148 INFO sqlalchemy.engine.Engine ROLLBACK\n"
     ]
    }
   ],
   "source": [
    "# Assuming 'engine' is already defined and imported from SQLAlchemy setup\n",
    "with engine.connect() as connection:\n",
    "    connection.execute(create_campaigns_table)\n",
    "    print(\"Campaigns table created successfully.\")"
   ]
  },
  {
   "cell_type": "code",
   "execution_count": 10,
   "metadata": {},
   "outputs": [
    {
     "name": "stdout",
     "output_type": "stream",
     "text": [
      "2024-04-18 11:53:46,616 INFO sqlalchemy.engine.Engine BEGIN (implicit)\n",
      "2024-04-18 11:53:46,617 INFO sqlalchemy.engine.Engine DROP TABLE IF EXISTS campaigns\n",
      "2024-04-18 11:53:46,618 INFO sqlalchemy.engine.Engine [generated in 0.00126s] ()\n",
      "2024-04-18 11:53:46,624 INFO sqlalchemy.engine.Engine ROLLBACK\n"
     ]
    }
   ],
   "source": [
    "# Assuming 'engine' is already defined and imported from SQLAlchemy setup\n",
    "with engine.connect() as connection:\n",
    "    connection.execute(text('''DROP TABLE IF EXISTS campaigns'''))"
   ]
  },
  {
   "cell_type": "code",
   "execution_count": 13,
   "metadata": {},
   "outputs": [
    {
     "name": "stdout",
     "output_type": "stream",
     "text": [
      "2024-04-18 11:53:56,125 INFO sqlalchemy.engine.Engine BEGIN (implicit)\n",
      "2024-04-18 11:53:56,129 INFO sqlalchemy.engine.Engine PRAGMA main.table_info(\"SELECT * FROM campaigns\")\n",
      "2024-04-18 11:53:56,129 INFO sqlalchemy.engine.Engine [raw sql] ()\n",
      "2024-04-18 11:53:56,131 INFO sqlalchemy.engine.Engine PRAGMA temp.table_info(\"SELECT * FROM campaigns\")\n",
      "2024-04-18 11:53:56,132 INFO sqlalchemy.engine.Engine [raw sql] ()\n",
      "2024-04-18 11:53:56,133 INFO sqlalchemy.engine.Engine SELECT * FROM campaigns\n",
      "2024-04-18 11:53:56,133 INFO sqlalchemy.engine.Engine [raw sql] ()\n",
      "2024-04-18 11:53:56,136 INFO sqlalchemy.engine.Engine ROLLBACK\n"
     ]
    },
    {
     "data": {
      "text/html": [
       "<div>\n",
       "<style scoped>\n",
       "    .dataframe tbody tr th:only-of-type {\n",
       "        vertical-align: middle;\n",
       "    }\n",
       "\n",
       "    .dataframe tbody tr th {\n",
       "        vertical-align: top;\n",
       "    }\n",
       "\n",
       "    .dataframe thead th {\n",
       "        text-align: right;\n",
       "    }\n",
       "</style>\n",
       "<table border=\"1\" class=\"dataframe\">\n",
       "  <thead>\n",
       "    <tr style=\"text-align: right;\">\n",
       "      <th></th>\n",
       "      <th>campaign_id</th>\n",
       "      <th>company_id</th>\n",
       "      <th>title</th>\n",
       "      <th>description</th>\n",
       "      <th>start_date</th>\n",
       "      <th>end_date</th>\n",
       "      <th>campaign_status</th>\n",
       "      <th>campaign_code</th>\n",
       "      <th>target_audience</th>\n",
       "      <th>budget</th>\n",
       "      <th>actual_spending</th>\n",
       "      <th>campaign_result</th>\n",
       "    </tr>\n",
       "  </thead>\n",
       "  <tbody>\n",
       "  </tbody>\n",
       "</table>\n",
       "</div>"
      ],
      "text/plain": [
       "Empty DataFrame\n",
       "Columns: [campaign_id, company_id, title, description, start_date, end_date, campaign_status, campaign_code, target_audience, budget, actual_spending, campaign_result]\n",
       "Index: []"
      ]
     },
     "execution_count": 13,
     "metadata": {},
     "output_type": "execute_result"
    }
   ],
   "source": [
    "pd.read_sql('SELECT * FROM campaigns',engine)"
   ]
  },
  {
   "cell_type": "code",
   "execution_count": 1,
   "metadata": {},
   "outputs": [],
   "source": [
    "def add_campaign(company_id,title,**kwargs):\n",
    "    data = {'company_id': company_id,'title':title,**kwargs}\n",
    "    columns = ', '.join(data.keys())\n",
    "    placeholders = ', '.join(f\":{key}\" for key in data.keys())\n",
    "\n",
    "    insert_query = text(f\"\"\"\n",
    "            INSERT INTO campaigns ({columns})\n",
    "            VALUES ({placeholders});\n",
    "        \"\"\")\n",
    "    with engine.begin() as connection:\n",
    "        connection.execute(insert_query, data)\n",
    "        print(f\"Campaign added\")\n",
    "\n",
    "def modify_campaign(campaign_id,**kwargs):\n",
    "    updates = ', '.join(f\"{key} = :{key}\" for key in kwargs)\n",
    "    update_query = text(f\"\"\"\n",
    "        UPDATE campaigns\n",
    "        SET {updates}\n",
    "        WHERE campaign_id = :campaign_id;\n",
    "    \"\"\")\n",
    "    kwargs['campaign_id'] = campaign_id  # Include for WHERE clause\n",
    "    with engine.begin() as connection:\n",
    "        result = connection.execute(update_query, kwargs)\n",
    "        if result.rowcount > 0:\n",
    "            print(\"Campaign updated\")\n",
    "        else:\n",
    "            print(f\"No Campaign found with ID.\")\n",
    "\n",
    "def get_campaign(**kwargs):\n",
    "    if not kwargs:\n",
    "        print(\"No parameters provided to search for campaign.\")\n",
    "        return None\n",
    "\n",
    "    # Constructing the WHERE clause based on kwargs\n",
    "    conditions = [f\"{key} = :{key}\" for key in kwargs]\n",
    "    where_clause = \" AND \".join(conditions)\n",
    "    select_query = text(f\"SELECT * FROM campaigns WHERE {where_clause}\")\n",
    "\n",
    "    print(select_query)  # Optional: Print the query for debugging\n",
    "    with engine.connect() as connection:\n",
    "        result = connection.execute(select_query, kwargs).fetchone()\n",
    "        print(result)  # Optional: Print the raw result for debugging\n",
    "        \n",
    "        if result:\n",
    "            # Assuming we know the columns in order of the table\n",
    "            campaign_dict = {\n",
    "                'campaign_id': result[0],\n",
    "                'company_id': result[1],\n",
    "                'title': result[2],\n",
    "                'description': result[3],\n",
    "                'start_date': result[4],\n",
    "                'end_date': result[5],\n",
    "                'campaign_status': result[6],\n",
    "                'campaign_code': result[7],\n",
    "                'target_audience': result[8],\n",
    "                'budget': result[9],\n",
    "                'actual_spending': result[10],\n",
    "                'campaign_result': result[11],\n",
    "            }\n",
    "            \n",
    "            return campaign_dict\n",
    "        else:\n",
    "            print(\"Campaign not found.\")\n",
    "            return None\n",
    "        \n",
    "def delete_campaign(campaign_id):\n",
    "    delete_query = text(\"DELETE FROM companies WHERE campaign_id = :campaign_id\")\n",
    "\n",
    "    with engine.begin() as connection:\n",
    "        result = connection.execute(delete_query, {'campaign_id': campaign_id})\n",
    "        if result.rowcount > 0:\n",
    "            print(f\"Campaign deleted successfully.\")\n",
    "        else:\n",
    "            print(f\"No campaign found nothing deleted.\")\n"
   ]
  },
  {
   "cell_type": "code",
   "execution_count": 20,
   "metadata": {},
   "outputs": [
    {
     "name": "stdout",
     "output_type": "stream",
     "text": [
      "2024-04-18 11:56:05,427 INFO sqlalchemy.engine.Engine BEGIN (implicit)\n",
      "2024-04-18 11:56:05,428 INFO sqlalchemy.engine.Engine \n",
      "            INSERT INTO campaigns (company_id, title)\n",
      "            VALUES (?, ?);\n",
      "        \n",
      "2024-04-18 11:56:05,433 INFO sqlalchemy.engine.Engine [cached since 25.88s ago] (1, '')\n",
      "Campaign added\n",
      "2024-04-18 11:56:05,492 INFO sqlalchemy.engine.Engine COMMIT\n"
     ]
    }
   ],
   "source": [
    "add_campaign(company_id = 1,title='')"
   ]
  },
  {
   "cell_type": "code",
   "execution_count": 21,
   "metadata": {},
   "outputs": [
    {
     "name": "stdout",
     "output_type": "stream",
     "text": [
      "2024-04-18 11:56:07,732 INFO sqlalchemy.engine.Engine BEGIN (implicit)\n",
      "2024-04-18 11:56:07,733 INFO sqlalchemy.engine.Engine PRAGMA main.table_info(\"SELECT * FROM campaigns\")\n",
      "2024-04-18 11:56:07,734 INFO sqlalchemy.engine.Engine [raw sql] ()\n",
      "2024-04-18 11:56:07,735 INFO sqlalchemy.engine.Engine PRAGMA temp.table_info(\"SELECT * FROM campaigns\")\n",
      "2024-04-18 11:56:07,737 INFO sqlalchemy.engine.Engine [raw sql] ()\n",
      "2024-04-18 11:56:07,740 INFO sqlalchemy.engine.Engine SELECT * FROM campaigns\n",
      "2024-04-18 11:56:07,740 INFO sqlalchemy.engine.Engine [raw sql] ()\n",
      "2024-04-18 11:56:07,743 INFO sqlalchemy.engine.Engine ROLLBACK\n"
     ]
    },
    {
     "data": {
      "text/html": [
       "<div>\n",
       "<style scoped>\n",
       "    .dataframe tbody tr th:only-of-type {\n",
       "        vertical-align: middle;\n",
       "    }\n",
       "\n",
       "    .dataframe tbody tr th {\n",
       "        vertical-align: top;\n",
       "    }\n",
       "\n",
       "    .dataframe thead th {\n",
       "        text-align: right;\n",
       "    }\n",
       "</style>\n",
       "<table border=\"1\" class=\"dataframe\">\n",
       "  <thead>\n",
       "    <tr style=\"text-align: right;\">\n",
       "      <th></th>\n",
       "      <th>campaign_id</th>\n",
       "      <th>company_id</th>\n",
       "      <th>title</th>\n",
       "      <th>description</th>\n",
       "      <th>start_date</th>\n",
       "      <th>end_date</th>\n",
       "      <th>campaign_status</th>\n",
       "      <th>campaign_code</th>\n",
       "      <th>target_audience</th>\n",
       "      <th>budget</th>\n",
       "      <th>actual_spending</th>\n",
       "      <th>campaign_result</th>\n",
       "    </tr>\n",
       "  </thead>\n",
       "  <tbody>\n",
       "    <tr>\n",
       "      <th>0</th>\n",
       "      <td>1</td>\n",
       "      <td>1</td>\n",
       "      <td>dede</td>\n",
       "      <td>None</td>\n",
       "      <td>None</td>\n",
       "      <td>None</td>\n",
       "      <td>None</td>\n",
       "      <td>None</td>\n",
       "      <td>None</td>\n",
       "      <td>None</td>\n",
       "      <td>None</td>\n",
       "      <td>None</td>\n",
       "    </tr>\n",
       "    <tr>\n",
       "      <th>1</th>\n",
       "      <td>2</td>\n",
       "      <td>1</td>\n",
       "      <td></td>\n",
       "      <td>None</td>\n",
       "      <td>None</td>\n",
       "      <td>None</td>\n",
       "      <td>None</td>\n",
       "      <td>None</td>\n",
       "      <td>None</td>\n",
       "      <td>None</td>\n",
       "      <td>None</td>\n",
       "      <td>None</td>\n",
       "    </tr>\n",
       "  </tbody>\n",
       "</table>\n",
       "</div>"
      ],
      "text/plain": [
       "   campaign_id  company_id title description start_date end_date  \\\n",
       "0            1           1  dede        None       None     None   \n",
       "1            2           1              None       None     None   \n",
       "\n",
       "  campaign_status campaign_code target_audience budget actual_spending  \\\n",
       "0            None          None            None   None            None   \n",
       "1            None          None            None   None            None   \n",
       "\n",
       "  campaign_result  \n",
       "0            None  \n",
       "1            None  "
      ]
     },
     "execution_count": 21,
     "metadata": {},
     "output_type": "execute_result"
    }
   ],
   "source": [
    "pd.read_sql('SELECT * FROM campaigns', engine)"
   ]
  },
  {
   "cell_type": "code",
   "execution_count": 22,
   "metadata": {},
   "outputs": [
    {
     "name": "stdout",
     "output_type": "stream",
     "text": [
      "2024-04-18 11:57:10,662 INFO sqlalchemy.engine.Engine BEGIN (implicit)\n",
      "2024-04-18 11:57:10,663 INFO sqlalchemy.engine.Engine \n",
      "        UPDATE campaigns\n",
      "        SET title = ?\n",
      "        WHERE campaign_id = ?;\n",
      "    \n",
      "2024-04-18 11:57:10,663 INFO sqlalchemy.engine.Engine [generated in 0.00078s] ('Le nouveau titre hehehe', 2)\n",
      "Campaign updated\n",
      "2024-04-18 11:57:10,688 INFO sqlalchemy.engine.Engine COMMIT\n"
     ]
    }
   ],
   "source": [
    "modify_campaign(campaign_id=2 ,title='Le nouveau titre hehehe')"
   ]
  },
  {
   "cell_type": "code",
   "execution_count": 23,
   "metadata": {},
   "outputs": [
    {
     "name": "stdout",
     "output_type": "stream",
     "text": [
      "2024-04-18 11:57:12,980 INFO sqlalchemy.engine.Engine BEGIN (implicit)\n",
      "2024-04-18 11:57:12,981 INFO sqlalchemy.engine.Engine PRAGMA main.table_info(\"SELECT * FROM campaigns\")\n",
      "2024-04-18 11:57:12,981 INFO sqlalchemy.engine.Engine [raw sql] ()\n",
      "2024-04-18 11:57:12,982 INFO sqlalchemy.engine.Engine PRAGMA temp.table_info(\"SELECT * FROM campaigns\")\n",
      "2024-04-18 11:57:12,982 INFO sqlalchemy.engine.Engine [raw sql] ()\n",
      "2024-04-18 11:57:12,982 INFO sqlalchemy.engine.Engine SELECT * FROM campaigns\n",
      "2024-04-18 11:57:12,982 INFO sqlalchemy.engine.Engine [raw sql] ()\n",
      "2024-04-18 11:57:12,988 INFO sqlalchemy.engine.Engine ROLLBACK\n"
     ]
    },
    {
     "data": {
      "text/html": [
       "<div>\n",
       "<style scoped>\n",
       "    .dataframe tbody tr th:only-of-type {\n",
       "        vertical-align: middle;\n",
       "    }\n",
       "\n",
       "    .dataframe tbody tr th {\n",
       "        vertical-align: top;\n",
       "    }\n",
       "\n",
       "    .dataframe thead th {\n",
       "        text-align: right;\n",
       "    }\n",
       "</style>\n",
       "<table border=\"1\" class=\"dataframe\">\n",
       "  <thead>\n",
       "    <tr style=\"text-align: right;\">\n",
       "      <th></th>\n",
       "      <th>campaign_id</th>\n",
       "      <th>company_id</th>\n",
       "      <th>title</th>\n",
       "      <th>description</th>\n",
       "      <th>start_date</th>\n",
       "      <th>end_date</th>\n",
       "      <th>campaign_status</th>\n",
       "      <th>campaign_code</th>\n",
       "      <th>target_audience</th>\n",
       "      <th>budget</th>\n",
       "      <th>actual_spending</th>\n",
       "      <th>campaign_result</th>\n",
       "    </tr>\n",
       "  </thead>\n",
       "  <tbody>\n",
       "    <tr>\n",
       "      <th>0</th>\n",
       "      <td>1</td>\n",
       "      <td>1</td>\n",
       "      <td>dede</td>\n",
       "      <td>None</td>\n",
       "      <td>None</td>\n",
       "      <td>None</td>\n",
       "      <td>None</td>\n",
       "      <td>None</td>\n",
       "      <td>None</td>\n",
       "      <td>None</td>\n",
       "      <td>None</td>\n",
       "      <td>None</td>\n",
       "    </tr>\n",
       "    <tr>\n",
       "      <th>1</th>\n",
       "      <td>2</td>\n",
       "      <td>1</td>\n",
       "      <td>Le nouveau titre hehehe</td>\n",
       "      <td>None</td>\n",
       "      <td>None</td>\n",
       "      <td>None</td>\n",
       "      <td>None</td>\n",
       "      <td>None</td>\n",
       "      <td>None</td>\n",
       "      <td>None</td>\n",
       "      <td>None</td>\n",
       "      <td>None</td>\n",
       "    </tr>\n",
       "  </tbody>\n",
       "</table>\n",
       "</div>"
      ],
      "text/plain": [
       "   campaign_id  company_id                    title description start_date  \\\n",
       "0            1           1                     dede        None       None   \n",
       "1            2           1  Le nouveau titre hehehe        None       None   \n",
       "\n",
       "  end_date campaign_status campaign_code target_audience budget  \\\n",
       "0     None            None          None            None   None   \n",
       "1     None            None          None            None   None   \n",
       "\n",
       "  actual_spending campaign_result  \n",
       "0            None            None  \n",
       "1            None            None  "
      ]
     },
     "execution_count": 23,
     "metadata": {},
     "output_type": "execute_result"
    }
   ],
   "source": [
    "pd.read_sql('SELECT * FROM campaigns', engine)"
   ]
  },
  {
   "cell_type": "code",
   "execution_count": null,
   "metadata": {},
   "outputs": [],
   "source": []
  },
  {
   "cell_type": "code",
   "execution_count": null,
   "metadata": {},
   "outputs": [],
   "source": []
  },
  {
   "cell_type": "code",
   "execution_count": null,
   "metadata": {},
   "outputs": [],
   "source": []
  },
  {
   "cell_type": "code",
   "execution_count": null,
   "metadata": {},
   "outputs": [],
   "source": []
  }
 ],
 "metadata": {
  "kernelspec": {
   "display_name": "Python 3 (ipykernel)",
   "language": "python",
   "name": "python3"
  },
  "language_info": {
   "codemirror_mode": {
    "name": "ipython",
    "version": 3
   },
   "file_extension": ".py",
   "mimetype": "text/x-python",
   "name": "python",
   "nbconvert_exporter": "python",
   "pygments_lexer": "ipython3",
   "version": "3.9.7"
  }
 },
 "nbformat": 4,
 "nbformat_minor": 4
}
