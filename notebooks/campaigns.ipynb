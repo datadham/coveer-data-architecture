{
 "cells": [
  {
   "cell_type": "code",
   "execution_count": 1,
   "metadata": {},
   "outputs": [],
   "source": [
    "import pandas as pd \n",
    "from datetime import datetime, timedelta\n",
    "from sqlalchemy import create_engine, text"
   ]
  },
  {
   "cell_type": "code",
   "execution_count": 2,
   "metadata": {},
   "outputs": [],
   "source": [
    "# Create an engine that stores data in the local directory's\n",
    "engine = create_engine('sqlite:///app.db', echo=True)"
   ]
  },
  {
   "cell_type": "markdown",
   "metadata": {},
   "source": [
    "campaigns target \n",
    "\n",
    "campaigns shared_url \n",
    "\n",
    "campaigns_profile \n",
    "\n",
    "campaign code : code promo "
   ]
  },
  {
   "cell_type": "code",
   "execution_count": 13,
   "metadata": {},
   "outputs": [],
   "source": [
    "create_campaigns_table = text('''CREATE TABLE IF NOT EXISTS campaigns (\n",
    "    campaign_id INTEGER PRIMARY KEY AUTOINCREMENT,\n",
    "    company_id INTEGER NOT NULL,                       \n",
    "    title VARCHAR(255) NOT NULL,\n",
    "    description TEXT,\n",
    "    start_date DATE,\n",
    "    end_date DATE,\n",
    "    campaign_status VARCHAR(100),\n",
    "    campaign_code VARCHAR(100),\n",
    "    target_audience VARCHAR(255),\n",
    "    budget DECIMAL(10, 2),\n",
    "    actual_spending DECIMAL(10, 2),\n",
    "    campaign_result TEXT,\n",
    "    FOREIGN KEY (company_id) REFERENCES companies(company_id) ON DELETE CASCADE\n",
    ");''')\n"
   ]
  },
  {
   "cell_type": "code",
   "execution_count": 18,
   "metadata": {},
   "outputs": [
    {
     "name": "stdout",
     "output_type": "stream",
     "text": [
      "2024-04-17 13:34:19,985 INFO sqlalchemy.engine.Engine BEGIN (implicit)\n",
      "2024-04-17 13:34:19,985 INFO sqlalchemy.engine.Engine CREATE TABLE IF NOT EXISTS campaigns (\n",
      "    campaign_id INTEGER PRIMARY KEY AUTOINCREMENT,\n",
      "    company_id INTEGER NOT NULL,                       \n",
      "    title VARCHAR(255) NOT NULL,\n",
      "    description TEXT,\n",
      "    start_date DATE,\n",
      "    end_date DATE,\n",
      "    campaign_status VARCHAR(100),\n",
      "    campaign_code VARCHAR(100),\n",
      "    target_audience VARCHAR(255),\n",
      "    budget DECIMAL(10, 2),\n",
      "    actual_spending DECIMAL(10, 2),\n",
      "    campaign_result TEXT,\n",
      "    FOREIGN KEY (company_id) REFERENCES companies(company_id) ON DELETE CASCADE\n",
      ");\n",
      "2024-04-17 13:34:19,986 INFO sqlalchemy.engine.Engine [cached since 106.3s ago] ()\n",
      "Campaigns table created successfully.\n",
      "2024-04-17 13:34:19,993 INFO sqlalchemy.engine.Engine ROLLBACK\n"
     ]
    }
   ],
   "source": [
    "# Assuming 'engine' is already defined and imported from SQLAlchemy setup\n",
    "with engine.connect() as connection:\n",
    "    connection.execute(create_campaigns_table)\n",
    "    print(\"Campaigns table created successfully.\")"
   ]
  },
  {
   "cell_type": "code",
   "execution_count": 15,
   "metadata": {},
   "outputs": [
    {
     "name": "stdout",
     "output_type": "stream",
     "text": [
      "2024-04-17 13:34:08,321 INFO sqlalchemy.engine.Engine BEGIN (implicit)\n",
      "2024-04-17 13:34:08,321 INFO sqlalchemy.engine.Engine DROP TABLE IF EXISTS campaigns\n",
      "2024-04-17 13:34:08,322 INFO sqlalchemy.engine.Engine [cached since 6016s ago] ()\n",
      "2024-04-17 13:34:08,329 INFO sqlalchemy.engine.Engine ROLLBACK\n"
     ]
    }
   ],
   "source": [
    "# Assuming 'engine' is already defined and imported from SQLAlchemy setup\n",
    "with engine.connect() as connection:\n",
    "    connection.execute(text('''DROP TABLE IF EXISTS campaigns'''))"
   ]
  },
  {
   "cell_type": "code",
   "execution_count": 19,
   "metadata": {},
   "outputs": [
    {
     "name": "stdout",
     "output_type": "stream",
     "text": [
      "2024-04-17 13:34:22,146 INFO sqlalchemy.engine.Engine BEGIN (implicit)\n",
      "2024-04-17 13:34:22,146 INFO sqlalchemy.engine.Engine PRAGMA main.table_info(\"SELECT * FROM campaigns\")\n",
      "2024-04-17 13:34:22,147 INFO sqlalchemy.engine.Engine [raw sql] ()\n",
      "2024-04-17 13:34:22,147 INFO sqlalchemy.engine.Engine PRAGMA temp.table_info(\"SELECT * FROM campaigns\")\n",
      "2024-04-17 13:34:22,148 INFO sqlalchemy.engine.Engine [raw sql] ()\n",
      "2024-04-17 13:34:22,148 INFO sqlalchemy.engine.Engine SELECT * FROM campaigns\n",
      "2024-04-17 13:34:22,149 INFO sqlalchemy.engine.Engine [raw sql] ()\n",
      "2024-04-17 13:34:22,151 INFO sqlalchemy.engine.Engine ROLLBACK\n"
     ]
    },
    {
     "data": {
      "text/html": [
       "<div>\n",
       "<style scoped>\n",
       "    .dataframe tbody tr th:only-of-type {\n",
       "        vertical-align: middle;\n",
       "    }\n",
       "\n",
       "    .dataframe tbody tr th {\n",
       "        vertical-align: top;\n",
       "    }\n",
       "\n",
       "    .dataframe thead th {\n",
       "        text-align: right;\n",
       "    }\n",
       "</style>\n",
       "<table border=\"1\" class=\"dataframe\">\n",
       "  <thead>\n",
       "    <tr style=\"text-align: right;\">\n",
       "      <th></th>\n",
       "      <th>campaign_id</th>\n",
       "      <th>company_id</th>\n",
       "      <th>title</th>\n",
       "      <th>description</th>\n",
       "      <th>start_date</th>\n",
       "      <th>end_date</th>\n",
       "      <th>campaign_status</th>\n",
       "      <th>campaign_code</th>\n",
       "      <th>target_audience</th>\n",
       "      <th>budget</th>\n",
       "      <th>actual_spending</th>\n",
       "      <th>campaign_result</th>\n",
       "    </tr>\n",
       "  </thead>\n",
       "  <tbody>\n",
       "  </tbody>\n",
       "</table>\n",
       "</div>"
      ],
      "text/plain": [
       "Empty DataFrame\n",
       "Columns: [campaign_id, company_id, title, description, start_date, end_date, campaign_status, campaign_code, target_audience, budget, actual_spending, campaign_result]\n",
       "Index: []"
      ]
     },
     "execution_count": 19,
     "metadata": {},
     "output_type": "execute_result"
    }
   ],
   "source": [
    "pd.read_sql('SELECT * FROM campaigns',engine)"
   ]
  },
  {
   "cell_type": "code",
   "execution_count": null,
   "metadata": {},
   "outputs": [],
   "source": []
  },
  {
   "cell_type": "code",
   "execution_count": null,
   "metadata": {},
   "outputs": [],
   "source": []
  },
  {
   "cell_type": "code",
   "execution_count": null,
   "metadata": {},
   "outputs": [],
   "source": []
  }
 ],
 "metadata": {
  "kernelspec": {
   "display_name": "UWenterprise",
   "language": "python",
   "name": "python3"
  },
  "language_info": {
   "codemirror_mode": {
    "name": "ipython",
    "version": 3
   },
   "file_extension": ".py",
   "mimetype": "text/x-python",
   "name": "python",
   "nbconvert_exporter": "python",
   "pygments_lexer": "ipython3",
   "version": "3.11.8"
  }
 },
 "nbformat": 4,
 "nbformat_minor": 2
}
