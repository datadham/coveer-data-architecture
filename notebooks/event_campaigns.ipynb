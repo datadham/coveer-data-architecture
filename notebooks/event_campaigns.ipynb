{
 "cells": [
  {
   "cell_type": "code",
   "execution_count": 3,
   "metadata": {},
   "outputs": [],
   "source": [
    "import pandas as pd \n",
    "from datetime import datetime, timedelta\n",
    "from sqlalchemy import create_engine, text"
   ]
  },
  {
   "cell_type": "code",
   "execution_count": 4,
   "metadata": {},
   "outputs": [],
   "source": [
    "# Create an engine that stores data in the local directory's\n",
    "engine = create_engine('sqlite:///app.db', echo=True)"
   ]
  },
  {
   "cell_type": "code",
   "execution_count": 13,
   "metadata": {},
   "outputs": [],
   "source": [
    "create_event_campaigns_table = text('''CREATE TABLE IF NOT EXISTS event_campaigns (\n",
    "    event_id INTEGER PRIMARY KEY AUTOINCREMENT,\n",
    "    event_date DATETIME DEFAULT CURRENT_TIMESTAMP,\n",
    "    campaign_id INTEGER NOT NULL,\n",
    "    company_id INTEGER NOT NULL,                       \n",
    "    title VARCHAR(255),\n",
    "    description TEXT,\n",
    "    start_date DATE,\n",
    "    end_date DATE,\n",
    "    campaign_status VARCHAR(100),\n",
    "    campaign_code VARCHAR(100),\n",
    "    target_audience VARCHAR(255),\n",
    "    budget DECIMAL(10, 2),\n",
    "    actual_spending DECIMAL(10, 2),\n",
    "    campaign_result TEXT,\n",
    "    FOREIGN KEY (campaign_id) REFERENCES campaigns(campaign_id) ON DELETE CASCADE\n",
    ");''')"
   ]
  },
  {
   "cell_type": "code",
   "execution_count": 16,
   "metadata": {},
   "outputs": [
    {
     "name": "stdout",
     "output_type": "stream",
     "text": [
      "2024-04-18 09:43:36,703 INFO sqlalchemy.engine.Engine BEGIN (implicit)\n",
      "2024-04-18 09:43:36,703 INFO sqlalchemy.engine.Engine DROP TABLE IF EXISTS event_campaigns\n",
      "2024-04-18 09:43:36,705 INFO sqlalchemy.engine.Engine [generated in 0.00229s] ()\n",
      "2024-04-18 09:43:36,713 INFO sqlalchemy.engine.Engine ROLLBACK\n"
     ]
    }
   ],
   "source": [
    "with engine.connect() as connection:\n",
    "    connection.execute(text('DROP TABLE IF EXISTS event_campaigns'))"
   ]
  },
  {
   "cell_type": "code",
   "execution_count": 17,
   "metadata": {},
   "outputs": [
    {
     "name": "stdout",
     "output_type": "stream",
     "text": [
      "2024-04-18 09:43:41,322 INFO sqlalchemy.engine.Engine BEGIN (implicit)\n",
      "2024-04-18 09:43:41,323 INFO sqlalchemy.engine.Engine CREATE TABLE IF NOT EXISTS event_campaigns (\n",
      "    event_id INTEGER PRIMARY KEY AUTOINCREMENT,\n",
      "    event_date DATETIME DEFAULT CURRENT_TIMESTAMP,\n",
      "    campaign_id INTEGER NOT NULL,\n",
      "    company_id INTEGER NOT NULL,                       \n",
      "    title VARCHAR(255),\n",
      "    description TEXT,\n",
      "    start_date DATE,\n",
      "    end_date DATE,\n",
      "    campaign_status VARCHAR(100),\n",
      "    campaign_code VARCHAR(100),\n",
      "    target_audience VARCHAR(255),\n",
      "    budget DECIMAL(10, 2),\n",
      "    actual_spending DECIMAL(10, 2),\n",
      "    campaign_result TEXT,\n",
      "    FOREIGN KEY (campaign_id) REFERENCES campaigns(campaign_id) ON DELETE CASCADE\n",
      ");\n",
      "2024-04-18 09:43:41,323 INFO sqlalchemy.engine.Engine [generated in 0.00165s] ()\n",
      "table created successfully.\n",
      "2024-04-18 09:43:41,331 INFO sqlalchemy.engine.Engine ROLLBACK\n"
     ]
    }
   ],
   "source": [
    "# Assuming 'engine' is already defined and imported from SQLAlchemy setup\n",
    "with engine.connect() as connection:\n",
    "    connection.execute(create_event_campaigns_table)\n",
    "    print(\"table created successfully.\")"
   ]
  },
  {
   "cell_type": "code",
   "execution_count": 18,
   "metadata": {},
   "outputs": [
    {
     "name": "stdout",
     "output_type": "stream",
     "text": [
      "2024-04-18 09:43:45,962 INFO sqlalchemy.engine.Engine BEGIN (implicit)\n",
      "2024-04-18 09:43:45,962 INFO sqlalchemy.engine.Engine PRAGMA main.table_info(\"SELECT * FROM event_campaigns\")\n",
      "2024-04-18 09:43:45,963 INFO sqlalchemy.engine.Engine [raw sql] ()\n",
      "2024-04-18 09:43:45,964 INFO sqlalchemy.engine.Engine PRAGMA temp.table_info(\"SELECT * FROM event_campaigns\")\n",
      "2024-04-18 09:43:45,964 INFO sqlalchemy.engine.Engine [raw sql] ()\n",
      "2024-04-18 09:43:45,966 INFO sqlalchemy.engine.Engine SELECT * FROM event_campaigns\n",
      "2024-04-18 09:43:45,966 INFO sqlalchemy.engine.Engine [raw sql] ()\n",
      "2024-04-18 09:43:45,970 INFO sqlalchemy.engine.Engine ROLLBACK\n"
     ]
    },
    {
     "data": {
      "text/html": [
       "<div>\n",
       "<style scoped>\n",
       "    .dataframe tbody tr th:only-of-type {\n",
       "        vertical-align: middle;\n",
       "    }\n",
       "\n",
       "    .dataframe tbody tr th {\n",
       "        vertical-align: top;\n",
       "    }\n",
       "\n",
       "    .dataframe thead th {\n",
       "        text-align: right;\n",
       "    }\n",
       "</style>\n",
       "<table border=\"1\" class=\"dataframe\">\n",
       "  <thead>\n",
       "    <tr style=\"text-align: right;\">\n",
       "      <th></th>\n",
       "      <th>event_id</th>\n",
       "      <th>event_date</th>\n",
       "      <th>campaign_id</th>\n",
       "      <th>company_id</th>\n",
       "      <th>title</th>\n",
       "      <th>description</th>\n",
       "      <th>start_date</th>\n",
       "      <th>end_date</th>\n",
       "      <th>campaign_status</th>\n",
       "      <th>campaign_code</th>\n",
       "      <th>target_audience</th>\n",
       "      <th>budget</th>\n",
       "      <th>actual_spending</th>\n",
       "      <th>campaign_result</th>\n",
       "    </tr>\n",
       "  </thead>\n",
       "  <tbody>\n",
       "  </tbody>\n",
       "</table>\n",
       "</div>"
      ],
      "text/plain": [
       "Empty DataFrame\n",
       "Columns: [event_id, event_date, campaign_id, company_id, title, description, start_date, end_date, campaign_status, campaign_code, target_audience, budget, actual_spending, campaign_result]\n",
       "Index: []"
      ]
     },
     "execution_count": 18,
     "metadata": {},
     "output_type": "execute_result"
    }
   ],
   "source": [
    "pd.read_sql('SELECT * FROM event_campaigns',engine)"
   ]
  },
  {
   "cell_type": "code",
   "execution_count": 11,
   "metadata": {},
   "outputs": [],
   "source": [
    "def get_event_campaign(**kwargs):\n",
    "    if not kwargs:\n",
    "        print(\"No parameters provided to search for event_campaigns.\")\n",
    "        return None\n",
    "    \n",
    "    # Constructing the WHERE clause based on kwargs\n",
    "    conditions = [f\"{key} = :{key}\" for key in kwargs]\n",
    "    where_clause = \" AND \".join(conditions)\n",
    "    \n",
    "    select_query = text(f\"SELECT * FROM event_campaigns WHERE {where_clause}\")\n",
    "\n",
    "    with engine.connect() as connection:\n",
    "        result = connection.execute(select_query, kwargs).fetchone()\n",
    "        if result:\n",
    "            event_campaign_dict = {\n",
    "                'event_id': result[0],\n",
    "                'event_date': result[1],\n",
    "                'campaign_id': result[2],\n",
    "                'company_id': result[3],\n",
    "                'title': result[4],\n",
    "                'description': result[5],\n",
    "                'start_date': result[6],\n",
    "                'end_date': result[7],\n",
    "                'campaign_status': result[8],\n",
    "                'campaign_code':result[9],\n",
    "                'target_audience': result[10],\n",
    "                'budget':result[11],\n",
    "                'actual_spending':result[12],\n",
    "                'campaign_result':result[13]\n",
    "            }\n",
    "            return event_campaign_dict\n",
    "        else:\n",
    "            print(\"Company not found.\")\n",
    "            return None\n",
    "        \n",
    "\n",
    "def add_event_campaign(campaign_id,company_id,**kwargs):\n",
    "    data = {'campaign_id': campaign_id, 'company_id': company_id, **kwargs}\n",
    "    columns = ', '.join(data.keys())\n",
    "    placeholders = ', '.join(f\":{key}\" for key in data.keys())\n",
    "\n",
    "    insert_query = text(f\"\"\"\n",
    "        INSERT INTO event_campaigns ({columns})\n",
    "        VALUES ({placeholders});\n",
    "    \"\"\")\n",
    "    with engine.begin() as connection:\n",
    "        connection.execute(insert_query, data)\n",
    "        print(f\"Event added: Campaign ID {campaign_id}, Creator ID {company_id}, Details: {kwargs}\")\n",
    "   \n",
    "\n",
    "\n",
    "def modify_event(event_id, **kwargs):\n",
    "    updates = ', '.join(f\"{key} = :{key}\" for key in kwargs)\n",
    "    update_query = text(f\"\"\"\n",
    "        UPDATE event_campaigns\n",
    "        SET {updates}\n",
    "        WHERE event_id = :event_id;\n",
    "    \"\"\")\n",
    "    kwargs['event_id'] = event_id  # Include for WHERE clause\n",
    "    with engine.begin() as connection:\n",
    "        result = connection.execute(update_query, kwargs)\n",
    "        if result.rowcount > 0:\n",
    "            print(f\"Event ID {event_id} updated successfully.\")\n",
    "        else:\n",
    "            print(f\"No event found with ID {event_id}.\")\n",
    "\n"
   ]
  },
  {
   "cell_type": "code",
   "execution_count": 19,
   "metadata": {},
   "outputs": [
    {
     "name": "stdout",
     "output_type": "stream",
     "text": [
      "2024-04-18 09:43:58,782 INFO sqlalchemy.engine.Engine BEGIN (implicit)\n",
      "2024-04-18 09:43:58,783 INFO sqlalchemy.engine.Engine \n",
      "        INSERT INTO event_campaigns (campaign_id, company_id)\n",
      "        VALUES (?, ?);\n",
      "    \n",
      "2024-04-18 09:43:58,783 INFO sqlalchemy.engine.Engine [cached since 257.1s ago] (1, 2)\n",
      "Event added: Campaign ID 1, Creator ID 2, Details: {}\n",
      "2024-04-18 09:43:58,807 INFO sqlalchemy.engine.Engine COMMIT\n"
     ]
    }
   ],
   "source": [
    "add_event_campaign(1,2)"
   ]
  },
  {
   "cell_type": "code",
   "execution_count": 21,
   "metadata": {},
   "outputs": [
    {
     "name": "stdout",
     "output_type": "stream",
     "text": [
      "2024-04-18 09:44:17,328 INFO sqlalchemy.engine.Engine BEGIN (implicit)\n",
      "2024-04-18 09:44:17,329 INFO sqlalchemy.engine.Engine PRAGMA main.table_info(\"SELECT * FROM event_campaigns\")\n",
      "2024-04-18 09:44:17,330 INFO sqlalchemy.engine.Engine [raw sql] ()\n",
      "2024-04-18 09:44:17,331 INFO sqlalchemy.engine.Engine PRAGMA temp.table_info(\"SELECT * FROM event_campaigns\")\n",
      "2024-04-18 09:44:17,331 INFO sqlalchemy.engine.Engine [raw sql] ()\n",
      "2024-04-18 09:44:17,332 INFO sqlalchemy.engine.Engine SELECT * FROM event_campaigns\n",
      "2024-04-18 09:44:17,333 INFO sqlalchemy.engine.Engine [raw sql] ()\n",
      "2024-04-18 09:44:17,335 INFO sqlalchemy.engine.Engine ROLLBACK\n"
     ]
    },
    {
     "data": {
      "text/html": [
       "<div>\n",
       "<style scoped>\n",
       "    .dataframe tbody tr th:only-of-type {\n",
       "        vertical-align: middle;\n",
       "    }\n",
       "\n",
       "    .dataframe tbody tr th {\n",
       "        vertical-align: top;\n",
       "    }\n",
       "\n",
       "    .dataframe thead th {\n",
       "        text-align: right;\n",
       "    }\n",
       "</style>\n",
       "<table border=\"1\" class=\"dataframe\">\n",
       "  <thead>\n",
       "    <tr style=\"text-align: right;\">\n",
       "      <th></th>\n",
       "      <th>event_id</th>\n",
       "      <th>event_date</th>\n",
       "      <th>campaign_id</th>\n",
       "      <th>company_id</th>\n",
       "      <th>title</th>\n",
       "      <th>description</th>\n",
       "      <th>start_date</th>\n",
       "      <th>end_date</th>\n",
       "      <th>campaign_status</th>\n",
       "      <th>campaign_code</th>\n",
       "      <th>target_audience</th>\n",
       "      <th>budget</th>\n",
       "      <th>actual_spending</th>\n",
       "      <th>campaign_result</th>\n",
       "    </tr>\n",
       "  </thead>\n",
       "  <tbody>\n",
       "    <tr>\n",
       "      <th>0</th>\n",
       "      <td>1</td>\n",
       "      <td>2024-04-18 07:43:58</td>\n",
       "      <td>1</td>\n",
       "      <td>2</td>\n",
       "      <td>None</td>\n",
       "      <td>None</td>\n",
       "      <td>None</td>\n",
       "      <td>None</td>\n",
       "      <td>None</td>\n",
       "      <td>None</td>\n",
       "      <td>None</td>\n",
       "      <td>None</td>\n",
       "      <td>None</td>\n",
       "      <td>None</td>\n",
       "    </tr>\n",
       "  </tbody>\n",
       "</table>\n",
       "</div>"
      ],
      "text/plain": [
       "   event_id           event_date  campaign_id  company_id title description  \\\n",
       "0         1  2024-04-18 07:43:58            1           2  None        None   \n",
       "\n",
       "  start_date end_date campaign_status campaign_code target_audience budget  \\\n",
       "0       None     None            None          None            None   None   \n",
       "\n",
       "  actual_spending campaign_result  \n",
       "0            None            None  "
      ]
     },
     "execution_count": 21,
     "metadata": {},
     "output_type": "execute_result"
    }
   ],
   "source": [
    "pd.read_sql('SELECT * FROM event_campaigns',engine)"
   ]
  },
  {
   "cell_type": "code",
   "execution_count": null,
   "metadata": {},
   "outputs": [],
   "source": []
  }
 ],
 "metadata": {
  "kernelspec": {
   "display_name": "UWenterprise",
   "language": "python",
   "name": "python3"
  },
  "language_info": {
   "codemirror_mode": {
    "name": "ipython",
    "version": 3
   },
   "file_extension": ".py",
   "mimetype": "text/x-python",
   "name": "python",
   "nbconvert_exporter": "python",
   "pygments_lexer": "ipython3",
   "version": "3.11.8"
  }
 },
 "nbformat": 4,
 "nbformat_minor": 2
}
