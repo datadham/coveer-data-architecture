{
 "cells": [
  {
   "cell_type": "code",
   "execution_count": null,
   "metadata": {},
   "outputs": [],
   "source": [
    "import pandas as pd \n",
    "from datetime import datetime, timedelta\n",
    "from sqlalchemy import create_engine, text"
   ]
  },
  {
   "cell_type": "code",
   "execution_count": null,
   "metadata": {},
   "outputs": [],
   "source": [
    "# Create an engine that stores data in the local directory's\n",
    "engine = create_engine('sqlite:///app.db', echo=True)"
   ]
  },
  {
   "cell_type": "code",
   "execution_count": null,
   "metadata": {},
   "outputs": [],
   "source": [
    "create_campaigns_table = text('''CREATE TABLE IF NOT EXISTS event_campaigns (\n",
    "    event_id INTEGER PRIMARY KEY AUTOINCREMENT,\n",
    "    event_date DATETIME DEFAULT CURRENT_TIMESTAMP,\n",
    "    campaign_id INTEGER NOT NULL,\n",
    "    company_id INTEGER NOT NULL,                       \n",
    "    title VARCHAR(255) NOT NULL,\n",
    "    description TEXT,\n",
    "    start_date DATE,\n",
    "    end_date DATE,\n",
    "    campaign_status VARCHAR(100),\n",
    "    campaign_code VARCHAR(100),\n",
    "    target_audience VARCHAR(255),\n",
    "    budget DECIMAL(10, 2),\n",
    "    actual_spending DECIMAL(10, 2),\n",
    "    campaign_result TEXT,\n",
    "    FOREIGN KEY (campaign_id) REFERENCES campaigns(campaign_id) ON DELETE CASCADE\n",
    ");''')"
   ]
  },
  {
   "cell_type": "code",
   "execution_count": null,
   "metadata": {},
   "outputs": [],
   "source": []
  },
  {
   "cell_type": "code",
   "execution_count": null,
   "metadata": {},
   "outputs": [],
   "source": []
  },
  {
   "cell_type": "code",
   "execution_count": null,
   "metadata": {},
   "outputs": [],
   "source": []
  }
 ],
 "metadata": {
  "language_info": {
   "name": "python"
  }
 },
 "nbformat": 4,
 "nbformat_minor": 2
}
