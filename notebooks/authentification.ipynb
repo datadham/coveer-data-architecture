{
 "cells": [
  {
   "cell_type": "markdown",
   "id": "2fd0112e-44bf-48dd-882c-2952213bb739",
   "metadata": {},
   "source": [
    "---\n",
    "\n",
    "## Authentication System Database Schema\n",
    "\n",
    "This database schema is designed to handle user authentication, including features such as email/password signup, social login options, email validation, and password recovery. The schema includes three main tables: `Users`, `Social Logins`, and `Password Resets`.\n",
    "\n",
    "### 1. **Users Table**\n",
    "\n",
    "**Purpose**:  \n",
    "Stores the core credentials and profile information of each user. This is the central entity in the authentication system.\n",
    "\n",
    "**Fields**:\n",
    "\n",
    "| Field Name                | Data Type         | Description                                                  |\n",
    "|---------------------------|-------------------|--------------------------------------------------------------|\n",
    "| `user_id`                 | INTEGER           | Primary key, auto-incremented unique identifier for each user. |\n",
    "| `email`                   | VARCHAR(255)      | User's email address, must be unique.                         |\n",
    "| `password_hash`           | VARCHAR(255)      | Hash of the user's password.                                  |\n",
    "| `profile_type`            | ENUM('admin', 'user', 'guest') | Type of user profile, with default as 'user'.          |\n",
    "| `email_verified`          | BOOLEAN           | Boolean flag to indicate if the email address has been verified. |\n",
    "| `email_verification_token`| VARCHAR(255)      | Token used for the email verification process.                 |\n",
    "| `created_at`              | DATETIME          | Timestamp when the user account was created.                   |\n",
    "| `updated_at`              | DATETIME          | Timestamp when the user account was last updated.              |\n",
    "\n",
    "### 2. **Social Logins Table**\n",
    "\n",
    "**Purpose**:  \n",
    "Handles user authentication through social media platforms, linking social media accounts to user profiles in the `Users` table.\n",
    "\n",
    "**Fields**:\n",
    "\n",
    "| Field Name                | Data Type         | Description                                                  |\n",
    "|---------------------------|-------------------|--------------------------------------------------------------|\n",
    "| `social_id`               | INTEGER           | Primary key, auto-incremented unique identifier for each social login record. |\n",
    "| `user_id`                 | INTEGER           | Foreign key linking back to the `Users` table.               |\n",
    "| `provider`                | VARCHAR(50)       | Name of the social media platform (e.g., 'Google', 'Facebook'). |\n",
    "| `social_user_id`          | VARCHAR(255)      | Unique identifier provided by the social media platform.     |\n",
    "| `created_at`              | DATETIME          | Timestamp when the social login was created.                  |\n",
    "| `updated_at`              | DATETIME          | Timestamp when the social login was last updated.             |\n",
    "\n",
    "### 3. **Password Resets Table**\n",
    "\n",
    "**Purpose**:  \n",
    "Manages the process for users to reset their passwords, including storing reset tokens and their expiration times.\n",
    "\n",
    "**Fields**:\n",
    "\n",
    "| Field Name                | Data Type         | Description                                                  |\n",
    "|---------------------------|-------------------|--------------------------------------------------------------|\n",
    "| `reset_id`                | INTEGER           | Primary key, auto-incremented unique identifier for each password reset record. |\n",
    "| `user_id`                 | INTEGER           | Foreign key linking back to the `Users` table.               |\n",
    "| `reset_token`             | VARCHAR(255)      | Token used to authenticate the password reset request.       |\n",
    "| `expiration_date`         | DATETIME          | Expiry date and time for the reset token.                    |\n",
    "| `created_at`              | DATETIME          | Timestamp when the reset request was created.                 |\n",
    "| `used`                    | BOOLEAN           | Boolean flag to indicate whether the reset token has been used. |\n",
    "\n",
    "---\n"
   ]
  },
  {
   "cell_type": "code",
   "execution_count": 6,
   "id": "8fa73e7e-655f-4296-8c16-32a35544e34f",
   "metadata": {},
   "outputs": [],
   "source": [
    "from sqlalchemy import create_engine, text\n",
    "import pandas as pd \n",
    "from datetime import datetime, timedelta"
   ]
  },
  {
   "cell_type": "code",
   "execution_count": 9,
   "id": "48a39bef-0ac6-4d0c-93eb-f0d65f595f4d",
   "metadata": {},
   "outputs": [],
   "source": [
    "# Create an engine that stores data in the local directory's\n",
    "engine = create_engine('sqlite:///app.db', echo=True)"
   ]
  },
  {
   "cell_type": "code",
   "execution_count": 14,
   "id": "fc0ca4dc-2b9c-492e-a143-447f58c22b38",
   "metadata": {
    "collapsed": true,
    "jupyter": {
     "outputs_hidden": true
    },
    "tags": []
   },
   "outputs": [
    {
     "name": "stdout",
     "output_type": "stream",
     "text": [
      "2024-04-17 13:49:41,067 INFO sqlalchemy.engine.Engine BEGIN (implicit)\n",
      "2024-04-17 13:49:41,067 INFO sqlalchemy.engine.Engine DROP TABLE IF EXISTS users\n",
      "2024-04-17 13:49:41,068 INFO sqlalchemy.engine.Engine [generated in 0.00122s] ()\n",
      "2024-04-17 13:49:41,073 INFO sqlalchemy.engine.Engine DROP TABLE IF EXISTS social_logins\n",
      "2024-04-17 13:49:41,074 INFO sqlalchemy.engine.Engine [generated in 0.00078s] ()\n",
      "2024-04-17 13:49:41,078 INFO sqlalchemy.engine.Engine DROP TABLE IF EXISTS password_resets\n",
      "2024-04-17 13:49:41,079 INFO sqlalchemy.engine.Engine [generated in 0.00077s] ()\n",
      "2024-04-17 13:49:41,084 INFO sqlalchemy.engine.Engine ROLLBACK\n"
     ]
    }
   ],
   "source": [
    "# List of table names you want to drop\n",
    "tables = ['users', 'social_logins', 'password_resets']\n",
    "\n",
    "# Establishing a connection and dropping each table safely\n",
    "with engine.connect() as connection:\n",
    "    for table in tables:\n",
    "        # Executing the DROP TABLE command for each table\n",
    "        connection.execute(text(f'DROP TABLE IF EXISTS {table}'))"
   ]
  },
  {
   "cell_type": "code",
   "execution_count": 17,
   "id": "ba8203dc-324e-4a20-aca6-b1f6d9f2cf9f",
   "metadata": {
    "tags": []
   },
   "outputs": [],
   "source": [
    "# Define raw SQL queries for table creation using text()\n",
    "create_users_table = text(\"\"\"\n",
    "CREATE TABLE IF NOT EXISTS users (\n",
    "    user_id INTEGER PRIMARY KEY AUTOINCREMENT,\n",
    "    email VARCHAR(255) UNIQUE NOT NULL,\n",
    "    password_hash VARCHAR(255) NOT NULL,\n",
    "    profile_type DEFAULT 'creator',\n",
    "    email_verified BOOLEAN NOT NULL DEFAULT 0,\n",
    "    email_verification_token VARCHAR(255),\n",
    "    created_at DATETIME DEFAULT CURRENT_TIMESTAMP,\n",
    "    updated_at DATETIME DEFAULT CURRENT_TIMESTAMP\n",
    ");\n",
    "\"\"\")\n",
    "\n",
    "create_social_logins_table = text(\"\"\"\n",
    "CREATE TABLE IF NOT EXISTS social_logins (\n",
    "    social_id INTEGER PRIMARY KEY AUTOINCREMENT,\n",
    "    user_id INTEGER NOT NULL,\n",
    "    provider VARCHAR(50) NOT NULL,\n",
    "    social_user_id VARCHAR(255) NOT NULL,\n",
    "    created_at DATETIME DEFAULT CURRENT_TIMESTAMP,\n",
    "    updated_at DATETIME DEFAULT CURRENT_TIMESTAMP,\n",
    "    FOREIGN KEY (user_id) REFERENCES users(user_id)\n",
    ");\n",
    "\"\"\")\n",
    "\n",
    "create_password_resets_table = text(\"\"\"\n",
    "CREATE TABLE IF NOT EXISTS password_resets (\n",
    "    reset_id INTEGER PRIMARY KEY AUTOINCREMENT,\n",
    "    user_id INTEGER NOT NULL,\n",
    "    reset_token VARCHAR(255) NOT NULL,\n",
    "    expiration_date DATETIME NOT NULL,\n",
    "    created_at DATETIME DEFAULT CURRENT_TIMESTAMP,\n",
    "    used BOOLEAN NOT NULL DEFAULT 0\n",
    ");\n",
    "\"\"\")"
   ]
  },
  {
   "cell_type": "code",
   "execution_count": 18,
   "id": "b736442f-bca6-4575-8d0f-7f9dabdf8ac6",
   "metadata": {
    "collapsed": true,
    "jupyter": {
     "outputs_hidden": true
    },
    "tags": []
   },
   "outputs": [
    {
     "name": "stdout",
     "output_type": "stream",
     "text": [
      "2024-04-17 13:50:04,999 INFO sqlalchemy.engine.Engine BEGIN (implicit)\n",
      "2024-04-17 13:50:04,999 INFO sqlalchemy.engine.Engine \n",
      "CREATE TABLE IF NOT EXISTS users (\n",
      "    user_id INTEGER PRIMARY KEY AUTOINCREMENT,\n",
      "    email VARCHAR(255) UNIQUE NOT NULL,\n",
      "    password_hash VARCHAR(255) NOT NULL,\n",
      "    profile_type DEFAULT 'creator',\n",
      "    email_verified BOOLEAN NOT NULL DEFAULT 0,\n",
      "    email_verification_token VARCHAR(255),\n",
      "    created_at DATETIME DEFAULT CURRENT_TIMESTAMP,\n",
      "    updated_at DATETIME DEFAULT CURRENT_TIMESTAMP\n",
      ");\n",
      "\n",
      "2024-04-17 13:50:05,000 INFO sqlalchemy.engine.Engine [generated in 0.00084s] ()\n",
      "2024-04-17 13:50:05,004 INFO sqlalchemy.engine.Engine \n",
      "CREATE TABLE IF NOT EXISTS social_logins (\n",
      "    social_id INTEGER PRIMARY KEY AUTOINCREMENT,\n",
      "    user_id INTEGER NOT NULL,\n",
      "    provider VARCHAR(50) NOT NULL,\n",
      "    social_user_id VARCHAR(255) NOT NULL,\n",
      "    created_at DATETIME DEFAULT CURRENT_TIMESTAMP,\n",
      "    updated_at DATETIME DEFAULT CURRENT_TIMESTAMP,\n",
      "    FOREIGN KEY (user_id) REFERENCES users(user_id)\n",
      ");\n",
      "\n",
      "2024-04-17 13:50:05,005 INFO sqlalchemy.engine.Engine [generated in 0.00063s] ()\n",
      "2024-04-17 13:50:05,009 INFO sqlalchemy.engine.Engine \n",
      "CREATE TABLE IF NOT EXISTS password_resets (\n",
      "    reset_id INTEGER PRIMARY KEY AUTOINCREMENT,\n",
      "    user_id INTEGER NOT NULL,\n",
      "    reset_token VARCHAR(255) NOT NULL,\n",
      "    expiration_date DATETIME NOT NULL,\n",
      "    created_at DATETIME DEFAULT CURRENT_TIMESTAMP,\n",
      "    used BOOLEAN NOT NULL DEFAULT 0\n",
      ");\n",
      "\n",
      "2024-04-17 13:50:05,010 INFO sqlalchemy.engine.Engine [generated in 0.00064s] ()\n",
      "2024-04-17 13:50:05,014 INFO sqlalchemy.engine.Engine ROLLBACK\n"
     ]
    }
   ],
   "source": [
    "# Execute SQL statements\n",
    "with engine.connect() as connection:\n",
    "    connection.execute(create_users_table)\n",
    "    connection.execute(create_social_logins_table)\n",
    "    connection.execute(create_password_resets_table)"
   ]
  },
  {
   "cell_type": "code",
   "execution_count": 30,
   "id": "193e0658-8e64-4bfd-8c0c-1f31c0053472",
   "metadata": {},
   "outputs": [
    {
     "name": "stdout",
     "output_type": "stream",
     "text": [
      "2024-04-16 10:08:55,762 INFO sqlalchemy.engine.Engine BEGIN (implicit)\n",
      "2024-04-16 10:08:55,764 INFO sqlalchemy.engine.Engine SELECT name FROM sqlite_master WHERE type='table';\n",
      "2024-04-16 10:08:55,765 INFO sqlalchemy.engine.Engine [generated in 0.00237s] ()\n",
      "sqlite_sequence\n",
      "users\n",
      "social_logins\n",
      "password_resets\n",
      "2024-04-16 10:08:55,765 INFO sqlalchemy.engine.Engine ROLLBACK\n"
     ]
    }
   ],
   "source": [
    "# Query to list all tables in a SQLite database\n",
    "list_tables_query = text(\"SELECT name FROM sqlite_master WHERE type='table';\")\n",
    "\n",
    "# Execute the query\n",
    "with engine.connect() as connection:\n",
    "    result = connection.execute(list_tables_query)\n",
    "    tables = result.fetchall()\n",
    "    for table in tables:\n",
    "        print(table[0])"
   ]
  },
  {
   "cell_type": "markdown",
   "id": "6a26f8a5-051f-4a3d-a1a6-626ad735ccda",
   "metadata": {},
   "source": [
    "##  Users email\n",
    "SET email_verified = 1, email_verification_token = NULL\n",
    "WHERE user_id = 1; \n",
    "\n",
    "\n",
    "-- Assume user_id = 1 is the user to verify"
   ]
  },
  {
   "cell_type": "code",
   "execution_count": 177,
   "id": "f08ba9ea",
   "metadata": {},
   "outputs": [],
   "source": [
    "# Create an engine that stores data in the local directory's\n",
    "engine = create_engine('sqlite:///app.db', echo=True)# Create an engine that stores data in the local directory's"
   ]
  },
  {
   "cell_type": "code",
   "execution_count": 64,
   "id": "8defb8d1",
   "metadata": {},
   "outputs": [],
   "source": [
    "import random\n",
    "import string\n",
    "from datetime import datetime\n",
    "import hashlib"
   ]
  },
  {
   "cell_type": "code",
   "execution_count": 65,
   "id": "fc474c44-ef32-4924-aba1-a5f2e7b03d13",
   "metadata": {},
   "outputs": [],
   "source": [
    "def hash_password(password):\n",
    "    return hashlib.sha256(password.encode()).hexdigest()"
   ]
  },
  {
   "cell_type": "code",
   "execution_count": 66,
   "id": "8537cce9",
   "metadata": {},
   "outputs": [],
   "source": [
    "create_users_table = text(\"\"\"\n",
    "CREATE TABLE IF NOT EXISTS users (\n",
    "    user_id INTEGER PRIMARY KEY AUTOINCREMENT,\n",
    "    email VARCHAR(255) UNIQUE NOT NULL,\n",
    "    password_hash VARCHAR(255) NOT NULL,\n",
    "    profile_type DEFAULT 'creator',\n",
    "    email_verified BOOLEAN NOT NULL DEFAULT 0,\n",
    "    email_verification_token VARCHAR(255),\n",
    "    created_at DATETIME DEFAULT CURRENT_TIMESTAMP,\n",
    "    updated_at DATETIME DEFAULT CURRENT_TIMESTAMP\n",
    ");\n",
    "\"\"\")"
   ]
  },
  {
   "cell_type": "code",
   "execution_count": 134,
   "id": "c9b31f24-454e-4a59-afb1-ab9fd2ca5edb",
   "metadata": {},
   "outputs": [],
   "source": [
    "# Get the current time\n",
    "current_time = datetime.now()\n",
    "# Convert current time to Unix timestamp\n",
    "unix_timestamp = int(current_time.timestamp())\n",
    "\n",
    "\n",
    "def generate_verification_token():\n",
    "    #current_time = datetime.now()\n",
    "    #unix_timestamp = int(current_time.timestamp())\n",
    "    token = ''.join(random.choices(string.digits, k=6))\n",
    "    return token\n",
    "\n",
    "# Example of generating a token\n",
    "token = generate_verification_token()\n",
    "print(\"Generated Verification Token:\", token)\n",
    "\n",
    "\n",
    "def get_user(email):\n",
    "    select_query = text(\"SELECT * FROM users WHERE email = :email\")\n",
    "\n",
    "    with engine.connect() as connection:\n",
    "        result = connection.execute(select_query, {'email': email}).fetchone()\n",
    "        if result:\n",
    "            # Map the tuple to a dictionary\n",
    "            user_dict = {\n",
    "                'id': result[0],\n",
    "                'email': result[1],\n",
    "                'password_hash': result[2],\n",
    "                'profile_type': result[3],\n",
    "                'email_verified': result[4],\n",
    "                'email_verification_token': result[5],\n",
    "                'created_at': result[6],\n",
    "                'updated_at': result[7]\n",
    "            }\n",
    "            print(f\"User found: {user_dict}\")\n",
    "            return user_dict\n",
    "        else:\n",
    "            print(\"User not found.\")\n",
    "            return None\n",
    "\n",
    "\n",
    "def add_user(email, password, profile_type='creator'):\n",
    "    register_query = text(\"\"\"\n",
    "        INSERT INTO users (email, password_hash, profile_type, email_verification_token)\n",
    "        VALUES (:email, :password_hash,:profile_type,:email_verification_token);\n",
    "    \"\"\")\n",
    "    # Using engine.begin() for auto-commit on successful completion\n",
    "    with engine.begin() as connection:\n",
    "        connection.execute(register_query, {\"email\": email, \n",
    "                                            \"password_hash\":hash_password(password),\n",
    "                                            \"profile_type\":profile_type,\n",
    "                                            \"email_verification_token\":generate_verification_token()\n",
    "                                            })\n",
    "        print(f\"User {email} registered successfully.\")\n",
    "\n",
    "def delete_user(email):\n",
    "    delete_query = text(\"DELETE FROM users WHERE email = :email\")\n",
    "    with engine.begin() as connection:\n",
    "        connection.execute(delete_query, {'email': email})\n",
    "        print(f\"User {email} deleted successfully.\")\n",
    "\n",
    "\n",
    "\n",
    "def modify_user(email, **kwargs):\n",
    "    updates = []\n",
    "    parameters = {'email': email}  # Start with email because it's used in the WHERE clause\n",
    "\n",
    "    for key, value in kwargs.items():\n",
    "        if key == 'password' and value is not None:\n",
    "            # Assume hash_password is a function that hashes passwords\n",
    "            value = hash_password(value)  # Hashing the password before updating\n",
    "            key = 'password_hash'  # Ensure database field for password is correctly targeted\n",
    "\n",
    "        updates.append(f\"{key} = :{key}\")\n",
    "        parameters[key] = value\n",
    "\n",
    "    if updates:\n",
    "        update_query = text(f\"UPDATE users SET {', '.join(updates)} WHERE email = :email\")\n",
    "        with engine.begin() as connection:\n",
    "            result = connection.execute(update_query, parameters)\n",
    "            if result.rowcount > 0:\n",
    "                print(f\"User {email} updated successfully.\")\n",
    "            else:\n",
    "                print(f\"No updates performed. No user found with email {email}.\")\n",
    "    else:\n",
    "        print(\"No updates provided.\")\n"
   ]
  },
  {
   "cell_type": "code",
   "execution_count": 102,
   "id": "151bcdaf",
   "metadata": {},
   "outputs": [
    {
     "name": "stdout",
     "output_type": "stream",
     "text": [
      "2024-04-16 10:52:35,202 INFO sqlalchemy.engine.Engine BEGIN (implicit)\n"
     ]
    },
    {
     "name": "stderr",
     "output_type": "stream",
     "text": [
      "INFO:sqlalchemy.engine.Engine:BEGIN (implicit)\n"
     ]
    },
    {
     "name": "stdout",
     "output_type": "stream",
     "text": [
      "2024-04-16 10:52:35,203 INFO sqlalchemy.engine.Engine DELETE FROM users WHERE email = ?\n"
     ]
    },
    {
     "name": "stderr",
     "output_type": "stream",
     "text": [
      "INFO:sqlalchemy.engine.Engine:DELETE FROM users WHERE email = ?\n"
     ]
    },
    {
     "name": "stdout",
     "output_type": "stream",
     "text": [
      "2024-04-16 10:52:35,204 INFO sqlalchemy.engine.Engine [cached since 106.1s ago] ('adham1901@hotmail.com',)\n"
     ]
    },
    {
     "name": "stderr",
     "output_type": "stream",
     "text": [
      "INFO:sqlalchemy.engine.Engine:[cached since 106.1s ago] ('adham1901@hotmail.com',)\n"
     ]
    },
    {
     "name": "stdout",
     "output_type": "stream",
     "text": [
      "User adham1901@hotmail.com deleted successfully.\n",
      "2024-04-16 10:52:35,206 INFO sqlalchemy.engine.Engine COMMIT\n"
     ]
    },
    {
     "name": "stderr",
     "output_type": "stream",
     "text": [
      "INFO:sqlalchemy.engine.Engine:COMMIT\n"
     ]
    }
   ],
   "source": [
    "delete_user('adham1901@hotmail.com')"
   ]
  },
  {
   "cell_type": "code",
   "execution_count": 103,
   "id": "b76d33a2",
   "metadata": {},
   "outputs": [
    {
     "name": "stdout",
     "output_type": "stream",
     "text": [
      "2024-04-16 10:52:36,539 INFO sqlalchemy.engine.Engine BEGIN (implicit)\n"
     ]
    },
    {
     "name": "stderr",
     "output_type": "stream",
     "text": [
      "INFO:sqlalchemy.engine.Engine:BEGIN (implicit)\n"
     ]
    },
    {
     "name": "stdout",
     "output_type": "stream",
     "text": [
      "2024-04-16 10:52:36,540 INFO sqlalchemy.engine.Engine \n",
      "        INSERT INTO users (email, password_hash, profile_type, email_verification_token)\n",
      "        VALUES (?, ?,?,?);\n",
      "    \n"
     ]
    },
    {
     "name": "stderr",
     "output_type": "stream",
     "text": [
      "INFO:sqlalchemy.engine.Engine:\n",
      "        INSERT INTO users (email, password_hash, profile_type, email_verification_token)\n",
      "        VALUES (?, ?,?,?);\n",
      "    \n"
     ]
    },
    {
     "name": "stdout",
     "output_type": "stream",
     "text": [
      "2024-04-16 10:52:36,541 INFO sqlalchemy.engine.Engine [cached since 289.9s ago] ('adham1901@hotmail.com', '7248c6fe50257fce78a4ef2db6257197c790e23181d09e83fe3a2de627d5e47e', 'creator', '365894')\n"
     ]
    },
    {
     "name": "stderr",
     "output_type": "stream",
     "text": [
      "INFO:sqlalchemy.engine.Engine:[cached since 289.9s ago] ('adham1901@hotmail.com', '7248c6fe50257fce78a4ef2db6257197c790e23181d09e83fe3a2de627d5e47e', 'creator', '365894')\n"
     ]
    },
    {
     "name": "stdout",
     "output_type": "stream",
     "text": [
      "User adham1901@hotmail.com registered successfully.\n",
      "2024-04-16 10:52:36,543 INFO sqlalchemy.engine.Engine COMMIT\n"
     ]
    },
    {
     "name": "stderr",
     "output_type": "stream",
     "text": [
      "INFO:sqlalchemy.engine.Engine:COMMIT\n"
     ]
    }
   ],
   "source": [
    "add_user('adham1901@hotmail.com', 'mymdp')"
   ]
  },
  {
   "cell_type": "code",
   "execution_count": 198,
   "id": "148442cf",
   "metadata": {},
   "outputs": [
    {
     "name": "stdout",
     "output_type": "stream",
     "text": [
      "2024-04-16 14:26:28,605 INFO sqlalchemy.engine.Engine BEGIN (implicit)\n"
     ]
    },
    {
     "name": "stderr",
     "output_type": "stream",
     "text": [
      "INFO:sqlalchemy.engine.Engine:BEGIN (implicit)\n"
     ]
    },
    {
     "name": "stdout",
     "output_type": "stream",
     "text": [
      "2024-04-16 14:26:28,606 INFO sqlalchemy.engine.Engine PRAGMA main.table_info(\"SELECT * FROM users\")\n"
     ]
    },
    {
     "name": "stderr",
     "output_type": "stream",
     "text": [
      "INFO:sqlalchemy.engine.Engine:PRAGMA main.table_info(\"SELECT * FROM users\")\n"
     ]
    },
    {
     "name": "stdout",
     "output_type": "stream",
     "text": [
      "2024-04-16 14:26:28,607 INFO sqlalchemy.engine.Engine [raw sql] ()\n"
     ]
    },
    {
     "name": "stderr",
     "output_type": "stream",
     "text": [
      "INFO:sqlalchemy.engine.Engine:[raw sql] ()\n"
     ]
    },
    {
     "name": "stdout",
     "output_type": "stream",
     "text": [
      "2024-04-16 14:26:28,609 INFO sqlalchemy.engine.Engine PRAGMA temp.table_info(\"SELECT * FROM users\")\n"
     ]
    },
    {
     "name": "stderr",
     "output_type": "stream",
     "text": [
      "INFO:sqlalchemy.engine.Engine:PRAGMA temp.table_info(\"SELECT * FROM users\")\n"
     ]
    },
    {
     "name": "stdout",
     "output_type": "stream",
     "text": [
      "2024-04-16 14:26:28,610 INFO sqlalchemy.engine.Engine [raw sql] ()\n"
     ]
    },
    {
     "name": "stderr",
     "output_type": "stream",
     "text": [
      "INFO:sqlalchemy.engine.Engine:[raw sql] ()\n"
     ]
    },
    {
     "name": "stdout",
     "output_type": "stream",
     "text": [
      "2024-04-16 14:26:28,611 INFO sqlalchemy.engine.Engine SELECT * FROM users\n"
     ]
    },
    {
     "name": "stderr",
     "output_type": "stream",
     "text": [
      "INFO:sqlalchemy.engine.Engine:SELECT * FROM users\n"
     ]
    },
    {
     "name": "stdout",
     "output_type": "stream",
     "text": [
      "2024-04-16 14:26:28,612 INFO sqlalchemy.engine.Engine [raw sql] ()\n"
     ]
    },
    {
     "name": "stderr",
     "output_type": "stream",
     "text": [
      "INFO:sqlalchemy.engine.Engine:[raw sql] ()\n"
     ]
    },
    {
     "name": "stdout",
     "output_type": "stream",
     "text": [
      "2024-04-16 14:26:28,614 INFO sqlalchemy.engine.Engine ROLLBACK\n"
     ]
    },
    {
     "name": "stderr",
     "output_type": "stream",
     "text": [
      "INFO:sqlalchemy.engine.Engine:ROLLBACK\n"
     ]
    },
    {
     "data": {
      "text/html": [
       "<div>\n",
       "<style scoped>\n",
       "    .dataframe tbody tr th:only-of-type {\n",
       "        vertical-align: middle;\n",
       "    }\n",
       "\n",
       "    .dataframe tbody tr th {\n",
       "        vertical-align: top;\n",
       "    }\n",
       "\n",
       "    .dataframe thead th {\n",
       "        text-align: right;\n",
       "    }\n",
       "</style>\n",
       "<table border=\"1\" class=\"dataframe\">\n",
       "  <thead>\n",
       "    <tr style=\"text-align: right;\">\n",
       "      <th></th>\n",
       "      <th>user_id</th>\n",
       "      <th>email</th>\n",
       "      <th>password_hash</th>\n",
       "      <th>profile_type</th>\n",
       "      <th>email_verified</th>\n",
       "      <th>email_verification_token</th>\n",
       "      <th>created_at</th>\n",
       "      <th>updated_at</th>\n",
       "    </tr>\n",
       "  </thead>\n",
       "  <tbody>\n",
       "    <tr>\n",
       "      <th>0</th>\n",
       "      <td>4</td>\n",
       "      <td>adham1901@hotmail.com</td>\n",
       "      <td>e9ed69a6ea08507ea7f2d93985c23588cc4c5bd46b0f99...</td>\n",
       "      <td>admin</td>\n",
       "      <td>0</td>\n",
       "      <td>365894</td>\n",
       "      <td>2024-04-16 08:52:36</td>\n",
       "      <td>2024-04-16 08:52:36</td>\n",
       "    </tr>\n",
       "  </tbody>\n",
       "</table>\n",
       "</div>"
      ],
      "text/plain": [
       "   user_id                  email  \\\n",
       "0        4  adham1901@hotmail.com   \n",
       "\n",
       "                                       password_hash profile_type  \\\n",
       "0  e9ed69a6ea08507ea7f2d93985c23588cc4c5bd46b0f99...        admin   \n",
       "\n",
       "   email_verified email_verification_token           created_at  \\\n",
       "0               0                   365894  2024-04-16 08:52:36   \n",
       "\n",
       "            updated_at  \n",
       "0  2024-04-16 08:52:36  "
      ]
     },
     "execution_count": 198,
     "metadata": {},
     "output_type": "execute_result"
    }
   ],
   "source": [
    "pd.read_sql('SELECT * FROM users',engine)"
   ]
  },
  {
   "cell_type": "code",
   "execution_count": 106,
   "id": "f7d66068",
   "metadata": {},
   "outputs": [
    {
     "name": "stdout",
     "output_type": "stream",
     "text": [
      "2024-04-16 10:58:14,906 INFO sqlalchemy.engine.Engine BEGIN (implicit)\n"
     ]
    },
    {
     "name": "stderr",
     "output_type": "stream",
     "text": [
      "INFO:sqlalchemy.engine.Engine:BEGIN (implicit)\n"
     ]
    },
    {
     "name": "stdout",
     "output_type": "stream",
     "text": [
      "2024-04-16 10:58:14,907 INFO sqlalchemy.engine.Engine UPDATE users SET profile_type = ? WHERE email = ?\n"
     ]
    },
    {
     "name": "stderr",
     "output_type": "stream",
     "text": [
      "INFO:sqlalchemy.engine.Engine:UPDATE users SET profile_type = ? WHERE email = ?\n"
     ]
    },
    {
     "name": "stdout",
     "output_type": "stream",
     "text": [
      "2024-04-16 10:58:14,908 INFO sqlalchemy.engine.Engine [generated in 0.00099s] ('admin', 'adham1901@hotmail.com')\n"
     ]
    },
    {
     "name": "stderr",
     "output_type": "stream",
     "text": [
      "INFO:sqlalchemy.engine.Engine:[generated in 0.00099s] ('admin', 'adham1901@hotmail.com')\n"
     ]
    },
    {
     "name": "stdout",
     "output_type": "stream",
     "text": [
      "User adham1901@hotmail.com updated successfully.\n",
      "2024-04-16 10:58:14,911 INFO sqlalchemy.engine.Engine COMMIT\n"
     ]
    },
    {
     "name": "stderr",
     "output_type": "stream",
     "text": [
      "INFO:sqlalchemy.engine.Engine:COMMIT\n"
     ]
    }
   ],
   "source": [
    "modify_user('adham1901@hotmail.com',new_profile_type='admin')"
   ]
  },
  {
   "cell_type": "code",
   "execution_count": 137,
   "id": "7b37a370",
   "metadata": {},
   "outputs": [
    {
     "name": "stdout",
     "output_type": "stream",
     "text": [
      "2024-04-16 11:27:19,848 INFO sqlalchemy.engine.Engine BEGIN (implicit)\n"
     ]
    },
    {
     "name": "stderr",
     "output_type": "stream",
     "text": [
      "INFO:sqlalchemy.engine.Engine:BEGIN (implicit)\n"
     ]
    },
    {
     "name": "stdout",
     "output_type": "stream",
     "text": [
      "2024-04-16 11:27:19,849 INFO sqlalchemy.engine.Engine SELECT * FROM users WHERE email = ?\n"
     ]
    },
    {
     "name": "stderr",
     "output_type": "stream",
     "text": [
      "INFO:sqlalchemy.engine.Engine:SELECT * FROM users WHERE email = ?\n"
     ]
    },
    {
     "name": "stdout",
     "output_type": "stream",
     "text": [
      "2024-04-16 11:27:19,850 INFO sqlalchemy.engine.Engine [cached since 378.2s ago] ('adham1901@hotmail.com',)\n"
     ]
    },
    {
     "name": "stderr",
     "output_type": "stream",
     "text": [
      "INFO:sqlalchemy.engine.Engine:[cached since 378.2s ago] ('adham1901@hotmail.com',)\n"
     ]
    },
    {
     "name": "stdout",
     "output_type": "stream",
     "text": [
      "User found: {'id': 4, 'email': 'adham1901@hotmail.com', 'password_hash': '7248c6fe50257fce78a4ef2db6257197c790e23181d09e83fe3a2de627d5e47e', 'profile_type': 'admin', 'email_verified': 0, 'email_verification_token': '365894', 'created_at': '2024-04-16 08:52:36', 'updated_at': '2024-04-16 08:52:36'}\n",
      "2024-04-16 11:27:19,852 INFO sqlalchemy.engine.Engine ROLLBACK\n"
     ]
    },
    {
     "name": "stderr",
     "output_type": "stream",
     "text": [
      "INFO:sqlalchemy.engine.Engine:ROLLBACK\n"
     ]
    },
    {
     "data": {
      "text/plain": [
       "{'id': 4,\n",
       " 'email': 'adham1901@hotmail.com',\n",
       " 'password_hash': '7248c6fe50257fce78a4ef2db6257197c790e23181d09e83fe3a2de627d5e47e',\n",
       " 'profile_type': 'admin',\n",
       " 'email_verified': 0,\n",
       " 'email_verification_token': '365894',\n",
       " 'created_at': '2024-04-16 08:52:36',\n",
       " 'updated_at': '2024-04-16 08:52:36'}"
      ]
     },
     "execution_count": 137,
     "metadata": {},
     "output_type": "execute_result"
    }
   ],
   "source": [
    "get_user('adham1901@hotmail.com')"
   ]
  },
  {
   "cell_type": "markdown",
   "id": "40e23af6",
   "metadata": {},
   "source": [
    "## Password Reset "
   ]
  },
  {
   "cell_type": "code",
   "execution_count": null,
   "id": "fe4c8656",
   "metadata": {},
   "outputs": [],
   "source": [
    "create_password_resets_table = text(\"\"\"\n",
    "CREATE TABLE IF NOT EXISTS password_resets (\n",
    "    reset_id INTEGER PRIMARY KEY AUTOINCREMENT,\n",
    "    user_id INTEGER NOT NULL,\n",
    "    reset_token VARCHAR(255) NOT NULL,\n",
    "    expiration_date DATETIME NOT NULL,\n",
    "    created_at DATETIME DEFAULT CURRENT_TIMESTAMP,\n",
    "    used BOOLEAN NOT NULL DEFAULT 0\n",
    ");\n",
    "\"\"\")"
   ]
  },
  {
   "cell_type": "code",
   "execution_count": 197,
   "id": "4e0a6ef2",
   "metadata": {},
   "outputs": [
    {
     "name": "stdout",
     "output_type": "stream",
     "text": [
      "2024-04-16 14:26:21,528 INFO sqlalchemy.engine.Engine BEGIN (implicit)\n"
     ]
    },
    {
     "name": "stderr",
     "output_type": "stream",
     "text": [
      "INFO:sqlalchemy.engine.Engine:BEGIN (implicit)\n"
     ]
    },
    {
     "name": "stdout",
     "output_type": "stream",
     "text": [
      "2024-04-16 14:26:21,528 INFO sqlalchemy.engine.Engine PRAGMA main.table_info(\"SELECT * FROM password_resets\")\n"
     ]
    },
    {
     "name": "stderr",
     "output_type": "stream",
     "text": [
      "INFO:sqlalchemy.engine.Engine:PRAGMA main.table_info(\"SELECT * FROM password_resets\")\n"
     ]
    },
    {
     "name": "stdout",
     "output_type": "stream",
     "text": [
      "2024-04-16 14:26:21,530 INFO sqlalchemy.engine.Engine [raw sql] ()\n"
     ]
    },
    {
     "name": "stderr",
     "output_type": "stream",
     "text": [
      "INFO:sqlalchemy.engine.Engine:[raw sql] ()\n"
     ]
    },
    {
     "name": "stdout",
     "output_type": "stream",
     "text": [
      "2024-04-16 14:26:21,531 INFO sqlalchemy.engine.Engine PRAGMA temp.table_info(\"SELECT * FROM password_resets\")\n"
     ]
    },
    {
     "name": "stderr",
     "output_type": "stream",
     "text": [
      "INFO:sqlalchemy.engine.Engine:PRAGMA temp.table_info(\"SELECT * FROM password_resets\")\n"
     ]
    },
    {
     "name": "stdout",
     "output_type": "stream",
     "text": [
      "2024-04-16 14:26:21,532 INFO sqlalchemy.engine.Engine [raw sql] ()\n"
     ]
    },
    {
     "name": "stderr",
     "output_type": "stream",
     "text": [
      "INFO:sqlalchemy.engine.Engine:[raw sql] ()\n"
     ]
    },
    {
     "name": "stdout",
     "output_type": "stream",
     "text": [
      "2024-04-16 14:26:21,533 INFO sqlalchemy.engine.Engine SELECT * FROM password_resets\n"
     ]
    },
    {
     "name": "stderr",
     "output_type": "stream",
     "text": [
      "INFO:sqlalchemy.engine.Engine:SELECT * FROM password_resets\n"
     ]
    },
    {
     "name": "stdout",
     "output_type": "stream",
     "text": [
      "2024-04-16 14:26:21,534 INFO sqlalchemy.engine.Engine [raw sql] ()\n"
     ]
    },
    {
     "name": "stderr",
     "output_type": "stream",
     "text": [
      "INFO:sqlalchemy.engine.Engine:[raw sql] ()\n"
     ]
    },
    {
     "name": "stdout",
     "output_type": "stream",
     "text": [
      "2024-04-16 14:26:21,536 INFO sqlalchemy.engine.Engine ROLLBACK\n"
     ]
    },
    {
     "name": "stderr",
     "output_type": "stream",
     "text": [
      "INFO:sqlalchemy.engine.Engine:ROLLBACK\n"
     ]
    },
    {
     "data": {
      "text/html": [
       "<div>\n",
       "<style scoped>\n",
       "    .dataframe tbody tr th:only-of-type {\n",
       "        vertical-align: middle;\n",
       "    }\n",
       "\n",
       "    .dataframe tbody tr th {\n",
       "        vertical-align: top;\n",
       "    }\n",
       "\n",
       "    .dataframe thead th {\n",
       "        text-align: right;\n",
       "    }\n",
       "</style>\n",
       "<table border=\"1\" class=\"dataframe\">\n",
       "  <thead>\n",
       "    <tr style=\"text-align: right;\">\n",
       "      <th></th>\n",
       "      <th>reset_id</th>\n",
       "      <th>user_id</th>\n",
       "      <th>reset_token</th>\n",
       "      <th>expiration_date</th>\n",
       "      <th>created_at</th>\n",
       "      <th>used</th>\n",
       "    </tr>\n",
       "  </thead>\n",
       "  <tbody>\n",
       "    <tr>\n",
       "      <th>0</th>\n",
       "      <td>1</td>\n",
       "      <td>4</td>\n",
       "      <td>868365</td>\n",
       "      <td>2024-04-17 09:11:06.384067</td>\n",
       "      <td>2024-04-16 09:11:06</td>\n",
       "      <td>0</td>\n",
       "    </tr>\n",
       "    <tr>\n",
       "      <th>1</th>\n",
       "      <td>2</td>\n",
       "      <td>4</td>\n",
       "      <td>593876</td>\n",
       "      <td>2024-04-17 09:12:28.214291</td>\n",
       "      <td>2024-04-16 09:12:28</td>\n",
       "      <td>0</td>\n",
       "    </tr>\n",
       "    <tr>\n",
       "      <th>2</th>\n",
       "      <td>3</td>\n",
       "      <td>4</td>\n",
       "      <td>573510</td>\n",
       "      <td>2024-04-17 09:12:49.565406</td>\n",
       "      <td>2024-04-16 09:12:49</td>\n",
       "      <td>0</td>\n",
       "    </tr>\n",
       "    <tr>\n",
       "      <th>3</th>\n",
       "      <td>4</td>\n",
       "      <td>4</td>\n",
       "      <td>866230</td>\n",
       "      <td>2024-04-17 09:30:07.084317</td>\n",
       "      <td>2024-04-16 09:30:07</td>\n",
       "      <td>0</td>\n",
       "    </tr>\n",
       "    <tr>\n",
       "      <th>4</th>\n",
       "      <td>5</td>\n",
       "      <td>4</td>\n",
       "      <td>670889</td>\n",
       "      <td>2024-04-17 09:39:45.189450</td>\n",
       "      <td>2024-04-16 09:39:45</td>\n",
       "      <td>0</td>\n",
       "    </tr>\n",
       "    <tr>\n",
       "      <th>5</th>\n",
       "      <td>6</td>\n",
       "      <td>4</td>\n",
       "      <td>813595</td>\n",
       "      <td>2024-04-17 09:39:56.690220</td>\n",
       "      <td>2024-04-16 09:39:56</td>\n",
       "      <td>0</td>\n",
       "    </tr>\n",
       "    <tr>\n",
       "      <th>6</th>\n",
       "      <td>7</td>\n",
       "      <td>4</td>\n",
       "      <td>460719</td>\n",
       "      <td>2024-04-17 09:58:43.464949</td>\n",
       "      <td>2024-04-16 09:58:43</td>\n",
       "      <td>0</td>\n",
       "    </tr>\n",
       "    <tr>\n",
       "      <th>7</th>\n",
       "      <td>8</td>\n",
       "      <td>4</td>\n",
       "      <td>544553</td>\n",
       "      <td>2024-04-17 10:06:02.891025</td>\n",
       "      <td>2024-04-16 10:06:02</td>\n",
       "      <td>0</td>\n",
       "    </tr>\n",
       "    <tr>\n",
       "      <th>8</th>\n",
       "      <td>9</td>\n",
       "      <td>4</td>\n",
       "      <td>688989</td>\n",
       "      <td>2024-04-17 12:19:06.837627</td>\n",
       "      <td>2024-04-16 12:19:06</td>\n",
       "      <td>1</td>\n",
       "    </tr>\n",
       "  </tbody>\n",
       "</table>\n",
       "</div>"
      ],
      "text/plain": [
       "   reset_id  user_id reset_token             expiration_date  \\\n",
       "0         1        4      868365  2024-04-17 09:11:06.384067   \n",
       "1         2        4      593876  2024-04-17 09:12:28.214291   \n",
       "2         3        4      573510  2024-04-17 09:12:49.565406   \n",
       "3         4        4      866230  2024-04-17 09:30:07.084317   \n",
       "4         5        4      670889  2024-04-17 09:39:45.189450   \n",
       "5         6        4      813595  2024-04-17 09:39:56.690220   \n",
       "6         7        4      460719  2024-04-17 09:58:43.464949   \n",
       "7         8        4      544553  2024-04-17 10:06:02.891025   \n",
       "8         9        4      688989  2024-04-17 12:19:06.837627   \n",
       "\n",
       "            created_at  used  \n",
       "0  2024-04-16 09:11:06     0  \n",
       "1  2024-04-16 09:12:28     0  \n",
       "2  2024-04-16 09:12:49     0  \n",
       "3  2024-04-16 09:30:07     0  \n",
       "4  2024-04-16 09:39:45     0  \n",
       "5  2024-04-16 09:39:56     0  \n",
       "6  2024-04-16 09:58:43     0  \n",
       "7  2024-04-16 10:06:02     0  \n",
       "8  2024-04-16 12:19:06     1  "
      ]
     },
     "execution_count": 197,
     "metadata": {},
     "output_type": "execute_result"
    }
   ],
   "source": [
    "pd.read_sql('SELECT * FROM password_resets',engine)"
   ]
  },
  {
   "cell_type": "code",
   "execution_count": 217,
   "id": "f46857f5-0e8d-45cb-a499-8a1a94277d19",
   "metadata": {},
   "outputs": [],
   "source": [
    "def generate_reset_token(user_id):\n",
    "    # Generate a random token\n",
    "    token = generate_verification_token()\n",
    "    expiration_date = datetime.utcnow() + timedelta(hours=24)  # Token valid for 24 hours\n",
    "\n",
    "    insert_token = text(\"\"\"\n",
    "        INSERT INTO password_resets (user_id, reset_token, expiration_date, used)\n",
    "        VALUES (:user_id, :reset_token, :expiration_date, 0);\n",
    "    \"\"\")\n",
    "\n",
    "    with engine.begin() as connection:\n",
    "        connection.execute(insert_token, {\n",
    "            \"user_id\": user_id,\n",
    "            \"reset_token\": token,\n",
    "            \"expiration_date\": expiration_date\n",
    "        })\n",
    "    return token \n",
    "\n",
    "\n",
    "# first step to reset the password\n",
    "def send_reset_email(email):\n",
    "    user_id = get_user(email)['id']\n",
    "    token = generate_reset_token(user_id)\n",
    "\n",
    "    print(f'Send email to {email}  with reset token {token}')\n",
    "\n",
    "\n",
    "def reset_password(email, token,new_password):\n",
    "    user_id = get_user(email)['id']\n",
    "    \n",
    "    verify_token = text(\"\"\"\n",
    "        SELECT * FROM password_resets\n",
    "        WHERE user_id = :user_id AND reset_token = :reset_token\n",
    "          AND expiration_date > :current_time AND used = 0;\n",
    "    \"\"\")\n",
    "    \n",
    "    current_time = datetime.utcnow()\n",
    "\n",
    "    with engine.begin() as connection:\n",
    "        result = connection.execute(verify_token, {\n",
    "            \"user_id\": user_id,\n",
    "            \"reset_token\": token,\n",
    "            \"current_time\": current_time\n",
    "        }).fetchone()\n",
    "        if result:\n",
    "                # Token is valid, reset the password\n",
    "                update_token_used = text(\"\"\"\n",
    "                    UPDATE password_resets\n",
    "                    SET used = 1\n",
    "                    WHERE reset_id = :reset_id;\n",
    "                \"\"\")\n",
    "                \n",
    "                # Modify \n",
    "                modify_user(email=email,new_password=new_password)\n",
    "                \n",
    "                connection.execute(update_token_used, {\"reset_id\": result[0]})\n",
    "                print(\"Password has been reset successfully.\")\n",
    "        else:\n",
    "            print(\"Invalid or expired reset token.\") \n"
   ]
  },
  {
   "cell_type": "code",
   "execution_count": 202,
   "id": "b4f23b98",
   "metadata": {},
   "outputs": [
    {
     "name": "stdout",
     "output_type": "stream",
     "text": [
      "2024-04-16 14:28:52,659 INFO sqlalchemy.engine.Engine BEGIN (implicit)\n"
     ]
    },
    {
     "name": "stderr",
     "output_type": "stream",
     "text": [
      "INFO:sqlalchemy.engine.Engine:BEGIN (implicit)\n"
     ]
    },
    {
     "name": "stdout",
     "output_type": "stream",
     "text": [
      "2024-04-16 14:28:52,660 INFO sqlalchemy.engine.Engine PRAGMA main.table_info(\"SELECT * FROM users\")\n"
     ]
    },
    {
     "name": "stderr",
     "output_type": "stream",
     "text": [
      "INFO:sqlalchemy.engine.Engine:PRAGMA main.table_info(\"SELECT * FROM users\")\n"
     ]
    },
    {
     "name": "stdout",
     "output_type": "stream",
     "text": [
      "2024-04-16 14:28:52,660 INFO sqlalchemy.engine.Engine [raw sql] ()\n"
     ]
    },
    {
     "name": "stderr",
     "output_type": "stream",
     "text": [
      "INFO:sqlalchemy.engine.Engine:[raw sql] ()\n"
     ]
    },
    {
     "name": "stdout",
     "output_type": "stream",
     "text": [
      "2024-04-16 14:28:52,662 INFO sqlalchemy.engine.Engine PRAGMA temp.table_info(\"SELECT * FROM users\")\n"
     ]
    },
    {
     "name": "stderr",
     "output_type": "stream",
     "text": [
      "INFO:sqlalchemy.engine.Engine:PRAGMA temp.table_info(\"SELECT * FROM users\")\n"
     ]
    },
    {
     "name": "stdout",
     "output_type": "stream",
     "text": [
      "2024-04-16 14:28:52,663 INFO sqlalchemy.engine.Engine [raw sql] ()\n"
     ]
    },
    {
     "name": "stderr",
     "output_type": "stream",
     "text": [
      "INFO:sqlalchemy.engine.Engine:[raw sql] ()\n"
     ]
    },
    {
     "name": "stdout",
     "output_type": "stream",
     "text": [
      "2024-04-16 14:28:52,664 INFO sqlalchemy.engine.Engine SELECT * FROM users\n"
     ]
    },
    {
     "name": "stderr",
     "output_type": "stream",
     "text": [
      "INFO:sqlalchemy.engine.Engine:SELECT * FROM users\n"
     ]
    },
    {
     "name": "stdout",
     "output_type": "stream",
     "text": [
      "2024-04-16 14:28:52,665 INFO sqlalchemy.engine.Engine [raw sql] ()\n"
     ]
    },
    {
     "name": "stderr",
     "output_type": "stream",
     "text": [
      "INFO:sqlalchemy.engine.Engine:[raw sql] ()\n"
     ]
    },
    {
     "name": "stdout",
     "output_type": "stream",
     "text": [
      "2024-04-16 14:28:52,667 INFO sqlalchemy.engine.Engine ROLLBACK\n"
     ]
    },
    {
     "name": "stderr",
     "output_type": "stream",
     "text": [
      "INFO:sqlalchemy.engine.Engine:ROLLBACK\n"
     ]
    }
   ],
   "source": [
    "df1 = pd.read_sql('SELECT * FROM users',engine)"
   ]
  },
  {
   "cell_type": "code",
   "execution_count": 203,
   "id": "acfff3ae",
   "metadata": {},
   "outputs": [
    {
     "name": "stdout",
     "output_type": "stream",
     "text": [
      "2024-04-16 14:29:14,874 INFO sqlalchemy.engine.Engine BEGIN (implicit)\n"
     ]
    },
    {
     "name": "stderr",
     "output_type": "stream",
     "text": [
      "INFO:sqlalchemy.engine.Engine:BEGIN (implicit)\n"
     ]
    },
    {
     "name": "stdout",
     "output_type": "stream",
     "text": [
      "2024-04-16 14:29:14,876 INFO sqlalchemy.engine.Engine SELECT * FROM users WHERE email = ?\n"
     ]
    },
    {
     "name": "stderr",
     "output_type": "stream",
     "text": [
      "INFO:sqlalchemy.engine.Engine:SELECT * FROM users WHERE email = ?\n"
     ]
    },
    {
     "name": "stdout",
     "output_type": "stream",
     "text": [
      "2024-04-16 14:29:14,877 INFO sqlalchemy.engine.Engine [cached since 8552s ago] ('adham1901@hotmail.com',)\n"
     ]
    },
    {
     "name": "stderr",
     "output_type": "stream",
     "text": [
      "INFO:sqlalchemy.engine.Engine:[cached since 8552s ago] ('adham1901@hotmail.com',)\n"
     ]
    },
    {
     "name": "stdout",
     "output_type": "stream",
     "text": [
      "User found: {'id': 4, 'email': 'adham1901@hotmail.com', 'password_hash': 'b22951fb620b9adab45bc8b55e6b71f7962d11abb2a04321df61416a218efdfe', 'profile_type': 'admin', 'email_verified': 0, 'email_verification_token': '365894', 'created_at': '2024-04-16 08:52:36', 'updated_at': '2024-04-16 08:52:36'}\n",
      "2024-04-16 14:29:14,878 INFO sqlalchemy.engine.Engine ROLLBACK\n"
     ]
    },
    {
     "name": "stderr",
     "output_type": "stream",
     "text": [
      "INFO:sqlalchemy.engine.Engine:ROLLBACK\n"
     ]
    },
    {
     "name": "stdout",
     "output_type": "stream",
     "text": [
      "2024-04-16 14:29:14,879 INFO sqlalchemy.engine.Engine BEGIN (implicit)\n"
     ]
    },
    {
     "name": "stderr",
     "output_type": "stream",
     "text": [
      "INFO:sqlalchemy.engine.Engine:BEGIN (implicit)\n"
     ]
    },
    {
     "name": "stdout",
     "output_type": "stream",
     "text": [
      "2024-04-16 14:29:14,880 INFO sqlalchemy.engine.Engine \n",
      "        INSERT INTO password_resets (user_id, reset_token, expiration_date, used)\n",
      "        VALUES (?, ?, ?, 0);\n",
      "    \n"
     ]
    },
    {
     "name": "stderr",
     "output_type": "stream",
     "text": [
      "INFO:sqlalchemy.engine.Engine:\n",
      "        INSERT INTO password_resets (user_id, reset_token, expiration_date, used)\n",
      "        VALUES (?, ?, ?, 0);\n",
      "    \n"
     ]
    },
    {
     "name": "stdout",
     "output_type": "stream",
     "text": [
      "2024-04-16 14:29:14,881 INFO sqlalchemy.engine.Engine [cached since 608s ago] (4, '801859', datetime.datetime(2024, 4, 17, 12, 29, 14, 879689))\n"
     ]
    },
    {
     "name": "stderr",
     "output_type": "stream",
     "text": [
      "INFO:sqlalchemy.engine.Engine:[cached since 608s ago] (4, '801859', datetime.datetime(2024, 4, 17, 12, 29, 14, 879689))\n"
     ]
    },
    {
     "name": "stdout",
     "output_type": "stream",
     "text": [
      "2024-04-16 14:29:14,883 INFO sqlalchemy.engine.Engine COMMIT\n"
     ]
    },
    {
     "name": "stderr",
     "output_type": "stream",
     "text": [
      "INFO:sqlalchemy.engine.Engine:COMMIT\n"
     ]
    },
    {
     "name": "stdout",
     "output_type": "stream",
     "text": [
      "Send email to adham1901@hotmail.com  with reset token 801859\n"
     ]
    }
   ],
   "source": [
    "send_reset_email('adham1901@hotmail.com')"
   ]
  },
  {
   "cell_type": "code",
   "execution_count": 204,
   "id": "0a075853",
   "metadata": {},
   "outputs": [
    {
     "name": "stdout",
     "output_type": "stream",
     "text": [
      "2024-04-16 14:29:27,694 INFO sqlalchemy.engine.Engine BEGIN (implicit)\n"
     ]
    },
    {
     "name": "stderr",
     "output_type": "stream",
     "text": [
      "INFO:sqlalchemy.engine.Engine:BEGIN (implicit)\n"
     ]
    },
    {
     "name": "stdout",
     "output_type": "stream",
     "text": [
      "2024-04-16 14:29:27,696 INFO sqlalchemy.engine.Engine SELECT * FROM users WHERE email = ?\n"
     ]
    },
    {
     "name": "stderr",
     "output_type": "stream",
     "text": [
      "INFO:sqlalchemy.engine.Engine:SELECT * FROM users WHERE email = ?\n"
     ]
    },
    {
     "name": "stdout",
     "output_type": "stream",
     "text": [
      "2024-04-16 14:29:27,697 INFO sqlalchemy.engine.Engine [cached since 8565s ago] ('adham1901@hotmail.com',)\n"
     ]
    },
    {
     "name": "stderr",
     "output_type": "stream",
     "text": [
      "INFO:sqlalchemy.engine.Engine:[cached since 8565s ago] ('adham1901@hotmail.com',)\n"
     ]
    },
    {
     "name": "stdout",
     "output_type": "stream",
     "text": [
      "User found: {'id': 4, 'email': 'adham1901@hotmail.com', 'password_hash': 'b22951fb620b9adab45bc8b55e6b71f7962d11abb2a04321df61416a218efdfe', 'profile_type': 'admin', 'email_verified': 0, 'email_verification_token': '365894', 'created_at': '2024-04-16 08:52:36', 'updated_at': '2024-04-16 08:52:36'}\n",
      "2024-04-16 14:29:27,699 INFO sqlalchemy.engine.Engine ROLLBACK\n"
     ]
    },
    {
     "name": "stderr",
     "output_type": "stream",
     "text": [
      "INFO:sqlalchemy.engine.Engine:ROLLBACK\n"
     ]
    },
    {
     "name": "stdout",
     "output_type": "stream",
     "text": [
      "2024-04-16 14:29:27,700 INFO sqlalchemy.engine.Engine BEGIN (implicit)\n"
     ]
    },
    {
     "name": "stderr",
     "output_type": "stream",
     "text": [
      "INFO:sqlalchemy.engine.Engine:BEGIN (implicit)\n"
     ]
    },
    {
     "name": "stdout",
     "output_type": "stream",
     "text": [
      "2024-04-16 14:29:27,702 INFO sqlalchemy.engine.Engine \n",
      "        SELECT * FROM password_resets\n",
      "        WHERE user_id = ? AND reset_token = ?\n",
      "          AND expiration_date > ? AND used = 0;\n",
      "    \n"
     ]
    },
    {
     "name": "stderr",
     "output_type": "stream",
     "text": [
      "INFO:sqlalchemy.engine.Engine:\n",
      "        SELECT * FROM password_resets\n",
      "        WHERE user_id = ? AND reset_token = ?\n",
      "          AND expiration_date > ? AND used = 0;\n",
      "    \n"
     ]
    },
    {
     "name": "stdout",
     "output_type": "stream",
     "text": [
      "2024-04-16 14:29:27,702 INFO sqlalchemy.engine.Engine [cached since 8565s ago] (4, '801859', datetime.datetime(2024, 4, 16, 12, 29, 27, 700655))\n"
     ]
    },
    {
     "name": "stderr",
     "output_type": "stream",
     "text": [
      "INFO:sqlalchemy.engine.Engine:[cached since 8565s ago] (4, '801859', datetime.datetime(2024, 4, 16, 12, 29, 27, 700655))\n"
     ]
    },
    {
     "name": "stdout",
     "output_type": "stream",
     "text": [
      "2024-04-16 14:29:27,705 INFO sqlalchemy.engine.Engine BEGIN (implicit)\n"
     ]
    },
    {
     "name": "stderr",
     "output_type": "stream",
     "text": [
      "INFO:sqlalchemy.engine.Engine:BEGIN (implicit)\n"
     ]
    },
    {
     "name": "stdout",
     "output_type": "stream",
     "text": [
      "2024-04-16 14:29:27,706 INFO sqlalchemy.engine.Engine UPDATE users SET password_hash = ? WHERE email = ?\n"
     ]
    },
    {
     "name": "stderr",
     "output_type": "stream",
     "text": [
      "INFO:sqlalchemy.engine.Engine:UPDATE users SET password_hash = ? WHERE email = ?\n"
     ]
    },
    {
     "name": "stdout",
     "output_type": "stream",
     "text": [
      "2024-04-16 14:29:27,707 INFO sqlalchemy.engine.Engine [cached since 8565s ago] ('20db5a9423f0552c251f2a27c0023b6bc4b296e742c90bcc0936cfcad1cbb182', 'adham1901@hotmail.com')\n"
     ]
    },
    {
     "name": "stderr",
     "output_type": "stream",
     "text": [
      "INFO:sqlalchemy.engine.Engine:[cached since 8565s ago] ('20db5a9423f0552c251f2a27c0023b6bc4b296e742c90bcc0936cfcad1cbb182', 'adham1901@hotmail.com')\n"
     ]
    },
    {
     "name": "stdout",
     "output_type": "stream",
     "text": [
      "User adham1901@hotmail.com updated successfully.\n",
      "2024-04-16 14:29:27,709 INFO sqlalchemy.engine.Engine COMMIT\n"
     ]
    },
    {
     "name": "stderr",
     "output_type": "stream",
     "text": [
      "INFO:sqlalchemy.engine.Engine:COMMIT\n"
     ]
    },
    {
     "name": "stdout",
     "output_type": "stream",
     "text": [
      "2024-04-16 14:29:27,715 INFO sqlalchemy.engine.Engine \n",
      "                    UPDATE password_resets\n",
      "                    SET used = 1\n",
      "                    WHERE reset_id = ?;\n",
      "                \n"
     ]
    },
    {
     "name": "stderr",
     "output_type": "stream",
     "text": [
      "INFO:sqlalchemy.engine.Engine:\n",
      "                    UPDATE password_resets\n",
      "                    SET used = 1\n",
      "                    WHERE reset_id = ?;\n",
      "                \n"
     ]
    },
    {
     "name": "stdout",
     "output_type": "stream",
     "text": [
      "2024-04-16 14:29:27,716 INFO sqlalchemy.engine.Engine [cached since 8565s ago] (11,)\n"
     ]
    },
    {
     "name": "stderr",
     "output_type": "stream",
     "text": [
      "INFO:sqlalchemy.engine.Engine:[cached since 8565s ago] (11,)\n"
     ]
    },
    {
     "name": "stdout",
     "output_type": "stream",
     "text": [
      "Password has been reset successfully.\n",
      "2024-04-16 14:29:27,719 INFO sqlalchemy.engine.Engine COMMIT\n"
     ]
    },
    {
     "name": "stderr",
     "output_type": "stream",
     "text": [
      "INFO:sqlalchemy.engine.Engine:COMMIT\n"
     ]
    }
   ],
   "source": [
    "result = reset_password(email='adham1901@hotmail.com',token='801859',new_password='amingugue')"
   ]
  },
  {
   "cell_type": "code",
   "execution_count": 206,
   "id": "4783e9d0",
   "metadata": {},
   "outputs": [
    {
     "name": "stdout",
     "output_type": "stream",
     "text": [
      "2024-04-16 14:29:35,147 INFO sqlalchemy.engine.Engine BEGIN (implicit)\n"
     ]
    },
    {
     "name": "stderr",
     "output_type": "stream",
     "text": [
      "INFO:sqlalchemy.engine.Engine:BEGIN (implicit)\n"
     ]
    },
    {
     "name": "stdout",
     "output_type": "stream",
     "text": [
      "2024-04-16 14:29:35,148 INFO sqlalchemy.engine.Engine PRAGMA main.table_info(\"SELECT * FROM users\")\n"
     ]
    },
    {
     "name": "stderr",
     "output_type": "stream",
     "text": [
      "INFO:sqlalchemy.engine.Engine:PRAGMA main.table_info(\"SELECT * FROM users\")\n"
     ]
    },
    {
     "name": "stdout",
     "output_type": "stream",
     "text": [
      "2024-04-16 14:29:35,149 INFO sqlalchemy.engine.Engine [raw sql] ()\n"
     ]
    },
    {
     "name": "stderr",
     "output_type": "stream",
     "text": [
      "INFO:sqlalchemy.engine.Engine:[raw sql] ()\n"
     ]
    },
    {
     "name": "stdout",
     "output_type": "stream",
     "text": [
      "2024-04-16 14:29:35,151 INFO sqlalchemy.engine.Engine PRAGMA temp.table_info(\"SELECT * FROM users\")\n"
     ]
    },
    {
     "name": "stderr",
     "output_type": "stream",
     "text": [
      "INFO:sqlalchemy.engine.Engine:PRAGMA temp.table_info(\"SELECT * FROM users\")\n"
     ]
    },
    {
     "name": "stdout",
     "output_type": "stream",
     "text": [
      "2024-04-16 14:29:35,151 INFO sqlalchemy.engine.Engine [raw sql] ()\n"
     ]
    },
    {
     "name": "stderr",
     "output_type": "stream",
     "text": [
      "INFO:sqlalchemy.engine.Engine:[raw sql] ()\n"
     ]
    },
    {
     "name": "stdout",
     "output_type": "stream",
     "text": [
      "2024-04-16 14:29:35,152 INFO sqlalchemy.engine.Engine SELECT * FROM users\n"
     ]
    },
    {
     "name": "stderr",
     "output_type": "stream",
     "text": [
      "INFO:sqlalchemy.engine.Engine:SELECT * FROM users\n"
     ]
    },
    {
     "name": "stdout",
     "output_type": "stream",
     "text": [
      "2024-04-16 14:29:35,153 INFO sqlalchemy.engine.Engine [raw sql] ()\n"
     ]
    },
    {
     "name": "stderr",
     "output_type": "stream",
     "text": [
      "INFO:sqlalchemy.engine.Engine:[raw sql] ()\n"
     ]
    },
    {
     "name": "stdout",
     "output_type": "stream",
     "text": [
      "2024-04-16 14:29:35,155 INFO sqlalchemy.engine.Engine ROLLBACK\n"
     ]
    },
    {
     "name": "stderr",
     "output_type": "stream",
     "text": [
      "INFO:sqlalchemy.engine.Engine:ROLLBACK\n"
     ]
    }
   ],
   "source": [
    "df2 = pd.read_sql('SELECT * FROM users',engine)"
   ]
  },
  {
   "cell_type": "code",
   "execution_count": 207,
   "id": "71c309d0",
   "metadata": {},
   "outputs": [
    {
     "data": {
      "text/html": [
       "<div>\n",
       "<style scoped>\n",
       "    .dataframe tbody tr th:only-of-type {\n",
       "        vertical-align: middle;\n",
       "    }\n",
       "\n",
       "    .dataframe tbody tr th {\n",
       "        vertical-align: top;\n",
       "    }\n",
       "\n",
       "    .dataframe thead th {\n",
       "        text-align: right;\n",
       "    }\n",
       "</style>\n",
       "<table border=\"1\" class=\"dataframe\">\n",
       "  <thead>\n",
       "    <tr style=\"text-align: right;\">\n",
       "      <th></th>\n",
       "      <th>user_id</th>\n",
       "      <th>email</th>\n",
       "      <th>password_hash</th>\n",
       "      <th>profile_type</th>\n",
       "      <th>email_verified</th>\n",
       "      <th>email_verification_token</th>\n",
       "      <th>created_at</th>\n",
       "      <th>updated_at</th>\n",
       "    </tr>\n",
       "  </thead>\n",
       "  <tbody>\n",
       "    <tr>\n",
       "      <th>0</th>\n",
       "      <td>4</td>\n",
       "      <td>adham1901@hotmail.com</td>\n",
       "      <td>20db5a9423f0552c251f2a27c0023b6bc4b296e742c90b...</td>\n",
       "      <td>admin</td>\n",
       "      <td>0</td>\n",
       "      <td>365894</td>\n",
       "      <td>2024-04-16 08:52:36</td>\n",
       "      <td>2024-04-16 08:52:36</td>\n",
       "    </tr>\n",
       "  </tbody>\n",
       "</table>\n",
       "</div>"
      ],
      "text/plain": [
       "   user_id                  email  \\\n",
       "0        4  adham1901@hotmail.com   \n",
       "\n",
       "                                       password_hash profile_type  \\\n",
       "0  20db5a9423f0552c251f2a27c0023b6bc4b296e742c90b...        admin   \n",
       "\n",
       "   email_verified email_verification_token           created_at  \\\n",
       "0               0                   365894  2024-04-16 08:52:36   \n",
       "\n",
       "            updated_at  \n",
       "0  2024-04-16 08:52:36  "
      ]
     },
     "execution_count": 207,
     "metadata": {},
     "output_type": "execute_result"
    }
   ],
   "source": [
    "df2"
   ]
  },
  {
   "cell_type": "code",
   "execution_count": 208,
   "id": "20e10708",
   "metadata": {},
   "outputs": [
    {
     "data": {
      "text/html": [
       "<div>\n",
       "<style scoped>\n",
       "    .dataframe tbody tr th:only-of-type {\n",
       "        vertical-align: middle;\n",
       "    }\n",
       "\n",
       "    .dataframe tbody tr th {\n",
       "        vertical-align: top;\n",
       "    }\n",
       "\n",
       "    .dataframe thead th {\n",
       "        text-align: right;\n",
       "    }\n",
       "</style>\n",
       "<table border=\"1\" class=\"dataframe\">\n",
       "  <thead>\n",
       "    <tr style=\"text-align: right;\">\n",
       "      <th></th>\n",
       "      <th>user_id</th>\n",
       "      <th>email</th>\n",
       "      <th>password_hash</th>\n",
       "      <th>profile_type</th>\n",
       "      <th>email_verified</th>\n",
       "      <th>email_verification_token</th>\n",
       "      <th>created_at</th>\n",
       "      <th>updated_at</th>\n",
       "    </tr>\n",
       "  </thead>\n",
       "  <tbody>\n",
       "    <tr>\n",
       "      <th>0</th>\n",
       "      <td>4</td>\n",
       "      <td>adham1901@hotmail.com</td>\n",
       "      <td>b22951fb620b9adab45bc8b55e6b71f7962d11abb2a043...</td>\n",
       "      <td>admin</td>\n",
       "      <td>0</td>\n",
       "      <td>365894</td>\n",
       "      <td>2024-04-16 08:52:36</td>\n",
       "      <td>2024-04-16 08:52:36</td>\n",
       "    </tr>\n",
       "  </tbody>\n",
       "</table>\n",
       "</div>"
      ],
      "text/plain": [
       "   user_id                  email  \\\n",
       "0        4  adham1901@hotmail.com   \n",
       "\n",
       "                                       password_hash profile_type  \\\n",
       "0  b22951fb620b9adab45bc8b55e6b71f7962d11abb2a043...        admin   \n",
       "\n",
       "   email_verified email_verification_token           created_at  \\\n",
       "0               0                   365894  2024-04-16 08:52:36   \n",
       "\n",
       "            updated_at  \n",
       "0  2024-04-16 08:52:36  "
      ]
     },
     "execution_count": 208,
     "metadata": {},
     "output_type": "execute_result"
    }
   ],
   "source": [
    "df1"
   ]
  },
  {
   "cell_type": "markdown",
   "id": "54e49cb1",
   "metadata": {},
   "source": [
    "## Social Logins"
   ]
  },
  {
   "cell_type": "code",
   "execution_count": 213,
   "id": "b8da6384",
   "metadata": {},
   "outputs": [
    {
     "name": "stdout",
     "output_type": "stream",
     "text": [
      "\n",
      "CREATE TABLE IF NOT EXISTS social_logins (\n",
      "    social_id INTEGER PRIMARY KEY AUTOINCREMENT,\n",
      "    user_id INTEGER NOT NULL,\n",
      "    provider VARCHAR(50) NOT NULL,\n",
      "    social_user_id VARCHAR(255) NOT NULL,\n",
      "    created_at DATETIME DEFAULT CURRENT_TIMESTAMP,\n",
      "    updated_at DATETIME DEFAULT CURRENT_TIMESTAMP,\n",
      "    FOREIGN KEY (user_id) REFERENCES users(user_id)\n",
      ");\n",
      "\n"
     ]
    }
   ],
   "source": [
    "print(create_social_logins_table)"
   ]
  },
  {
   "cell_type": "code",
   "execution_count": 209,
   "id": "5a2795ac",
   "metadata": {},
   "outputs": [
    {
     "data": {
      "text/plain": [
       "[('sqlite_sequence',), ('users',), ('social_logins',), ('password_resets',)]"
      ]
     },
     "execution_count": 209,
     "metadata": {},
     "output_type": "execute_result"
    }
   ],
   "source": [
    "tables"
   ]
  },
  {
   "cell_type": "code",
   "execution_count": 215,
   "id": "3c7622a2",
   "metadata": {},
   "outputs": [
    {
     "name": "stdout",
     "output_type": "stream",
     "text": [
      "2024-04-16 14:37:35,436 INFO sqlalchemy.engine.Engine BEGIN (implicit)\n"
     ]
    },
    {
     "name": "stderr",
     "output_type": "stream",
     "text": [
      "INFO:sqlalchemy.engine.Engine:BEGIN (implicit)\n"
     ]
    },
    {
     "name": "stdout",
     "output_type": "stream",
     "text": [
      "2024-04-16 14:37:35,437 INFO sqlalchemy.engine.Engine SELECT * FROM users WHERE email = ?\n"
     ]
    },
    {
     "name": "stderr",
     "output_type": "stream",
     "text": [
      "INFO:sqlalchemy.engine.Engine:SELECT * FROM users WHERE email = ?\n"
     ]
    },
    {
     "name": "stdout",
     "output_type": "stream",
     "text": [
      "2024-04-16 14:37:35,437 INFO sqlalchemy.engine.Engine [cached since 9052s ago] ('adham1901@hotmail.com',)\n"
     ]
    },
    {
     "name": "stderr",
     "output_type": "stream",
     "text": [
      "INFO:sqlalchemy.engine.Engine:[cached since 9052s ago] ('adham1901@hotmail.com',)\n"
     ]
    },
    {
     "name": "stdout",
     "output_type": "stream",
     "text": [
      "User found: {'id': 4, 'email': 'adham1901@hotmail.com', 'password_hash': '20db5a9423f0552c251f2a27c0023b6bc4b296e742c90bcc0936cfcad1cbb182', 'profile_type': 'admin', 'email_verified': 0, 'email_verification_token': '365894', 'created_at': '2024-04-16 08:52:36', 'updated_at': '2024-04-16 08:52:36'}\n",
      "2024-04-16 14:37:35,439 INFO sqlalchemy.engine.Engine ROLLBACK\n"
     ]
    },
    {
     "name": "stderr",
     "output_type": "stream",
     "text": [
      "INFO:sqlalchemy.engine.Engine:ROLLBACK\n"
     ]
    },
    {
     "data": {
      "text/plain": [
       "4"
      ]
     },
     "execution_count": 215,
     "metadata": {},
     "output_type": "execute_result"
    }
   ],
   "source": [
    "get_user('adham1901@hotmail.com')['id']"
   ]
  },
  {
   "cell_type": "code",
   "execution_count": 219,
   "id": "8a70c714",
   "metadata": {},
   "outputs": [],
   "source": [
    "def add_social_login(user_id, provider, social_user_id):\n",
    "    insert_query = text(\"\"\"\n",
    "        INSERT INTO social_logins (user_id, provider, social_user_id)\n",
    "        VALUES (:user_id, :provider, :social_user_id);\n",
    "    \"\"\")\n",
    "    with engine.begin() as connection:\n",
    "        connection.execute(insert_query, {\n",
    "            \"user_id\": user_id,\n",
    "            \"provider\": provider,\n",
    "            \"social_user_id\": social_user_id\n",
    "        })\n",
    "        print(f\"Social login added for user ID {user_id} with provider {provider}.\")"
   ]
  },
  {
   "cell_type": "code",
   "execution_count": 220,
   "id": "05579fa3",
   "metadata": {},
   "outputs": [
    {
     "name": "stdout",
     "output_type": "stream",
     "text": [
      "2024-04-16 14:46:25,355 INFO sqlalchemy.engine.Engine BEGIN (implicit)\n"
     ]
    },
    {
     "name": "stderr",
     "output_type": "stream",
     "text": [
      "INFO:sqlalchemy.engine.Engine:BEGIN (implicit)\n"
     ]
    },
    {
     "name": "stdout",
     "output_type": "stream",
     "text": [
      "2024-04-16 14:46:25,356 INFO sqlalchemy.engine.Engine \n",
      "        INSERT INTO social_logins (user_id, provider, social_user_id)\n",
      "        VALUES (?, ?, ?);\n",
      "    \n"
     ]
    },
    {
     "name": "stderr",
     "output_type": "stream",
     "text": [
      "INFO:sqlalchemy.engine.Engine:\n",
      "        INSERT INTO social_logins (user_id, provider, social_user_id)\n",
      "        VALUES (?, ?, ?);\n",
      "    \n"
     ]
    },
    {
     "name": "stdout",
     "output_type": "stream",
     "text": [
      "2024-04-16 14:46:25,357 INFO sqlalchemy.engine.Engine [generated in 0.00091s] (1, 'Google', 'google123456')\n"
     ]
    },
    {
     "name": "stderr",
     "output_type": "stream",
     "text": [
      "INFO:sqlalchemy.engine.Engine:[generated in 0.00091s] (1, 'Google', 'google123456')\n"
     ]
    },
    {
     "name": "stdout",
     "output_type": "stream",
     "text": [
      "Social login added for user ID 1 with provider Google.\n",
      "2024-04-16 14:46:25,359 INFO sqlalchemy.engine.Engine COMMIT\n"
     ]
    },
    {
     "name": "stderr",
     "output_type": "stream",
     "text": [
      "INFO:sqlalchemy.engine.Engine:COMMIT\n"
     ]
    }
   ],
   "source": [
    "# Usage\n",
    "add_social_login(user_id=1, provider='Google', social_user_id='google123456')"
   ]
  },
  {
   "cell_type": "code",
   "execution_count": 221,
   "id": "85908e86",
   "metadata": {},
   "outputs": [
    {
     "name": "stdout",
     "output_type": "stream",
     "text": [
      "2024-04-16 14:46:30,844 INFO sqlalchemy.engine.Engine BEGIN (implicit)\n"
     ]
    },
    {
     "name": "stderr",
     "output_type": "stream",
     "text": [
      "INFO:sqlalchemy.engine.Engine:BEGIN (implicit)\n"
     ]
    },
    {
     "name": "stdout",
     "output_type": "stream",
     "text": [
      "2024-04-16 14:46:30,844 INFO sqlalchemy.engine.Engine PRAGMA main.table_info(\"SELECT * FROM social_logins\")\n"
     ]
    },
    {
     "name": "stderr",
     "output_type": "stream",
     "text": [
      "INFO:sqlalchemy.engine.Engine:PRAGMA main.table_info(\"SELECT * FROM social_logins\")\n"
     ]
    },
    {
     "name": "stdout",
     "output_type": "stream",
     "text": [
      "2024-04-16 14:46:30,845 INFO sqlalchemy.engine.Engine [raw sql] ()\n"
     ]
    },
    {
     "name": "stderr",
     "output_type": "stream",
     "text": [
      "INFO:sqlalchemy.engine.Engine:[raw sql] ()\n"
     ]
    },
    {
     "name": "stdout",
     "output_type": "stream",
     "text": [
      "2024-04-16 14:46:30,846 INFO sqlalchemy.engine.Engine PRAGMA temp.table_info(\"SELECT * FROM social_logins\")\n"
     ]
    },
    {
     "name": "stderr",
     "output_type": "stream",
     "text": [
      "INFO:sqlalchemy.engine.Engine:PRAGMA temp.table_info(\"SELECT * FROM social_logins\")\n"
     ]
    },
    {
     "name": "stdout",
     "output_type": "stream",
     "text": [
      "2024-04-16 14:46:30,847 INFO sqlalchemy.engine.Engine [raw sql] ()\n"
     ]
    },
    {
     "name": "stderr",
     "output_type": "stream",
     "text": [
      "INFO:sqlalchemy.engine.Engine:[raw sql] ()\n"
     ]
    },
    {
     "name": "stdout",
     "output_type": "stream",
     "text": [
      "2024-04-16 14:46:30,848 INFO sqlalchemy.engine.Engine SELECT * FROM social_logins\n"
     ]
    },
    {
     "name": "stderr",
     "output_type": "stream",
     "text": [
      "INFO:sqlalchemy.engine.Engine:SELECT * FROM social_logins\n"
     ]
    },
    {
     "name": "stdout",
     "output_type": "stream",
     "text": [
      "2024-04-16 14:46:30,849 INFO sqlalchemy.engine.Engine [raw sql] ()\n"
     ]
    },
    {
     "name": "stderr",
     "output_type": "stream",
     "text": [
      "INFO:sqlalchemy.engine.Engine:[raw sql] ()\n"
     ]
    },
    {
     "name": "stdout",
     "output_type": "stream",
     "text": [
      "2024-04-16 14:46:30,852 INFO sqlalchemy.engine.Engine ROLLBACK\n"
     ]
    },
    {
     "name": "stderr",
     "output_type": "stream",
     "text": [
      "INFO:sqlalchemy.engine.Engine:ROLLBACK\n"
     ]
    },
    {
     "data": {
      "text/html": [
       "<div>\n",
       "<style scoped>\n",
       "    .dataframe tbody tr th:only-of-type {\n",
       "        vertical-align: middle;\n",
       "    }\n",
       "\n",
       "    .dataframe tbody tr th {\n",
       "        vertical-align: top;\n",
       "    }\n",
       "\n",
       "    .dataframe thead th {\n",
       "        text-align: right;\n",
       "    }\n",
       "</style>\n",
       "<table border=\"1\" class=\"dataframe\">\n",
       "  <thead>\n",
       "    <tr style=\"text-align: right;\">\n",
       "      <th></th>\n",
       "      <th>social_id</th>\n",
       "      <th>user_id</th>\n",
       "      <th>provider</th>\n",
       "      <th>social_user_id</th>\n",
       "      <th>created_at</th>\n",
       "      <th>updated_at</th>\n",
       "    </tr>\n",
       "  </thead>\n",
       "  <tbody>\n",
       "    <tr>\n",
       "      <th>0</th>\n",
       "      <td>1</td>\n",
       "      <td>1</td>\n",
       "      <td>Google</td>\n",
       "      <td>google123456</td>\n",
       "      <td>2024-04-16 12:46:25</td>\n",
       "      <td>2024-04-16 12:46:25</td>\n",
       "    </tr>\n",
       "  </tbody>\n",
       "</table>\n",
       "</div>"
      ],
      "text/plain": [
       "   social_id  user_id provider social_user_id           created_at  \\\n",
       "0          1        1   Google   google123456  2024-04-16 12:46:25   \n",
       "\n",
       "            updated_at  \n",
       "0  2024-04-16 12:46:25  "
      ]
     },
     "execution_count": 221,
     "metadata": {},
     "output_type": "execute_result"
    }
   ],
   "source": [
    "pd.read_sql('SELECT * FROM social_logins',engine)"
   ]
  },
  {
   "cell_type": "markdown",
   "id": "5b2a450d",
   "metadata": {},
   "source": [
    "## Log Table \n",
    "- add a session_id "
   ]
  },
  {
   "cell_type": "code",
   "execution_count": 20,
   "id": "3eed3b1e",
   "metadata": {},
   "outputs": [],
   "source": [
    "create_log_table = text('''CREATE TABLE IF NOT EXISTS logs (\n",
    "    log_id INTEGER PRIMARY KEY AUTOINCREMENT,\n",
    "    timestamp DATETIME DEFAULT CURRENT_TIMESTAMP,\n",
    "    user_id INTEGER,  -- Optional, depending on whether you want to track actions by specific users\n",
    "    event_type VARCHAR(255),\n",
    "    description TEXT,\n",
    "    FOREIGN KEY (user_id) REFERENCES users(user_id) ON DELETE SET NULL  -- Assumes existence of a users table\n",
    ");''')"
   ]
  },
  {
   "cell_type": "code",
   "execution_count": 21,
   "id": "b8c27768",
   "metadata": {},
   "outputs": [
    {
     "name": "stdout",
     "output_type": "stream",
     "text": [
      "2024-04-17 13:51:21,648 INFO sqlalchemy.engine.Engine BEGIN (implicit)\n",
      "2024-04-17 13:51:21,648 INFO sqlalchemy.engine.Engine CREATE TABLE IF NOT EXISTS logs (\n",
      "    log_id INTEGER PRIMARY KEY AUTOINCREMENT,\n",
      "    timestamp DATETIME DEFAULT CURRENT_TIMESTAMP,\n",
      "    user_id INTEGER,  -- Optional, depending on whether you want to track actions by specific users\n",
      "    event_type VARCHAR(255),\n",
      "    description TEXT,\n",
      "    FOREIGN KEY (user_id) REFERENCES users(user_id) ON DELETE SET NULL  -- Assumes existence of a users table\n",
      ");\n",
      "2024-04-17 13:51:21,649 INFO sqlalchemy.engine.Engine [generated in 0.00112s] ()\n",
      "Logs table created successfully.\n",
      "2024-04-17 13:51:21,653 INFO sqlalchemy.engine.Engine ROLLBACK\n"
     ]
    }
   ],
   "source": [
    "# Execute the command to create the table\n",
    "with engine.connect() as connection:\n",
    "    connection.execute(create_log_table)\n",
    "    print(\"Logs table created successfully.\")"
   ]
  },
  {
   "cell_type": "code",
   "execution_count": 24,
   "id": "b4bb47a5",
   "metadata": {},
   "outputs": [],
   "source": [
    "def add_log(user_id, event_type, description=None):\n",
    "    insert_query = text(\"\"\"\n",
    "        INSERT INTO logs (user_id, event_type, description)\n",
    "        VALUES (:user_id, :event_type, :description);\n",
    "    \"\"\")\n",
    "    with engine.begin() as connection:\n",
    "        connection.execute(insert_query, {\n",
    "            \"user_id\": user_id,\n",
    "            \"event_type\": event_type,\n",
    "            \"description\": description\n",
    "        })\n",
    "        print(f\"Log entry added for event type '{event_type}'.\")\n",
    "\n",
    "def modify_log(log_id, **kwargs):\n",
    "    updates = [f\"{key} = :{key}\" for key in kwargs]\n",
    "    update_query = text(f\"UPDATE logs SET {', '.join(updates)} WHERE log_id = :log_id\")\n",
    "    kwargs['log_id'] = log_id\n",
    "\n",
    "    with engine.begin() as connection:\n",
    "        result = connection.execute(update_query, kwargs)\n",
    "        if result.rowcount > 0:\n",
    "            print(f\"Log entry with ID {log_id} updated successfully.\")\n",
    "        else:\n",
    "            print(f\"No log found with ID {log_id}, nothing updated.\")\n",
    "\n",
    "def delete_log(log_id):\n",
    "    delete_query = text(\"DELETE FROM logs WHERE log_id = :log_id\")\n",
    "\n",
    "    with engine.begin() as connection:\n",
    "        result = connection.execute(delete_query, {'log_id': log_id})\n",
    "        if result.rowcount > 0:\n",
    "            print(f\"Log entry with ID {log_id} deleted successfully.\")\n",
    "        else:\n",
    "            print(f\"No log entry found with ID {log_id}, nothing deleted.\")      \n",
    "\n",
    "\n",
    "def get_log(log_id):\n",
    "    select_query = text(\"SELECT * FROM logs WHERE log_id = :log_id\")\n",
    "\n",
    "    with engine.connect() as connection:\n",
    "        result = connection.execute(select_query, {'log_id': log_id}).fetchone()\n",
    "        if result:\n",
    "            log_dict = {\n",
    "                'log_id': result[0],\n",
    "                'timestamp': result[1],\n",
    "                'user_id': result[2],\n",
    "                'event_type': result[3],\n",
    "                'description': result[4]\n",
    "            }\n",
    "            print(f\"Log entry found: {log_dict}\")\n",
    "            return log_dict\n",
    "        else:\n",
    "            print(\"Log entry not found.\")\n",
    "            return None    "
   ]
  },
  {
   "cell_type": "code",
   "execution_count": 29,
   "id": "968e6411",
   "metadata": {},
   "outputs": [
    {
     "name": "stdout",
     "output_type": "stream",
     "text": [
      "2024-04-17 13:52:44,564 INFO sqlalchemy.engine.Engine BEGIN (implicit)\n",
      "2024-04-17 13:52:44,564 INFO sqlalchemy.engine.Engine PRAGMA main.table_info(\"SELECT * FROM logs\")\n",
      "2024-04-17 13:52:44,565 INFO sqlalchemy.engine.Engine [raw sql] ()\n",
      "2024-04-17 13:52:44,565 INFO sqlalchemy.engine.Engine PRAGMA temp.table_info(\"SELECT * FROM logs\")\n",
      "2024-04-17 13:52:44,566 INFO sqlalchemy.engine.Engine [raw sql] ()\n",
      "2024-04-17 13:52:44,566 INFO sqlalchemy.engine.Engine SELECT * FROM logs\n",
      "2024-04-17 13:52:44,566 INFO sqlalchemy.engine.Engine [raw sql] ()\n",
      "2024-04-17 13:52:44,568 INFO sqlalchemy.engine.Engine ROLLBACK\n"
     ]
    },
    {
     "data": {
      "text/html": [
       "<div>\n",
       "<style scoped>\n",
       "    .dataframe tbody tr th:only-of-type {\n",
       "        vertical-align: middle;\n",
       "    }\n",
       "\n",
       "    .dataframe tbody tr th {\n",
       "        vertical-align: top;\n",
       "    }\n",
       "\n",
       "    .dataframe thead th {\n",
       "        text-align: right;\n",
       "    }\n",
       "</style>\n",
       "<table border=\"1\" class=\"dataframe\">\n",
       "  <thead>\n",
       "    <tr style=\"text-align: right;\">\n",
       "      <th></th>\n",
       "      <th>log_id</th>\n",
       "      <th>timestamp</th>\n",
       "      <th>user_id</th>\n",
       "      <th>event_type</th>\n",
       "      <th>description</th>\n",
       "    </tr>\n",
       "  </thead>\n",
       "  <tbody>\n",
       "    <tr>\n",
       "      <th>0</th>\n",
       "      <td>1</td>\n",
       "      <td>2024-04-17 11:52:14</td>\n",
       "      <td>1</td>\n",
       "      <td>logIN</td>\n",
       "      <td>None</td>\n",
       "    </tr>\n",
       "    <tr>\n",
       "      <th>1</th>\n",
       "      <td>2</td>\n",
       "      <td>2024-04-17 11:52:41</td>\n",
       "      <td>2</td>\n",
       "      <td>logOUT</td>\n",
       "      <td>None</td>\n",
       "    </tr>\n",
       "  </tbody>\n",
       "</table>\n",
       "</div>"
      ],
      "text/plain": [
       "   log_id            timestamp  user_id event_type description\n",
       "0       1  2024-04-17 11:52:14        1      logIN        None\n",
       "1       2  2024-04-17 11:52:41        2     logOUT        None"
      ]
     },
     "execution_count": 29,
     "metadata": {},
     "output_type": "execute_result"
    }
   ],
   "source": [
    "pd.read_sql('SELECT * FROM logs',engine)"
   ]
  },
  {
   "cell_type": "code",
   "execution_count": 26,
   "id": "1b47088f",
   "metadata": {},
   "outputs": [
    {
     "name": "stdout",
     "output_type": "stream",
     "text": [
      "2024-04-17 13:52:14,729 INFO sqlalchemy.engine.Engine BEGIN (implicit)\n",
      "2024-04-17 13:52:14,730 INFO sqlalchemy.engine.Engine \n",
      "        INSERT INTO logs (user_id, event_type, description)\n",
      "        VALUES (?, ?, ?);\n",
      "    \n",
      "2024-04-17 13:52:14,731 INFO sqlalchemy.engine.Engine [generated in 0.00066s] (1, 'logIN', None)\n",
      "Log entry added for event type 'logIN'.\n",
      "2024-04-17 13:52:14,732 INFO sqlalchemy.engine.Engine COMMIT\n"
     ]
    }
   ],
   "source": [
    "add_log(1,\"logIN\")"
   ]
  },
  {
   "cell_type": "code",
   "execution_count": 28,
   "id": "7dfb1c0b",
   "metadata": {},
   "outputs": [
    {
     "name": "stdout",
     "output_type": "stream",
     "text": [
      "2024-04-17 13:52:41,942 INFO sqlalchemy.engine.Engine BEGIN (implicit)\n",
      "2024-04-17 13:52:41,942 INFO sqlalchemy.engine.Engine \n",
      "        INSERT INTO logs (user_id, event_type, description)\n",
      "        VALUES (?, ?, ?);\n",
      "    \n",
      "2024-04-17 13:52:41,942 INFO sqlalchemy.engine.Engine [cached since 27.21s ago] (2, 'logOUT', None)\n",
      "Log entry added for event type 'logOUT'.\n",
      "2024-04-17 13:52:41,943 INFO sqlalchemy.engine.Engine COMMIT\n"
     ]
    }
   ],
   "source": [
    "add_log(2,\"logOUT\")"
   ]
  },
  {
   "cell_type": "code",
   "execution_count": null,
   "id": "3483acb0",
   "metadata": {},
   "outputs": [],
   "source": []
  },
  {
   "cell_type": "code",
   "execution_count": null,
   "id": "1557aae4",
   "metadata": {},
   "outputs": [],
   "source": []
  },
  {
   "cell_type": "code",
   "execution_count": null,
   "id": "1613856f",
   "metadata": {},
   "outputs": [],
   "source": []
  }
 ],
 "metadata": {
  "kernelspec": {
   "display_name": "Python 3 (ipykernel)",
   "language": "python",
   "name": "python3"
  },
  "language_info": {
   "codemirror_mode": {
    "name": "ipython",
    "version": 3
   },
   "file_extension": ".py",
   "mimetype": "text/x-python",
   "name": "python",
   "nbconvert_exporter": "python",
   "pygments_lexer": "ipython3",
   "version": "3.11.8"
  }
 },
 "nbformat": 4,
 "nbformat_minor": 5
}
