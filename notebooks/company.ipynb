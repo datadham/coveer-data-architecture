{
 "cells": [
  {
   "cell_type": "code",
   "execution_count": 1,
   "metadata": {},
   "outputs": [],
   "source": [
    "from sqlalchemy import create_engine, text\n",
    "import pandas as pd \n",
    "from datetime import datetime, timedelta"
   ]
  },
  {
   "cell_type": "code",
   "execution_count": 2,
   "metadata": {},
   "outputs": [],
   "source": [
    "# Create an engine that stores data in the local directory's\n",
    "engine = create_engine('sqlite:///app.db', echo=True)"
   ]
  },
  {
   "cell_type": "code",
   "execution_count": 3,
   "metadata": {},
   "outputs": [
    {
     "name": "stdout",
     "output_type": "stream",
     "text": [
      "2024-04-17 09:31:28,359 INFO sqlalchemy.engine.Engine BEGIN (implicit)\n",
      "2024-04-17 09:31:28,360 INFO sqlalchemy.engine.Engine DROP TABLE IF EXISTS companies\n",
      "2024-04-17 09:31:28,360 INFO sqlalchemy.engine.Engine [generated in 0.00100s] ()\n",
      "2024-04-17 09:31:28,366 INFO sqlalchemy.engine.Engine ROLLBACK\n"
     ]
    }
   ],
   "source": [
    "with engine.connect() as connection:\n",
    "    connection.execute(text('DROP TABLE IF EXISTS companies'))"
   ]
  },
  {
   "cell_type": "markdown",
   "metadata": {},
   "source": [
    "## Companies "
   ]
  },
  {
   "cell_type": "code",
   "execution_count": 4,
   "metadata": {},
   "outputs": [],
   "source": [
    "create_company_table = text('''CREATE TABLE IF NOT EXISTS companies (\n",
    "    company_id INTEGER PRIMARY KEY AUTOINCREMENT,\n",
    "    user_id INTEGER UNIQUE NOT NULL,\n",
    "    name VARCHAR(255) NOT NULL,\n",
    "    industry VARCHAR(255),\n",
    "    address TEXT,\n",
    "    contact_email VARCHAR(255),\n",
    "    website URL,\n",
    "    description TEXT,\n",
    "    FOREIGN KEY (user_id) REFERENCES users(user_id) ON DELETE CASCADE\n",
    ");''')"
   ]
  },
  {
   "cell_type": "code",
   "execution_count": 5,
   "metadata": {},
   "outputs": [
    {
     "name": "stdout",
     "output_type": "stream",
     "text": [
      "2024-04-17 09:31:36,532 INFO sqlalchemy.engine.Engine BEGIN (implicit)\n",
      "2024-04-17 09:31:36,533 INFO sqlalchemy.engine.Engine CREATE TABLE IF NOT EXISTS companies (\n",
      "    company_id INTEGER PRIMARY KEY AUTOINCREMENT,\n",
      "    user_id INTEGER UNIQUE NOT NULL,\n",
      "    name VARCHAR(255) NOT NULL,\n",
      "    industry VARCHAR(255),\n",
      "    address TEXT,\n",
      "    contact_email VARCHAR(255),\n",
      "    website URL,\n",
      "    description TEXT,\n",
      "    FOREIGN KEY (user_id) REFERENCES users(user_id) ON DELETE CASCADE\n",
      ");\n",
      "2024-04-17 09:31:36,534 INFO sqlalchemy.engine.Engine [generated in 0.00140s] ()\n",
      "2024-04-17 09:31:36,539 INFO sqlalchemy.engine.Engine ROLLBACK\n"
     ]
    }
   ],
   "source": [
    "# Execute SQL statements\n",
    "with engine.connect() as connection:\n",
    "    connection.execute(create_company_table)"
   ]
  },
  {
   "cell_type": "code",
   "execution_count": 7,
   "metadata": {},
   "outputs": [
    {
     "name": "stdout",
     "output_type": "stream",
     "text": [
      "2024-04-17 09:31:46,957 INFO sqlalchemy.engine.Engine BEGIN (implicit)\n",
      "2024-04-17 09:31:46,958 INFO sqlalchemy.engine.Engine PRAGMA main.table_info(\"SELECT * FROM companies\")\n",
      "2024-04-17 09:31:46,958 INFO sqlalchemy.engine.Engine [raw sql] ()\n",
      "2024-04-17 09:31:46,958 INFO sqlalchemy.engine.Engine PRAGMA temp.table_info(\"SELECT * FROM companies\")\n",
      "2024-04-17 09:31:46,959 INFO sqlalchemy.engine.Engine [raw sql] ()\n",
      "2024-04-17 09:31:46,959 INFO sqlalchemy.engine.Engine SELECT * FROM companies\n",
      "2024-04-17 09:31:46,960 INFO sqlalchemy.engine.Engine [raw sql] ()\n",
      "2024-04-17 09:31:46,961 INFO sqlalchemy.engine.Engine ROLLBACK\n"
     ]
    },
    {
     "data": {
      "text/html": [
       "<div>\n",
       "<style scoped>\n",
       "    .dataframe tbody tr th:only-of-type {\n",
       "        vertical-align: middle;\n",
       "    }\n",
       "\n",
       "    .dataframe tbody tr th {\n",
       "        vertical-align: top;\n",
       "    }\n",
       "\n",
       "    .dataframe thead th {\n",
       "        text-align: right;\n",
       "    }\n",
       "</style>\n",
       "<table border=\"1\" class=\"dataframe\">\n",
       "  <thead>\n",
       "    <tr style=\"text-align: right;\">\n",
       "      <th></th>\n",
       "      <th>company_id</th>\n",
       "      <th>user_id</th>\n",
       "      <th>name</th>\n",
       "      <th>industry</th>\n",
       "      <th>address</th>\n",
       "      <th>contact_email</th>\n",
       "      <th>website</th>\n",
       "      <th>description</th>\n",
       "    </tr>\n",
       "  </thead>\n",
       "  <tbody>\n",
       "  </tbody>\n",
       "</table>\n",
       "</div>"
      ],
      "text/plain": [
       "Empty DataFrame\n",
       "Columns: [company_id, user_id, name, industry, address, contact_email, website, description]\n",
       "Index: []"
      ]
     },
     "execution_count": 7,
     "metadata": {},
     "output_type": "execute_result"
    }
   ],
   "source": [
    "pd.read_sql('SELECT * FROM companies',engine)"
   ]
  },
  {
   "cell_type": "code",
   "execution_count": 63,
   "metadata": {},
   "outputs": [],
   "source": [
    "def add_company(user_id, name, industry, address, contact_email, website, description):\n",
    "    # SQL query to insert a new company\n",
    "    insert_query = text(\"\"\"\n",
    "        INSERT INTO companies (user_id, name, industry, address, contact_email, website, description)\n",
    "        VALUES (:user_id, :name, :industry, :address, :contact_email, :website, :description);\n",
    "    \"\"\")\n",
    "    \n",
    "    # Execute the query within a transaction\n",
    "    with engine.begin() as connection:\n",
    "        connection.execute(insert_query, {\n",
    "            \"user_id\": user_id,\n",
    "            \"name\": name,\n",
    "            \"industry\": industry,\n",
    "            \"address\": address,\n",
    "            \"contact_email\": contact_email,\n",
    "            \"website\": website,\n",
    "            \"description\": description\n",
    "        })\n",
    "        print(f\"Company {name} added successfully.\")\n",
    "\n",
    "\n",
    "def delete_company(company_id):\n",
    "    delete_query = text(\"DELETE FROM companies WHERE company_id = :company_id\")\n",
    "\n",
    "    with engine.begin() as connection:\n",
    "        result = connection.execute(delete_query, {'company_id': company_id})\n",
    "        if result.rowcount > 0:\n",
    "            print(f\"Company with ID {company_id} deleted successfully.\")\n",
    "        else:\n",
    "            print(f\"No company found with ID {company_id}, nothing deleted.\")\n",
    "\n",
    "\n",
    "def modify_company(company_id, **kwargs):\n",
    "    updates = [f\"{key} = :{key}\" for key in kwargs]\n",
    "    update_query = text(f\"UPDATE companies SET {', '.join(updates)} WHERE company_id = :company_id\")\n",
    "    print(update_query)\n",
    "    kwargs['company_id'] = company_id  # Adding company_id to the parameters for the WHERE clause\n",
    "\n",
    "    with engine.begin() as connection:\n",
    "        result = connection.execute(update_query, kwargs)\n",
    "        if result.rowcount > 0:\n",
    "            print(f\"Company with ID {company_id} updated successfully.\")\n",
    "        else:\n",
    "            print(f\"No company found with ID {company_id}, nothing updated.\")\n",
    "\n",
    "\n",
    "\n",
    "def get_company(**kwargs):\n",
    "    if not kwargs:\n",
    "        print(\"No parameters provided to search for company.\")\n",
    "        return None\n",
    "    \n",
    "    # Constructing the WHERE clause based on kwargs\n",
    "    conditions = [f\"{key} = :{key}\" for key in kwargs]\n",
    "    where_clause = \" AND \".join(conditions)\n",
    "    \n",
    "    select_query = text(f\"SELECT * FROM companies WHERE {where_clause}\")\n",
    "\n",
    "    with engine.connect() as connection:\n",
    "        result = connection.execute(select_query, kwargs).fetchone()\n",
    "        if result:\n",
    "            company_dict = {\n",
    "                'company_id': result[0],\n",
    "                'user_id': result[1],\n",
    "                'name': result[2],\n",
    "                'industry': result[3],\n",
    "                'address': result[4],\n",
    "                'contact_email': result[5],\n",
    "                'website': result[6],\n",
    "                'description': result[7]\n",
    "            }\n",
    "            return company_dict\n",
    "        else:\n",
    "            print(\"Company not found.\")\n",
    "            return None"
   ]
  },
  {
   "cell_type": "code",
   "execution_count": 74,
   "metadata": {},
   "outputs": [
    {
     "name": "stdout",
     "output_type": "stream",
     "text": [
      "2024-04-17 10:23:20,391 INFO sqlalchemy.engine.Engine BEGIN (implicit)\n",
      "2024-04-17 10:23:20,391 INFO sqlalchemy.engine.Engine PRAGMA main.table_info(\"SELECT * FROM companies\")\n",
      "2024-04-17 10:23:20,392 INFO sqlalchemy.engine.Engine [raw sql] ()\n",
      "2024-04-17 10:23:20,393 INFO sqlalchemy.engine.Engine PRAGMA temp.table_info(\"SELECT * FROM companies\")\n",
      "2024-04-17 10:23:20,393 INFO sqlalchemy.engine.Engine [raw sql] ()\n",
      "2024-04-17 10:23:20,394 INFO sqlalchemy.engine.Engine SELECT * FROM companies\n",
      "2024-04-17 10:23:20,394 INFO sqlalchemy.engine.Engine [raw sql] ()\n",
      "2024-04-17 10:23:20,396 INFO sqlalchemy.engine.Engine ROLLBACK\n"
     ]
    },
    {
     "data": {
      "text/html": [
       "<div>\n",
       "<style scoped>\n",
       "    .dataframe tbody tr th:only-of-type {\n",
       "        vertical-align: middle;\n",
       "    }\n",
       "\n",
       "    .dataframe tbody tr th {\n",
       "        vertical-align: top;\n",
       "    }\n",
       "\n",
       "    .dataframe thead th {\n",
       "        text-align: right;\n",
       "    }\n",
       "</style>\n",
       "<table border=\"1\" class=\"dataframe\">\n",
       "  <thead>\n",
       "    <tr style=\"text-align: right;\">\n",
       "      <th></th>\n",
       "      <th>company_id</th>\n",
       "      <th>user_id</th>\n",
       "      <th>name</th>\n",
       "      <th>industry</th>\n",
       "      <th>address</th>\n",
       "      <th>contact_email</th>\n",
       "      <th>website</th>\n",
       "      <th>description</th>\n",
       "    </tr>\n",
       "  </thead>\n",
       "  <tbody>\n",
       "    <tr>\n",
       "      <th>0</th>\n",
       "      <td>1</td>\n",
       "      <td>1</td>\n",
       "      <td>dodo</td>\n",
       "      <td>Technology</td>\n",
       "      <td>123 Tech Drive, Innovation City</td>\n",
       "      <td>contact@techinnovations.com</td>\n",
       "      <td>http://www.techinnovations.com</td>\n",
       "      <td>A leading company in tech innovations aiming t...</td>\n",
       "    </tr>\n",
       "    <tr>\n",
       "      <th>1</th>\n",
       "      <td>2</td>\n",
       "      <td>10</td>\n",
       "      <td>Tech Innovations Inc.</td>\n",
       "      <td>Technology</td>\n",
       "      <td>123 Tech Drive, Innovation City</td>\n",
       "      <td>contact@techinnovations.com</td>\n",
       "      <td>http://www.techinnovations.com</td>\n",
       "      <td>A leading company in tech innovations aiming t...</td>\n",
       "    </tr>\n",
       "    <tr>\n",
       "      <th>2</th>\n",
       "      <td>4</td>\n",
       "      <td>1000</td>\n",
       "      <td>Tech Innovations Inc.</td>\n",
       "      <td>Technology</td>\n",
       "      <td>123 Tech Drive, Innovation City</td>\n",
       "      <td>contact@techinnovations.com</td>\n",
       "      <td>http://www.techinnovations.com</td>\n",
       "      <td>A leading company in tech innovations aiming t...</td>\n",
       "    </tr>\n",
       "    <tr>\n",
       "      <th>3</th>\n",
       "      <td>5</td>\n",
       "      <td>1800</td>\n",
       "      <td>Tech Innovations Inc.</td>\n",
       "      <td>Technology</td>\n",
       "      <td>123 Tech Drive, Innovation City</td>\n",
       "      <td>contact@techinnovations.com</td>\n",
       "      <td>http://www.techinnovations.com</td>\n",
       "      <td>A leading company in tech innovations aiming t...</td>\n",
       "    </tr>\n",
       "    <tr>\n",
       "      <th>4</th>\n",
       "      <td>6</td>\n",
       "      <td>1500</td>\n",
       "      <td>Tech Innovations Inc.</td>\n",
       "      <td>Technology</td>\n",
       "      <td>123 Tech Drive, Innovation City</td>\n",
       "      <td>contact@techinnovations.com</td>\n",
       "      <td>http://www.techinnovations.com</td>\n",
       "      <td>A leading company in tech innovations aiming t...</td>\n",
       "    </tr>\n",
       "    <tr>\n",
       "      <th>5</th>\n",
       "      <td>7</td>\n",
       "      <td>1514</td>\n",
       "      <td>Tech Innovations Inc.</td>\n",
       "      <td>Technology</td>\n",
       "      <td>123 Tech Drive, Innovation City</td>\n",
       "      <td>contact@techinnovations.com</td>\n",
       "      <td>http://www.techinnovations.com</td>\n",
       "      <td>A leading company in tech innovations aiming t...</td>\n",
       "    </tr>\n",
       "  </tbody>\n",
       "</table>\n",
       "</div>"
      ],
      "text/plain": [
       "   company_id  user_id                   name    industry  \\\n",
       "0           1        1                   dodo  Technology   \n",
       "1           2       10  Tech Innovations Inc.  Technology   \n",
       "2           4     1000  Tech Innovations Inc.  Technology   \n",
       "3           5     1800  Tech Innovations Inc.  Technology   \n",
       "4           6     1500  Tech Innovations Inc.  Technology   \n",
       "5           7     1514  Tech Innovations Inc.  Technology   \n",
       "\n",
       "                           address                contact_email  \\\n",
       "0  123 Tech Drive, Innovation City  contact@techinnovations.com   \n",
       "1  123 Tech Drive, Innovation City  contact@techinnovations.com   \n",
       "2  123 Tech Drive, Innovation City  contact@techinnovations.com   \n",
       "3  123 Tech Drive, Innovation City  contact@techinnovations.com   \n",
       "4  123 Tech Drive, Innovation City  contact@techinnovations.com   \n",
       "5  123 Tech Drive, Innovation City  contact@techinnovations.com   \n",
       "\n",
       "                          website  \\\n",
       "0  http://www.techinnovations.com   \n",
       "1  http://www.techinnovations.com   \n",
       "2  http://www.techinnovations.com   \n",
       "3  http://www.techinnovations.com   \n",
       "4  http://www.techinnovations.com   \n",
       "5  http://www.techinnovations.com   \n",
       "\n",
       "                                         description  \n",
       "0  A leading company in tech innovations aiming t...  \n",
       "1  A leading company in tech innovations aiming t...  \n",
       "2  A leading company in tech innovations aiming t...  \n",
       "3  A leading company in tech innovations aiming t...  \n",
       "4  A leading company in tech innovations aiming t...  \n",
       "5  A leading company in tech innovations aiming t...  "
      ]
     },
     "execution_count": 74,
     "metadata": {},
     "output_type": "execute_result"
    }
   ],
   "source": [
    "pd.read_sql('SELECT * FROM companies',engine)"
   ]
  },
  {
   "cell_type": "code",
   "execution_count": 67,
   "metadata": {},
   "outputs": [
    {
     "name": "stdout",
     "output_type": "stream",
     "text": [
      "2024-04-17 10:12:28,558 INFO sqlalchemy.engine.Engine BEGIN (implicit)\n",
      "2024-04-17 10:12:28,559 INFO sqlalchemy.engine.Engine \n",
      "        INSERT INTO companies (user_id, name, industry, address, contact_email, website, description)\n",
      "        VALUES (?, ?, ?, ?, ?, ?, ?);\n",
      "    \n",
      "2024-04-17 10:12:28,560 INFO sqlalchemy.engine.Engine [cached since 2368s ago] ('1514', 'Tech Innovations Inc.', 'Technology', '123 Tech Drive, Innovation City', 'contact@techinnovations.com', 'http://www.techinnovations.com', 'A leading company in tech innovations aiming to...')\n",
      "Company Tech Innovations Inc. added successfully.\n",
      "2024-04-17 10:12:28,561 INFO sqlalchemy.engine.Engine COMMIT\n"
     ]
    }
   ],
   "source": [
    "# Example usage\n",
    "add_company(\n",
    "    user_id='1514', \n",
    "    name='Tech Innovations Inc.', \n",
    "    industry='Technology', \n",
    "    address='123 Tech Drive, Innovation City', \n",
    "    contact_email='contact@techinnovations.com', \n",
    "    website='http://www.techinnovations.com', \n",
    "    description='A leading company in tech innovations aiming to...'\n",
    ")"
   ]
  },
  {
   "cell_type": "code",
   "execution_count": 65,
   "metadata": {},
   "outputs": [
    {
     "name": "stdout",
     "output_type": "stream",
     "text": [
      "UPDATE companies SET name = :name WHERE company_id = :company_id\n",
      "2024-04-17 10:12:06,241 INFO sqlalchemy.engine.Engine BEGIN (implicit)\n",
      "2024-04-17 10:12:06,241 INFO sqlalchemy.engine.Engine UPDATE companies SET name = ? WHERE company_id = ?\n",
      "2024-04-17 10:12:06,241 INFO sqlalchemy.engine.Engine [cached since 1570s ago] ('dodo', 1)\n",
      "Company with ID 1 updated successfully.\n",
      "2024-04-17 10:12:06,243 INFO sqlalchemy.engine.Engine COMMIT\n"
     ]
    }
   ],
   "source": [
    "modify_company(1,name=\"dodo\")"
   ]
  },
  {
   "cell_type": "code",
   "execution_count": 75,
   "metadata": {},
   "outputs": [
    {
     "name": "stdout",
     "output_type": "stream",
     "text": [
      "2024-04-17 10:23:28,348 INFO sqlalchemy.engine.Engine BEGIN (implicit)\n",
      "2024-04-17 10:23:28,348 INFO sqlalchemy.engine.Engine SELECT * FROM companies WHERE user_id = ?\n",
      "2024-04-17 10:23:28,349 INFO sqlalchemy.engine.Engine [cached since 1408s ago] (1000,)\n",
      "2024-04-17 10:23:28,350 INFO sqlalchemy.engine.Engine ROLLBACK\n"
     ]
    },
    {
     "data": {
      "text/plain": [
       "{'company_id': 4,\n",
       " 'user_id': 1000,\n",
       " 'name': 'Tech Innovations Inc.',\n",
       " 'industry': 'Technology',\n",
       " 'address': '123 Tech Drive, Innovation City',\n",
       " 'contact_email': 'contact@techinnovations.com',\n",
       " 'website': 'http://www.techinnovations.com',\n",
       " 'description': 'A leading company in tech innovations aiming to...'}"
      ]
     },
     "execution_count": 75,
     "metadata": {},
     "output_type": "execute_result"
    }
   ],
   "source": [
    "get_company(user_id = 1000)"
   ]
  },
  {
   "cell_type": "code",
   "execution_count": 72,
   "metadata": {},
   "outputs": [
    {
     "name": "stdout",
     "output_type": "stream",
     "text": [
      "2024-04-17 10:22:20,629 INFO sqlalchemy.engine.Engine BEGIN (implicit)\n",
      "2024-04-17 10:22:20,629 INFO sqlalchemy.engine.Engine DELETE FROM companies WHERE company_id = ?\n",
      "2024-04-17 10:22:20,630 INFO sqlalchemy.engine.Engine [generated in 0.00049s] (3,)\n",
      "Company with ID 3 deleted successfully.\n",
      "2024-04-17 10:22:20,632 INFO sqlalchemy.engine.Engine COMMIT\n"
     ]
    }
   ],
   "source": [
    "delete_company(3)"
   ]
  },
  {
   "cell_type": "code",
   "execution_count": null,
   "metadata": {},
   "outputs": [],
   "source": []
  },
  {
   "cell_type": "code",
   "execution_count": null,
   "metadata": {},
   "outputs": [],
   "source": []
  },
  {
   "cell_type": "code",
   "execution_count": null,
   "metadata": {},
   "outputs": [],
   "source": []
  },
  {
   "cell_type": "code",
   "execution_count": null,
   "metadata": {},
   "outputs": [],
   "source": []
  }
 ],
 "metadata": {
  "kernelspec": {
   "display_name": "Python 3 (ipykernel)",
   "language": "python",
   "name": "python3"
  },
  "language_info": {
   "codemirror_mode": {
    "name": "ipython",
    "version": 3
   },
   "file_extension": ".py",
   "mimetype": "text/x-python",
   "name": "python",
   "nbconvert_exporter": "python",
   "pygments_lexer": "ipython3",
   "version": "3.9.7"
  }
 },
 "nbformat": 4,
 "nbformat_minor": 4
}
