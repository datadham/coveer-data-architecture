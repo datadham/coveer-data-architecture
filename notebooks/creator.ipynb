{
 "cells": [
  {
   "cell_type": "code",
   "execution_count": 3,
   "metadata": {},
   "outputs": [],
   "source": [
    "import pandas as pd \n",
    "from datetime import datetime, timedelta\n",
    "from sqlalchemy import create_engine, text"
   ]
  },
  {
   "cell_type": "code",
   "execution_count": 4,
   "metadata": {},
   "outputs": [],
   "source": [
    "# Create an engine that stores data in the local directory's\n",
    "engine = create_engine('sqlite:///app.db', echo=True)"
   ]
  },
  {
   "cell_type": "code",
   "execution_count": 12,
   "metadata": {},
   "outputs": [
    {
     "name": "stdout",
     "output_type": "stream",
     "text": [
      "2024-04-17 11:15:58,923 INFO sqlalchemy.engine.Engine BEGIN (implicit)\n",
      "2024-04-17 11:15:58,924 INFO sqlalchemy.engine.Engine \n",
      "CREATE TABLE IF NOT EXISTS creators (\n",
      "    creator_id INTEGER PRIMARY KEY AUTOINCREMENT,\n",
      "    user_id INTEGER UNIQUE NOT NULL,\n",
      "    name VARCHAR(255) NOT NULL,\n",
      "    bio TEXT,\n",
      "    social_media_links TEXT,  -- JSON or serialized text format to store multiple links\n",
      "    specialties TEXT,  -- Could be a list of specialties or focus areas\n",
      "    audience_size INTEGER,\n",
      "    contact_email VARCHAR(255),\n",
      "    website URL,\n",
      "    FOREIGN KEY (user_id) REFERENCES users(user_id) ON DELETE CASCADE\n",
      ");\n",
      "\n",
      "2024-04-17 11:15:58,924 INFO sqlalchemy.engine.Engine [cached since 464.3s ago] ()\n",
      "Creators table created successfully.\n",
      "2024-04-17 11:15:58,924 INFO sqlalchemy.engine.Engine ROLLBACK\n"
     ]
    }
   ],
   "source": [
    "create_creators_table = text('''\n",
    "CREATE TABLE IF NOT EXISTS creators (\n",
    "    creator_id INTEGER PRIMARY KEY AUTOINCREMENT,\n",
    "    user_id INTEGER UNIQUE NOT NULL,\n",
    "    name VARCHAR(255) NOT NULL,\n",
    "    bio TEXT,\n",
    "    social_media_links TEXT,  -- JSON or serialized text format to store multiple links\n",
    "    specialties TEXT,  -- Could be a list of specialties or focus areas\n",
    "    audience_size INTEGER,\n",
    "    contact_email VARCHAR(255),\n",
    "    website URL,\n",
    "    FOREIGN KEY (user_id) REFERENCES users(user_id) ON DELETE CASCADE\n",
    ");\n",
    "''')\n",
    "\n",
    "# Assuming 'engine' is already defined and imported from SQLAlchemy setup\n",
    "with engine.connect() as connection:\n",
    "    connection.execute(create_creators_table)\n",
    "    print(\"Creators table created successfully.\")\n"
   ]
  },
  {
   "cell_type": "code",
   "execution_count": 42,
   "metadata": {},
   "outputs": [],
   "source": [
    "def add_creator(**kwargs):\n",
    "    columns = ', '.join(kwargs.keys())\n",
    "    values = ', '.join([f\":{key}\" for key in kwargs.keys()])\n",
    "    insert_query = text(f\"\"\"\n",
    "        INSERT INTO creators ({columns})\n",
    "        VALUES ({values});\n",
    "    \"\"\")\n",
    "\n",
    "    with engine.begin() as connection:\n",
    "        connection.execute(insert_query, kwargs)\n",
    "        print(f\"Creator added successfully with details: {kwargs}\")\n",
    "\n",
    "\n",
    "def modify_creator(creator_id, **kwargs):\n",
    "    updates = [f\"{key} = :{key}\" for key in kwargs]\n",
    "    update_query = text(f\"UPDATE creators SET {', '.join(updates)} WHERE creator_id = :creator_id\")\n",
    "\n",
    "    kwargs['creator_id'] = creator_id  # Ensure the creator_id is included for the WHERE clause\n",
    "\n",
    "    with engine.begin() as connection:\n",
    "        result = connection.execute(update_query, kwargs)\n",
    "        if result.rowcount > 0:\n",
    "            print(f\"Creator with ID {creator_id} updated successfully.\")\n",
    "        else:\n",
    "            print(f\"No creator found with ID {creator_id}, nothing updated.\")\n",
    "\n",
    "\n",
    "\n",
    "def delete_creator(creator_id):\n",
    "    delete_query = text(\"DELETE FROM creators WHERE creator_id = :creator_id\")\n",
    "\n",
    "    with engine.begin() as connection:\n",
    "        result = connection.execute(delete_query, {'creator_id': creator_id})\n",
    "        if result.rowcount > 0:\n",
    "            print(f\"Creator with ID {creator_id} deleted successfully.\")\n",
    "        else:\n",
    "            print(f\"No creator found with ID {creator_id}, nothing deleted.\")\n",
    "\n",
    "\n",
    "\n",
    "def get_creator(**kwargs):\n",
    "    if not kwargs:\n",
    "        print(\"No parameters provided to search for creator.\")\n",
    "        return None\n",
    "\n",
    "    conditions = [f\"{key} = :{key}\" for key in kwargs]\n",
    "    where_clause = \" AND \".join(conditions)\n",
    "    select_query = text(f\"SELECT * FROM creators WHERE {where_clause}\")\n",
    "\n",
    "    print(select_query)\n",
    "    with engine.connect() as connection:\n",
    "        result = connection.execute(select_query, kwargs).fetchone()\n",
    "        print(result)\n",
    "        \n",
    "        if result:\n",
    "            creator_dict = {\n",
    "            'creator_id':result[0],\n",
    "            'user_id':result[1],\n",
    "            'name':result[2],\n",
    "            'bio':result[3],\n",
    "            'social_media_links':result[4],\n",
    "            'specialties':result[5],\n",
    "            'audience_size':result[6],\n",
    "            'contact_email':result[7],\n",
    "            'website':result[8]\n",
    "            }\n",
    "            \n",
    "            return creator_dict\n",
    "        else:\n",
    "            print(\"Creator not found.\")\n",
    "            return None"
   ]
  },
  {
   "cell_type": "code",
   "execution_count": 72,
   "metadata": {},
   "outputs": [
    {
     "name": "stdout",
     "output_type": "stream",
     "text": [
      "2024-04-17 11:39:02,580 INFO sqlalchemy.engine.Engine BEGIN (implicit)\n",
      "2024-04-17 11:39:02,581 INFO sqlalchemy.engine.Engine \n",
      "        INSERT INTO creators (user_id, name)\n",
      "        VALUES (?, ?);\n",
      "    \n",
      "2024-04-17 11:39:02,582 INFO sqlalchemy.engine.Engine [cached since 1605s ago] (1, 'Cyprien')\n",
      "Creator added successfully with details: {'user_id': 1, 'name': 'Cyprien'}\n",
      "2024-04-17 11:39:02,584 INFO sqlalchemy.engine.Engine COMMIT\n"
     ]
    }
   ],
   "source": [
    "add_creator(user_id = 1,name='Cyprien')"
   ]
  },
  {
   "cell_type": "code",
   "execution_count": 76,
   "metadata": {},
   "outputs": [
    {
     "name": "stdout",
     "output_type": "stream",
     "text": [
      "2024-04-17 11:39:10,493 INFO sqlalchemy.engine.Engine BEGIN (implicit)\n",
      "2024-04-17 11:39:10,494 INFO sqlalchemy.engine.Engine PRAGMA main.table_info(\"SELECT * FROM creators\")\n",
      "2024-04-17 11:39:10,494 INFO sqlalchemy.engine.Engine [raw sql] ()\n",
      "2024-04-17 11:39:10,495 INFO sqlalchemy.engine.Engine PRAGMA temp.table_info(\"SELECT * FROM creators\")\n",
      "2024-04-17 11:39:10,495 INFO sqlalchemy.engine.Engine [raw sql] ()\n",
      "2024-04-17 11:39:10,496 INFO sqlalchemy.engine.Engine SELECT * FROM creators\n",
      "2024-04-17 11:39:10,496 INFO sqlalchemy.engine.Engine [raw sql] ()\n",
      "2024-04-17 11:39:10,497 INFO sqlalchemy.engine.Engine ROLLBACK\n"
     ]
    },
    {
     "data": {
      "text/html": [
       "<div>\n",
       "<style scoped>\n",
       "    .dataframe tbody tr th:only-of-type {\n",
       "        vertical-align: middle;\n",
       "    }\n",
       "\n",
       "    .dataframe tbody tr th {\n",
       "        vertical-align: top;\n",
       "    }\n",
       "\n",
       "    .dataframe thead th {\n",
       "        text-align: right;\n",
       "    }\n",
       "</style>\n",
       "<table border=\"1\" class=\"dataframe\">\n",
       "  <thead>\n",
       "    <tr style=\"text-align: right;\">\n",
       "      <th></th>\n",
       "      <th>creator_id</th>\n",
       "      <th>user_id</th>\n",
       "      <th>name</th>\n",
       "      <th>bio</th>\n",
       "      <th>social_media_links</th>\n",
       "      <th>specialties</th>\n",
       "      <th>audience_size</th>\n",
       "      <th>contact_email</th>\n",
       "      <th>website</th>\n",
       "    </tr>\n",
       "  </thead>\n",
       "  <tbody>\n",
       "  </tbody>\n",
       "</table>\n",
       "</div>"
      ],
      "text/plain": [
       "Empty DataFrame\n",
       "Columns: [creator_id, user_id, name, bio, social_media_links, specialties, audience_size, contact_email, website]\n",
       "Index: []"
      ]
     },
     "execution_count": 76,
     "metadata": {},
     "output_type": "execute_result"
    }
   ],
   "source": [
    "pd.read_sql('SELECT * FROM creators',engine)"
   ]
  },
  {
   "cell_type": "code",
   "execution_count": 74,
   "metadata": {},
   "outputs": [
    {
     "name": "stdout",
     "output_type": "stream",
     "text": [
      "SELECT * FROM creators WHERE user_id = :user_id\n",
      "2024-04-17 11:39:06,140 INFO sqlalchemy.engine.Engine BEGIN (implicit)\n",
      "2024-04-17 11:39:06,141 INFO sqlalchemy.engine.Engine SELECT * FROM creators WHERE user_id = ?\n",
      "2024-04-17 11:39:06,141 INFO sqlalchemy.engine.Engine [cached since 1111s ago] (1,)\n",
      "(7, 1, 'Cyprien', None, None, None, None, None, None)\n",
      "2024-04-17 11:39:06,142 INFO sqlalchemy.engine.Engine ROLLBACK\n",
      "7\n",
      "2024-04-17 11:39:06,143 INFO sqlalchemy.engine.Engine BEGIN (implicit)\n",
      "2024-04-17 11:39:06,143 INFO sqlalchemy.engine.Engine UPDATE creators SET bio = ? WHERE creator_id = ?\n",
      "2024-04-17 11:39:06,144 INFO sqlalchemy.engine.Engine [cached since 1282s ago] (\"Hello je m'appelle Cyprien les gars\", 7)\n",
      "Creator with ID 7 updated successfully.\n",
      "2024-04-17 11:39:06,146 INFO sqlalchemy.engine.Engine COMMIT\n"
     ]
    }
   ],
   "source": [
    "user_id = 1\n",
    "creator_id = get_creator(user_id=user_id)['creator_id']\n",
    "\n",
    "print(creator_id)\n",
    "modify_creator(creator_id=creator_id, bio = '''Hello je m'appelle Cyprien les gars''')"
   ]
  },
  {
   "cell_type": "code",
   "execution_count": 75,
   "metadata": {},
   "outputs": [
    {
     "name": "stdout",
     "output_type": "stream",
     "text": [
      "2024-04-17 11:39:07,919 INFO sqlalchemy.engine.Engine BEGIN (implicit)\n",
      "2024-04-17 11:39:07,919 INFO sqlalchemy.engine.Engine DELETE FROM creators WHERE creator_id = ?\n",
      "2024-04-17 11:39:07,920 INFO sqlalchemy.engine.Engine [cached since 1349s ago] (7,)\n",
      "Creator with ID 7 deleted successfully.\n",
      "2024-04-17 11:39:07,921 INFO sqlalchemy.engine.Engine COMMIT\n"
     ]
    }
   ],
   "source": [
    "delete_creator(creator_id = creator_id)"
   ]
  },
  {
   "cell_type": "code",
   "execution_count": null,
   "metadata": {},
   "outputs": [],
   "source": []
  },
  {
   "cell_type": "code",
   "execution_count": null,
   "metadata": {},
   "outputs": [],
   "source": []
  },
  {
   "cell_type": "code",
   "execution_count": null,
   "metadata": {},
   "outputs": [],
   "source": []
  }
 ],
 "metadata": {
  "kernelspec": {
   "display_name": "UWenterprise",
   "language": "python",
   "name": "python3"
  },
  "language_info": {
   "codemirror_mode": {
    "name": "ipython",
    "version": 3
   },
   "file_extension": ".py",
   "mimetype": "text/x-python",
   "name": "python",
   "nbconvert_exporter": "python",
   "pygments_lexer": "ipython3",
   "version": "3.11.8"
  }
 },
 "nbformat": 4,
 "nbformat_minor": 2
}
