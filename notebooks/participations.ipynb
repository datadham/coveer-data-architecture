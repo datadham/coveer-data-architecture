{
 "cells": [
  {
   "cell_type": "code",
   "execution_count": 4,
   "metadata": {},
   "outputs": [],
   "source": [
    "import pandas as pd \n",
    "from datetime import datetime, timedelta\n",
    "from sqlalchemy import create_engine, text"
   ]
  },
  {
   "cell_type": "markdown",
   "metadata": {},
   "source": [
    "### Link campaign to creator "
   ]
  },
  {
   "cell_type": "code",
   "execution_count": 5,
   "metadata": {},
   "outputs": [],
   "source": [
    "# Create an engine that stores data in the local directory's\n",
    "engine = create_engine('sqlite:///app.db', echo=True)"
   ]
  },
  {
   "cell_type": "code",
   "execution_count": 7,
   "metadata": {},
   "outputs": [],
   "source": [
    "create_table_participation = text('''CREATE TABLE IF NOT EXISTS campaign_participation (\n",
    "    participation_id INTEGER PRIMARY KEY AUTOINCREMENT,\n",
    "    participation_link TEXT,\n",
    "    participation_code  TEXT,                           \n",
    "    campaign_id INTEGER NOT NULL,\n",
    "    creator_id INTEGER NOT NULL,\n",
    "    status VARCHAR(100),\n",
    "    role VARCHAR(100),\n",
    "    join_date DATETIME DEFAULT CURRENT_TIMESTAMP,\n",
    "    FOREIGN KEY (campaign_id) REFERENCES campaigns(campaign_id) ON DELETE CASCADE,\n",
    "    FOREIGN KEY (creator_id) REFERENCES creators(creator_id) ON DELETE CASCADE,\n",
    "    UNIQUE (campaign_id, creator_id)  -- ensures each pair is unique\n",
    ");''')"
   ]
  },
  {
   "cell_type": "code",
   "execution_count": 8,
   "metadata": {},
   "outputs": [
    {
     "name": "stdout",
     "output_type": "stream",
     "text": [
      "2024-04-17 15:12:02,341 INFO sqlalchemy.engine.Engine BEGIN (implicit)\n",
      "2024-04-17 15:12:02,341 INFO sqlalchemy.engine.Engine CREATE TABLE IF NOT EXISTS campaign_participation (\n",
      "    participation_id INTEGER PRIMARY KEY AUTOINCREMENT,\n",
      "    campaign_id INTEGER NOT NULL,\n",
      "    creator_id INTEGER NOT NULL,\n",
      "    status VARCHAR(100),\n",
      "    role VARCHAR(100),\n",
      "    join_date DATETIME DEFAULT CURRENT_TIMESTAMP,\n",
      "    FOREIGN KEY (campaign_id) REFERENCES campaigns(campaign_id) ON DELETE CASCADE,\n",
      "    FOREIGN KEY (creator_id) REFERENCES creators(creator_id) ON DELETE CASCADE,\n",
      "    UNIQUE (campaign_id, creator_id)  -- ensures each pair is unique\n",
      ");\n",
      "2024-04-17 15:12:02,341 INFO sqlalchemy.engine.Engine [generated in 0.00102s] ()\n",
      "Participations table created successfully.\n",
      "2024-04-17 15:12:02,349 INFO sqlalchemy.engine.Engine ROLLBACK\n"
     ]
    }
   ],
   "source": [
    "# Assuming 'engine' is already defined and imported from SQLAlchemy setup\n",
    "with engine.connect() as connection:\n",
    "    connection.execute(create_table_participation)\n",
    "    print(\"Participations table created successfully.\")"
   ]
  },
  {
   "cell_type": "code",
   "execution_count": 9,
   "metadata": {},
   "outputs": [],
   "source": [
    "def add_participation(campaign_id, creator_id, **kwargs):\n",
    "    data = {'campaign_id': campaign_id, 'creator_id': creator_id, **kwargs}\n",
    "    columns = ', '.join(data.keys())\n",
    "    placeholders = ', '.join(f\":{key}\" for key in data.keys())\n",
    "\n",
    "    insert_query = text(f\"\"\"\n",
    "        INSERT INTO campaign_participation ({columns})\n",
    "        VALUES ({placeholders});\n",
    "    \"\"\")\n",
    "    with engine.begin() as connection:\n",
    "        connection.execute(insert_query, data)\n",
    "        print(f\"Participation added: Campaign ID {campaign_id}, Creator ID {creator_id}, Details: {kwargs}\")\n",
    "\n",
    "\n",
    "def modify_participation(participation_id, **kwargs):\n",
    "    updates = ', '.join(f\"{key} = :{key}\" for key in kwargs)\n",
    "    update_query = text(f\"\"\"\n",
    "        UPDATE campaign_participation\n",
    "        SET {updates}\n",
    "        WHERE participation_id = :participation_id;\n",
    "    \"\"\")\n",
    "    kwargs['participation_id'] = participation_id  # Include for WHERE clause\n",
    "    with engine.begin() as connection:\n",
    "        result = connection.execute(update_query, kwargs)\n",
    "        if result.rowcount > 0:\n",
    "            print(f\"Participation ID {participation_id} updated successfully.\")\n",
    "        else:\n",
    "            print(f\"No participation found with ID {participation_id}.\")\n",
    "\n",
    "\n",
    "\n",
    "def get_participation(**kwargs):\n",
    "    if not kwargs:\n",
    "        print(\"No parameters provided to search for participation.\")\n",
    "        return None\n",
    "\n",
    "    # Constructing the WHERE clause based on kwargs\n",
    "    conditions = [f\"{key} = :{key}\" for key in kwargs]\n",
    "    where_clause = \" AND \".join(conditions)\n",
    "    select_query = text(f\"SELECT * FROM campaign_participation WHERE {where_clause}\")\n",
    "\n",
    "    print(select_query)  # Optional: Print the query for debugging\n",
    "    with engine.connect() as connection:\n",
    "        result = connection.execute(select_query, kwargs).fetchone()\n",
    "        print(result)  # Optional: Print the raw result for debugging\n",
    "        \n",
    "        if result:\n",
    "            # Assuming we know the columns in order of the table\n",
    "            participation_dict = {\n",
    "                'participation_id': result[0],\n",
    "                'campaign_id': result[1],\n",
    "                'creator_id': result[2],\n",
    "                'status': result[3],\n",
    "                'role': result[4],\n",
    "                'join_date': result[5]\n",
    "            }\n",
    "            \n",
    "            return participation_dict\n",
    "        else:\n",
    "            print(\"Participation not found.\")\n",
    "            return None"
   ]
  },
  {
   "cell_type": "code",
   "execution_count": 19,
   "metadata": {},
   "outputs": [
    {
     "name": "stdout",
     "output_type": "stream",
     "text": [
      "2024-04-17 15:17:11,578 INFO sqlalchemy.engine.Engine BEGIN (implicit)\n",
      "2024-04-17 15:17:11,579 INFO sqlalchemy.engine.Engine PRAGMA main.table_info(\"SELECT * FROM campaign_participation\")\n",
      "2024-04-17 15:17:11,579 INFO sqlalchemy.engine.Engine [raw sql] ()\n",
      "2024-04-17 15:17:11,580 INFO sqlalchemy.engine.Engine PRAGMA temp.table_info(\"SELECT * FROM campaign_participation\")\n",
      "2024-04-17 15:17:11,580 INFO sqlalchemy.engine.Engine [raw sql] ()\n",
      "2024-04-17 15:17:11,581 INFO sqlalchemy.engine.Engine SELECT * FROM campaign_participation\n",
      "2024-04-17 15:17:11,581 INFO sqlalchemy.engine.Engine [raw sql] ()\n",
      "2024-04-17 15:17:11,583 INFO sqlalchemy.engine.Engine ROLLBACK\n"
     ]
    },
    {
     "data": {
      "text/html": [
       "<div>\n",
       "<style scoped>\n",
       "    .dataframe tbody tr th:only-of-type {\n",
       "        vertical-align: middle;\n",
       "    }\n",
       "\n",
       "    .dataframe tbody tr th {\n",
       "        vertical-align: top;\n",
       "    }\n",
       "\n",
       "    .dataframe thead th {\n",
       "        text-align: right;\n",
       "    }\n",
       "</style>\n",
       "<table border=\"1\" class=\"dataframe\">\n",
       "  <thead>\n",
       "    <tr style=\"text-align: right;\">\n",
       "      <th></th>\n",
       "      <th>participation_id</th>\n",
       "      <th>campaign_id</th>\n",
       "      <th>creator_id</th>\n",
       "      <th>status</th>\n",
       "      <th>role</th>\n",
       "      <th>join_date</th>\n",
       "    </tr>\n",
       "  </thead>\n",
       "  <tbody>\n",
       "    <tr>\n",
       "      <th>0</th>\n",
       "      <td>1</td>\n",
       "      <td>1</td>\n",
       "      <td>5</td>\n",
       "      <td>None</td>\n",
       "      <td>None</td>\n",
       "      <td>2024-04-17 13:14:55</td>\n",
       "    </tr>\n",
       "    <tr>\n",
       "      <th>1</th>\n",
       "      <td>2</td>\n",
       "      <td>1</td>\n",
       "      <td>7</td>\n",
       "      <td>Active</td>\n",
       "      <td>Influenceur</td>\n",
       "      <td>2024-04-17 13:17:09</td>\n",
       "    </tr>\n",
       "  </tbody>\n",
       "</table>\n",
       "</div>"
      ],
      "text/plain": [
       "   participation_id  campaign_id  creator_id  status         role  \\\n",
       "0                 1            1           5    None         None   \n",
       "1                 2            1           7  Active  Influenceur   \n",
       "\n",
       "             join_date  \n",
       "0  2024-04-17 13:14:55  \n",
       "1  2024-04-17 13:17:09  "
      ]
     },
     "execution_count": 19,
     "metadata": {},
     "output_type": "execute_result"
    }
   ],
   "source": [
    "pd.read_sql('SELECT * FROM campaign_participation',engine)"
   ]
  },
  {
   "cell_type": "code",
   "execution_count": 18,
   "metadata": {},
   "outputs": [
    {
     "name": "stdout",
     "output_type": "stream",
     "text": [
      "2024-04-17 15:17:09,648 INFO sqlalchemy.engine.Engine BEGIN (implicit)\n",
      "2024-04-17 15:17:09,649 INFO sqlalchemy.engine.Engine \n",
      "        INSERT INTO campaign_participation (campaign_id, creator_id, status, role)\n",
      "        VALUES (?, ?, ?, ?);\n",
      "    \n",
      "2024-04-17 15:17:09,649 INFO sqlalchemy.engine.Engine [cached since 133.7s ago] (1, 7, 'Active', 'Influenceur')\n",
      "Participation added: Campaign ID 1, Creator ID 7.\n",
      "2024-04-17 15:17:09,652 INFO sqlalchemy.engine.Engine COMMIT\n"
     ]
    }
   ],
   "source": [
    "# Adding a participation with minimal required information\n",
    "add_participation(campaign_id=1, creator_id=7, role='Influenceur', status='Active')"
   ]
  },
  {
   "cell_type": "code",
   "execution_count": 20,
   "metadata": {},
   "outputs": [
    {
     "name": "stdout",
     "output_type": "stream",
     "text": [
      "SELECT * FROM campaign_participation WHERE campaign_id = :campaign_id\n",
      "2024-04-17 15:17:46,362 INFO sqlalchemy.engine.Engine BEGIN (implicit)\n",
      "2024-04-17 15:17:46,363 INFO sqlalchemy.engine.Engine SELECT * FROM campaign_participation WHERE campaign_id = ?\n",
      "2024-04-17 15:17:46,363 INFO sqlalchemy.engine.Engine [generated in 0.00094s] (1,)\n",
      "(1, 1, 5, None, None, '2024-04-17 13:14:55')\n",
      "2024-04-17 15:17:46,364 INFO sqlalchemy.engine.Engine ROLLBACK\n"
     ]
    },
    {
     "data": {
      "text/plain": [
       "{'participation_id': 1,\n",
       " 'campaign_id': 1,\n",
       " 'creator_id': 5,\n",
       " 'status': None,\n",
       " 'role': None,\n",
       " 'join_date': '2024-04-17 13:14:55'}"
      ]
     },
     "execution_count": 20,
     "metadata": {},
     "output_type": "execute_result"
    }
   ],
   "source": [
    "get_participation(campaign_id=1)"
   ]
  },
  {
   "cell_type": "code",
   "execution_count": null,
   "metadata": {},
   "outputs": [],
   "source": []
  },
  {
   "cell_type": "code",
   "execution_count": null,
   "metadata": {},
   "outputs": [],
   "source": []
  },
  {
   "cell_type": "code",
   "execution_count": null,
   "metadata": {},
   "outputs": [],
   "source": []
  }
 ],
 "metadata": {
  "kernelspec": {
   "display_name": "UWenterprise",
   "language": "python",
   "name": "python3"
  },
  "language_info": {
   "codemirror_mode": {
    "name": "ipython",
    "version": 3
   },
   "file_extension": ".py",
   "mimetype": "text/x-python",
   "name": "python",
   "nbconvert_exporter": "python",
   "pygments_lexer": "ipython3",
   "version": "3.11.8"
  }
 },
 "nbformat": 4,
 "nbformat_minor": 2
}
