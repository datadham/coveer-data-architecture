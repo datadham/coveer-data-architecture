{
 "cells": [
  {
   "cell_type": "code",
   "execution_count": null,
   "metadata": {},
   "outputs": [],
   "source": [
    "import pandas as pd \n",
    "from datetime import datetime, timedelta\n",
    "from sqlalchemy import create_engine, text"
   ]
  },
  {
   "cell_type": "markdown",
   "metadata": {},
   "source": [
    "------> Participation _ campaign_id"
   ]
  },
  {
   "cell_type": "code",
   "execution_count": null,
   "metadata": {},
   "outputs": [],
   "source": [
    "create_table_follower = text('''CREATE TABLE IF NOT EXISTS followers (\n",
    "    follower_id INTEGER PRIMARY KEY AUTOINCREMENT, \n",
    "    participation_id INTEGER,\n",
    "    cookies TEXT,\n",
    "    join_date DATETIME DEFAULT CURRENT_TIMESTAMP\n",
    "   \n",
    "   \n",
    "    FOREIGN KEY (campaign_id) REFERENCES campaigns(campaign_id) ON DELETE CASCADE,\n",
    "    UNIQUE (campaign_id, creator_id)  -- ensures each pair is unique\n",
    ");''')"
   ]
  },
  {
   "cell_type": "code",
   "execution_count": null,
   "metadata": {},
   "outputs": [],
   "source": []
  },
  {
   "cell_type": "code",
   "execution_count": null,
   "metadata": {},
   "outputs": [],
   "source": []
  }
 ],
 "metadata": {
  "language_info": {
   "name": "python"
  },
  "orig_nbformat": 4
 },
 "nbformat": 4,
 "nbformat_minor": 2
}
