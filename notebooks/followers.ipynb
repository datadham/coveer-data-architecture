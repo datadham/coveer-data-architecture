{
 "cells": [
  {
   "cell_type": "code",
   "execution_count": 2,
   "metadata": {},
   "outputs": [],
   "source": [
    "import pandas as pd \n",
    "from datetime import datetime, timedelta\n",
    "from sqlalchemy import create_engine, text"
   ]
  },
  {
   "cell_type": "markdown",
   "metadata": {},
   "source": [
    "- Participation _ campaign_id"
   ]
  },
  {
   "cell_type": "code",
   "execution_count": 11,
   "metadata": {},
   "outputs": [],
   "source": [
    "create_table_follower = text('''CREATE TABLE IF NOT EXISTS followers (\n",
    "    follower_id INTEGER PRIMARY KEY AUTOINCREMENT, \n",
    "    participation_id INTEGER,\n",
    "    cookies TEXT,\n",
    "    join_date DATETIME DEFAULT CURRENT_TIMESTAMP,\n",
    "    FOREIGN KEY (participation_id) REFERENCES campaign_participation(participation_id) ON DELETE CASCADE\n",
    ");''')"
   ]
  },
  {
   "cell_type": "code",
   "execution_count": 12,
   "metadata": {},
   "outputs": [],
   "source": [
    "# Create an engine that stores data in the local directory's\n",
    "engine = create_engine('sqlite:///app.db', echo=True)"
   ]
  },
  {
   "cell_type": "code",
   "execution_count": 13,
   "metadata": {},
   "outputs": [
    {
     "name": "stdout",
     "output_type": "stream",
     "text": [
      "2024-04-18 11:11:14,258 INFO sqlalchemy.engine.Engine BEGIN (implicit)\n",
      "2024-04-18 11:11:14,259 INFO sqlalchemy.engine.Engine CREATE TABLE IF NOT EXISTS followers (\n",
      "    follower_id INTEGER PRIMARY KEY AUTOINCREMENT, \n",
      "    participation_id INTEGER,\n",
      "    cookies TEXT,\n",
      "    join_date DATETIME DEFAULT CURRENT_TIMESTAMP,\n",
      "    FOREIGN KEY (participation_id) REFERENCES campaign_participation(participation_id) ON DELETE CASCADE\n",
      ");\n",
      "2024-04-18 11:11:14,259 INFO sqlalchemy.engine.Engine [generated in 0.00116s] ()\n",
      "table created successfully.\n",
      "2024-04-18 11:11:14,265 INFO sqlalchemy.engine.Engine ROLLBACK\n"
     ]
    }
   ],
   "source": [
    "# Assuming 'engine' is already defined and imported from SQLAlchemy setup\n",
    "with engine.connect() as connection:\n",
    "        connection.execute(create_table_follower)\n",
    "        print(\"table created successfully.\")"
   ]
  },
  {
   "cell_type": "code",
   "execution_count": 15,
   "metadata": {},
   "outputs": [
    {
     "name": "stdout",
     "output_type": "stream",
     "text": [
      "2024-04-18 11:11:29,476 INFO sqlalchemy.engine.Engine BEGIN (implicit)\n",
      "2024-04-18 11:11:29,476 INFO sqlalchemy.engine.Engine PRAGMA main.table_info(\"SELECT * FROM followers\")\n",
      "2024-04-18 11:11:29,477 INFO sqlalchemy.engine.Engine [raw sql] ()\n",
      "2024-04-18 11:11:29,478 INFO sqlalchemy.engine.Engine PRAGMA temp.table_info(\"SELECT * FROM followers\")\n",
      "2024-04-18 11:11:29,478 INFO sqlalchemy.engine.Engine [raw sql] ()\n",
      "2024-04-18 11:11:29,479 INFO sqlalchemy.engine.Engine SELECT * FROM followers\n",
      "2024-04-18 11:11:29,479 INFO sqlalchemy.engine.Engine [raw sql] ()\n",
      "2024-04-18 11:11:29,483 INFO sqlalchemy.engine.Engine ROLLBACK\n"
     ]
    },
    {
     "data": {
      "text/html": [
       "<div>\n",
       "<style scoped>\n",
       "    .dataframe tbody tr th:only-of-type {\n",
       "        vertical-align: middle;\n",
       "    }\n",
       "\n",
       "    .dataframe tbody tr th {\n",
       "        vertical-align: top;\n",
       "    }\n",
       "\n",
       "    .dataframe thead th {\n",
       "        text-align: right;\n",
       "    }\n",
       "</style>\n",
       "<table border=\"1\" class=\"dataframe\">\n",
       "  <thead>\n",
       "    <tr style=\"text-align: right;\">\n",
       "      <th></th>\n",
       "      <th>follower_id</th>\n",
       "      <th>participation_id</th>\n",
       "      <th>cookies</th>\n",
       "      <th>join_date</th>\n",
       "    </tr>\n",
       "  </thead>\n",
       "  <tbody>\n",
       "  </tbody>\n",
       "</table>\n",
       "</div>"
      ],
      "text/plain": [
       "Empty DataFrame\n",
       "Columns: [follower_id, participation_id, cookies, join_date]\n",
       "Index: []"
      ]
     },
     "execution_count": 15,
     "metadata": {},
     "output_type": "execute_result"
    }
   ],
   "source": [
    "pd.read_sql('SELECT * FROM followers',engine)"
   ]
  },
  {
   "cell_type": "code",
   "execution_count": 17,
   "metadata": {},
   "outputs": [],
   "source": [
    "def add_follower(participation_id, **kwargs):\n",
    "     data = {'participation_id': participation_id, **kwargs}\n",
    "     columns = ', '.join(data.keys())\n",
    "     placeholders = ', '.join(f\":{key}\" for key in data.keys())\n",
    "\n",
    "     insert_query = text(f\"\"\"\n",
    "            INSERT INTO followers ({columns})\n",
    "            VALUES ({placeholders});\n",
    "        \"\"\")\n",
    "     with engine.begin() as connection:\n",
    "        connection.execute(insert_query, data)\n",
    "        print(f\"Follower added\")\n",
    "\n",
    "\n",
    "def modify_follower(follower_id, **kwargs):\n",
    "    updates = ', '.join(f\"{key} = :{key}\" for key in kwargs)\n",
    "    update_query = text(f\"\"\"\n",
    "        UPDATE campaign_participation\n",
    "        SET {updates}\n",
    "        WHERE follower = :follower_id;\n",
    "    \"\"\")\n",
    "    kwargs['follower_id'] = follower_id  # Include for WHERE clause\n",
    "    with engine.begin() as connection:\n",
    "        result = connection.execute(update_query, kwargs)\n",
    "        if result.rowcount > 0:\n",
    "            print(\"Follower updated\")\n",
    "        else:\n",
    "            print(f\"No follower found with ID {follower_id}.\")\n",
    "\n",
    "\n",
    "\n",
    "def get_follower(**kwargs):\n",
    "    if not kwargs:\n",
    "        print(\"No parameters provided to search for participation.\")\n",
    "        return None\n",
    "\n",
    "    # Constructing the WHERE clause based on kwargs\n",
    "    conditions = [f\"{key} = :{key}\" for key in kwargs]\n",
    "    where_clause = \" AND \".join(conditions)\n",
    "    select_query = text(f\"SELECT * FROM campaign_participation WHERE {where_clause}\")\n",
    "\n",
    "    print(select_query)  # Optional: Print the query for debugging\n",
    "    with engine.connect() as connection:\n",
    "        result = connection.execute(select_query, kwargs).fetchone()\n",
    "        print(result)  # Optional: Print the raw result for debugging\n",
    "        \n",
    "        if result:\n",
    "            # Assuming we know the columns in order of the table\n",
    "            follower_dict = {\n",
    "                'follower_id': result[0],\n",
    "                'participation_id': result[1],\n",
    "                'cookies': result[2],\n",
    "                'join_date': result[3],\n",
    "            }\n",
    "            \n",
    "            return follower_dict\n",
    "        else:\n",
    "            print(\"follower not found.\")\n",
    "            return None"
   ]
  },
  {
   "cell_type": "code",
   "execution_count": 18,
   "metadata": {},
   "outputs": [
    {
     "name": "stdout",
     "output_type": "stream",
     "text": [
      "2024-04-18 11:38:42,161 INFO sqlalchemy.engine.Engine BEGIN (implicit)\n",
      "2024-04-18 11:38:42,162 INFO sqlalchemy.engine.Engine \n",
      "            INSERT INTO followers (participation_id)\n",
      "            VALUES (?);\n",
      "        \n",
      "2024-04-18 11:38:42,162 INFO sqlalchemy.engine.Engine [generated in 0.00067s] (1,)\n",
      "Follower added\n",
      "2024-04-18 11:38:42,171 INFO sqlalchemy.engine.Engine COMMIT\n"
     ]
    }
   ],
   "source": [
    "add_follower(1)"
   ]
  },
  {
   "cell_type": "code",
   "execution_count": 20,
   "metadata": {},
   "outputs": [
    {
     "name": "stdout",
     "output_type": "stream",
     "text": [
      "2024-04-18 11:39:01,231 INFO sqlalchemy.engine.Engine BEGIN (implicit)\n",
      "2024-04-18 11:39:01,232 INFO sqlalchemy.engine.Engine PRAGMA main.table_info(\"SELECT * FROM followers\")\n",
      "2024-04-18 11:39:01,233 INFO sqlalchemy.engine.Engine [raw sql] ()\n",
      "2024-04-18 11:39:01,234 INFO sqlalchemy.engine.Engine PRAGMA temp.table_info(\"SELECT * FROM followers\")\n",
      "2024-04-18 11:39:01,235 INFO sqlalchemy.engine.Engine [raw sql] ()\n",
      "2024-04-18 11:39:01,235 INFO sqlalchemy.engine.Engine SELECT * FROM followers\n",
      "2024-04-18 11:39:01,236 INFO sqlalchemy.engine.Engine [raw sql] ()\n",
      "2024-04-18 11:39:01,239 INFO sqlalchemy.engine.Engine ROLLBACK\n"
     ]
    },
    {
     "data": {
      "text/html": [
       "<div>\n",
       "<style scoped>\n",
       "    .dataframe tbody tr th:only-of-type {\n",
       "        vertical-align: middle;\n",
       "    }\n",
       "\n",
       "    .dataframe tbody tr th {\n",
       "        vertical-align: top;\n",
       "    }\n",
       "\n",
       "    .dataframe thead th {\n",
       "        text-align: right;\n",
       "    }\n",
       "</style>\n",
       "<table border=\"1\" class=\"dataframe\">\n",
       "  <thead>\n",
       "    <tr style=\"text-align: right;\">\n",
       "      <th></th>\n",
       "      <th>follower_id</th>\n",
       "      <th>participation_id</th>\n",
       "      <th>cookies</th>\n",
       "      <th>join_date</th>\n",
       "    </tr>\n",
       "  </thead>\n",
       "  <tbody>\n",
       "    <tr>\n",
       "      <th>0</th>\n",
       "      <td>1</td>\n",
       "      <td>1</td>\n",
       "      <td>None</td>\n",
       "      <td>2024-04-18 09:38:42</td>\n",
       "    </tr>\n",
       "  </tbody>\n",
       "</table>\n",
       "</div>"
      ],
      "text/plain": [
       "   follower_id  participation_id cookies            join_date\n",
       "0            1                 1    None  2024-04-18 09:38:42"
      ]
     },
     "execution_count": 20,
     "metadata": {},
     "output_type": "execute_result"
    }
   ],
   "source": [
    "pd.read_sql(\"SELECT * FROM followers\",engine)"
   ]
  },
  {
   "cell_type": "code",
   "execution_count": null,
   "metadata": {},
   "outputs": [],
   "source": []
  },
  {
   "cell_type": "code",
   "execution_count": null,
   "metadata": {},
   "outputs": [],
   "source": []
  },
  {
   "cell_type": "code",
   "execution_count": null,
   "metadata": {},
   "outputs": [],
   "source": []
  },
  {
   "cell_type": "code",
   "execution_count": null,
   "metadata": {},
   "outputs": [],
   "source": []
  }
 ],
 "metadata": {
  "kernelspec": {
   "display_name": "Python 3 (ipykernel)",
   "language": "python",
   "name": "python3"
  },
  "language_info": {
   "codemirror_mode": {
    "name": "ipython",
    "version": 3
   },
   "file_extension": ".py",
   "mimetype": "text/x-python",
   "name": "python",
   "nbconvert_exporter": "python",
   "pygments_lexer": "ipython3",
   "version": "3.9.7"
  }
 },
 "nbformat": 4,
 "nbformat_minor": 4
}
