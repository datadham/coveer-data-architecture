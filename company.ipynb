{
 "cells": [
  {
   "cell_type": "code",
   "execution_count": 1,
   "metadata": {},
   "outputs": [],
   "source": [
    "from sqlalchemy import create_engine, text\n",
    "import pandas as pd \n",
    "from datetime import datetime, timedelta"
   ]
  },
  {
   "cell_type": "code",
   "execution_count": 2,
   "metadata": {},
   "outputs": [],
   "source": [
    "# Create an engine that stores data in the local directory's\n",
    "engine = create_engine('sqlite:///app.db', echo=True)"
   ]
  },
  {
   "cell_type": "code",
   "execution_count": 23,
   "metadata": {},
   "outputs": [
    {
     "name": "stdout",
     "output_type": "stream",
     "text": [
      "2024-04-16 17:36:08,008 INFO sqlalchemy.engine.Engine BEGIN (implicit)\n",
      "2024-04-16 17:36:08,008 INFO sqlalchemy.engine.Engine DROP TABLE IF EXISTS companies\n",
      "2024-04-16 17:36:08,008 INFO sqlalchemy.engine.Engine [generated in 0.00387s] ()\n",
      "2024-04-16 17:36:08,039 INFO sqlalchemy.engine.Engine ROLLBACK\n"
     ]
    }
   ],
   "source": [
    "with engine.connect() as connection:\n",
    "    connection.execute(text('DROP TABLE IF EXISTS companies'))"
   ]
  },
  {
   "cell_type": "markdown",
   "metadata": {},
   "source": [
    "## Companies "
   ]
  },
  {
   "cell_type": "code",
   "execution_count": 24,
   "metadata": {},
   "outputs": [],
   "source": [
    "create_company_table = text('''CREATE TABLE IF NOT EXISTS companies (\n",
    "    company_id INTEGER PRIMARY KEY AUTOINCREMENT,\n",
    "    user_id INTEGER UNIQUE NOT NULL,\n",
    "    name VARCHAR(255) NOT NULL,\n",
    "    industry VARCHAR(255),\n",
    "    address TEXT,\n",
    "    contact_email VARCHAR(255),\n",
    "    website URL,\n",
    "    description TEXT,\n",
    "    FOREIGN KEY (user_id) REFERENCES users(user_id) ON DELETE CASCADE\n",
    ");''')"
   ]
  },
  {
   "cell_type": "code",
   "execution_count": 25,
   "metadata": {},
   "outputs": [
    {
     "name": "stdout",
     "output_type": "stream",
     "text": [
      "2024-04-16 17:36:13,365 INFO sqlalchemy.engine.Engine BEGIN (implicit)\n",
      "2024-04-16 17:36:13,366 INFO sqlalchemy.engine.Engine CREATE TABLE IF NOT EXISTS companies (\n",
      "    company_id INTEGER PRIMARY KEY AUTOINCREMENT,\n",
      "    user_id INTEGER UNIQUE NOT NULL,\n",
      "    name VARCHAR(255) NOT NULL,\n",
      "    industry VARCHAR(255),\n",
      "    address TEXT,\n",
      "    contact_email VARCHAR(255),\n",
      "    website URL,\n",
      "    description TEXT,\n",
      "    FOREIGN KEY (user_id) REFERENCES users(user_id) ON DELETE CASCADE\n",
      ");\n",
      "2024-04-16 17:36:13,367 INFO sqlalchemy.engine.Engine [cached since 108.9s ago] ()\n",
      "2024-04-16 17:36:13,398 INFO sqlalchemy.engine.Engine ROLLBACK\n"
     ]
    }
   ],
   "source": [
    "# Execute SQL statements\n",
    "with engine.connect() as connection:\n",
    "    connection.execute(create_company_table)"
   ]
  },
  {
   "cell_type": "code",
   "execution_count": 26,
   "metadata": {},
   "outputs": [
    {
     "name": "stdout",
     "output_type": "stream",
     "text": [
      "2024-04-16 17:36:16,130 INFO sqlalchemy.engine.Engine BEGIN (implicit)\n",
      "2024-04-16 17:36:16,131 INFO sqlalchemy.engine.Engine PRAGMA main.table_info(\"SELECT * FROM companies\")\n",
      "2024-04-16 17:36:16,131 INFO sqlalchemy.engine.Engine [raw sql] ()\n",
      "2024-04-16 17:36:16,135 INFO sqlalchemy.engine.Engine PRAGMA temp.table_info(\"SELECT * FROM companies\")\n",
      "2024-04-16 17:36:16,135 INFO sqlalchemy.engine.Engine [raw sql] ()\n",
      "2024-04-16 17:36:16,136 INFO sqlalchemy.engine.Engine SELECT * FROM companies\n",
      "2024-04-16 17:36:16,137 INFO sqlalchemy.engine.Engine [raw sql] ()\n",
      "2024-04-16 17:36:16,139 INFO sqlalchemy.engine.Engine ROLLBACK\n"
     ]
    },
    {
     "data": {
      "text/html": [
       "<div>\n",
       "<style scoped>\n",
       "    .dataframe tbody tr th:only-of-type {\n",
       "        vertical-align: middle;\n",
       "    }\n",
       "\n",
       "    .dataframe tbody tr th {\n",
       "        vertical-align: top;\n",
       "    }\n",
       "\n",
       "    .dataframe thead th {\n",
       "        text-align: right;\n",
       "    }\n",
       "</style>\n",
       "<table border=\"1\" class=\"dataframe\">\n",
       "  <thead>\n",
       "    <tr style=\"text-align: right;\">\n",
       "      <th></th>\n",
       "      <th>company_id</th>\n",
       "      <th>user_id</th>\n",
       "      <th>name</th>\n",
       "      <th>industry</th>\n",
       "      <th>address</th>\n",
       "      <th>contact_email</th>\n",
       "      <th>website</th>\n",
       "      <th>description</th>\n",
       "    </tr>\n",
       "  </thead>\n",
       "  <tbody>\n",
       "  </tbody>\n",
       "</table>\n",
       "</div>"
      ],
      "text/plain": [
       "Empty DataFrame\n",
       "Columns: [company_id, user_id, name, industry, address, contact_email, website, description]\n",
       "Index: []"
      ]
     },
     "execution_count": 26,
     "metadata": {},
     "output_type": "execute_result"
    }
   ],
   "source": [
    "pd.read_sql('SELECT * FROM companies',engine)"
   ]
  },
  {
   "cell_type": "code",
   "execution_count": 32,
   "metadata": {},
   "outputs": [],
   "source": [
    "def add_company(user_id, name, industry, address, contact_email, website, description):\n",
    "    # SQL query to insert a new company\n",
    "    insert_query = text(\"\"\"\n",
    "        INSERT INTO companies (user_id, name, industry, address, contact_email, website, description)\n",
    "        VALUES (:user_id, :name, :industry, :address, :contact_email, :website, :description);\n",
    "    \"\"\")\n",
    "    \n",
    "    # Execute the query within a transaction\n",
    "    with engine.begin() as connection:\n",
    "        connection.execute(insert_query, {\n",
    "            \"user_id\": user_id,\n",
    "            \"name\": name,\n",
    "            \"industry\": industry,\n",
    "            \"address\": address,\n",
    "            \"contact_email\": contact_email,\n",
    "            \"website\": website,\n",
    "            \"description\": description\n",
    "        })\n",
    "        print(f\"Company {name} added successfully.\")\n",
    "\n",
    "\n",
    "def delete_company(company_id):\n",
    "    delete_query = text(\"DELETE FROM companies WHERE company_id = :company_id\")\n",
    "\n",
    "    with engine.begin() as connection:\n",
    "        result = connection.execute(delete_query, {'company_id': company_id})\n",
    "        if result.rowcount > 0:\n",
    "            print(f\"Company with ID {company_id} deleted successfully.\")\n",
    "        else:\n",
    "            print(f\"No company found with ID {company_id}, nothing deleted.\")\n",
    "\n",
    "\n",
    "def modify_company(company_id, **kwargs):\n",
    "    updates = [f\"{key} = :{key}\" for key in kwargs]\n",
    "    update_query = text(f\"UPDATE companies SET {', '.join(updates)} WHERE company_id = :company_id\")\n",
    "\n",
    "    kwargs['company_id'] = company_id  # Adding company_id to the parameters for the WHERE clause\n",
    "\n",
    "    with engine.begin() as connection:\n",
    "        result = connection.execute(update_query, kwargs)\n",
    "        if result.rowcount > 0:\n",
    "            print(f\"Company with ID {company_id} updated successfully.\")\n",
    "        else:\n",
    "            print(f\"No company found with ID {company_id}, nothing updated.\")"
   ]
  },
  {
   "cell_type": "code",
   "execution_count": 33,
   "metadata": {},
   "outputs": [
    {
     "name": "stdout",
     "output_type": "stream",
     "text": [
      "2024-04-16 17:41:19,201 INFO sqlalchemy.engine.Engine BEGIN (implicit)\n",
      "2024-04-16 17:41:19,202 INFO sqlalchemy.engine.Engine PRAGMA main.table_info(\"SELECT * FROM companies\")\n",
      "2024-04-16 17:41:19,202 INFO sqlalchemy.engine.Engine [raw sql] ()\n",
      "2024-04-16 17:41:19,203 INFO sqlalchemy.engine.Engine PRAGMA temp.table_info(\"SELECT * FROM companies\")\n",
      "2024-04-16 17:41:19,203 INFO sqlalchemy.engine.Engine [raw sql] ()\n",
      "2024-04-16 17:41:19,205 INFO sqlalchemy.engine.Engine SELECT * FROM companies\n",
      "2024-04-16 17:41:19,206 INFO sqlalchemy.engine.Engine [raw sql] ()\n",
      "2024-04-16 17:41:19,206 INFO sqlalchemy.engine.Engine ROLLBACK\n"
     ]
    },
    {
     "data": {
      "text/html": [
       "<div>\n",
       "<style scoped>\n",
       "    .dataframe tbody tr th:only-of-type {\n",
       "        vertical-align: middle;\n",
       "    }\n",
       "\n",
       "    .dataframe tbody tr th {\n",
       "        vertical-align: top;\n",
       "    }\n",
       "\n",
       "    .dataframe thead th {\n",
       "        text-align: right;\n",
       "    }\n",
       "</style>\n",
       "<table border=\"1\" class=\"dataframe\">\n",
       "  <thead>\n",
       "    <tr style=\"text-align: right;\">\n",
       "      <th></th>\n",
       "      <th>company_id</th>\n",
       "      <th>user_id</th>\n",
       "      <th>name</th>\n",
       "      <th>industry</th>\n",
       "      <th>address</th>\n",
       "      <th>contact_email</th>\n",
       "      <th>website</th>\n",
       "      <th>description</th>\n",
       "    </tr>\n",
       "  </thead>\n",
       "  <tbody>\n",
       "    <tr>\n",
       "      <th>0</th>\n",
       "      <td>1</td>\n",
       "      <td>1</td>\n",
       "      <td>Tech Innovations Inc.</td>\n",
       "      <td>Technology</td>\n",
       "      <td>123 Tech Drive, Innovation City</td>\n",
       "      <td>contact@techinnovations.com</td>\n",
       "      <td>http://www.techinnovations.com</td>\n",
       "      <td>A leading company in tech innovations aiming t...</td>\n",
       "    </tr>\n",
       "  </tbody>\n",
       "</table>\n",
       "</div>"
      ],
      "text/plain": [
       "   company_id  user_id                   name    industry  \\\n",
       "0           1        1  Tech Innovations Inc.  Technology   \n",
       "\n",
       "                           address                contact_email  \\\n",
       "0  123 Tech Drive, Innovation City  contact@techinnovations.com   \n",
       "\n",
       "                          website  \\\n",
       "0  http://www.techinnovations.com   \n",
       "\n",
       "                                         description  \n",
       "0  A leading company in tech innovations aiming t...  "
      ]
     },
     "execution_count": 33,
     "metadata": {},
     "output_type": "execute_result"
    }
   ],
   "source": [
    "pd.read_sql('SELECT * FROM companies',engine)"
   ]
  },
  {
   "cell_type": "code",
   "execution_count": null,
   "metadata": {},
   "outputs": [],
   "source": [
    "# Example usage\n",
    "add_company(\n",
    "    user_id=1, \n",
    "    name='Tech Innovations Inc.', \n",
    "    industry='Technology', \n",
    "    address='123 Tech Drive, Innovation City', \n",
    "    contact_email='contact@techinnovations.com', \n",
    "    website='http://www.techinnovations.com', \n",
    "    description='A leading company in tech innovations aiming to...'\n",
    ")"
   ]
  },
  {
   "cell_type": "code",
   "execution_count": null,
   "metadata": {},
   "outputs": [],
   "source": []
  }
 ],
 "metadata": {
  "kernelspec": {
   "display_name": "UWenterprise",
   "language": "python",
   "name": "python3"
  },
  "language_info": {
   "codemirror_mode": {
    "name": "ipython",
    "version": 3
   },
   "file_extension": ".py",
   "mimetype": "text/x-python",
   "name": "python",
   "nbconvert_exporter": "python",
   "pygments_lexer": "ipython3",
   "version": "3.11.8"
  }
 },
 "nbformat": 4,
 "nbformat_minor": 2
}
